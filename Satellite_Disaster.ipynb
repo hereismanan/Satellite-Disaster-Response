{
  "nbformat": 4,
  "nbformat_minor": 0,
  "metadata": {
    "colab": {
      "provenance": [],
      "gpuType": "T4"
    },
    "kernelspec": {
      "name": "python3",
      "display_name": "Python 3"
    },
    "language_info": {
      "name": "python"
    },
    "accelerator": "GPU"
  },
  "cells": [
    {
      "cell_type": "code",
      "execution_count": null,
      "metadata": {
        "colab": {
          "base_uri": "https://localhost:8080/"
        },
        "id": "CmDDJoy1MsmM",
        "outputId": "b91ce1bd-f1aa-4403-cb53-a03dfa5bd09b"
      },
      "outputs": [
        {
          "output_type": "stream",
          "name": "stdout",
          "text": [
            "Requirement already satisfied: kaggle in /usr/local/lib/python3.12/dist-packages (1.7.4.5)\n",
            "Requirement already satisfied: bleach in /usr/local/lib/python3.12/dist-packages (from kaggle) (6.2.0)\n",
            "Requirement already satisfied: certifi>=14.05.14 in /usr/local/lib/python3.12/dist-packages (from kaggle) (2025.8.3)\n",
            "Requirement already satisfied: charset-normalizer in /usr/local/lib/python3.12/dist-packages (from kaggle) (3.4.3)\n",
            "Requirement already satisfied: idna in /usr/local/lib/python3.12/dist-packages (from kaggle) (3.10)\n",
            "Requirement already satisfied: protobuf in /usr/local/lib/python3.12/dist-packages (from kaggle) (5.29.5)\n",
            "Requirement already satisfied: python-dateutil>=2.5.3 in /usr/local/lib/python3.12/dist-packages (from kaggle) (2.9.0.post0)\n",
            "Requirement already satisfied: python-slugify in /usr/local/lib/python3.12/dist-packages (from kaggle) (8.0.4)\n",
            "Requirement already satisfied: requests in /usr/local/lib/python3.12/dist-packages (from kaggle) (2.32.4)\n",
            "Requirement already satisfied: setuptools>=21.0.0 in /usr/local/lib/python3.12/dist-packages (from kaggle) (75.2.0)\n",
            "Requirement already satisfied: six>=1.10 in /usr/local/lib/python3.12/dist-packages (from kaggle) (1.17.0)\n",
            "Requirement already satisfied: text-unidecode in /usr/local/lib/python3.12/dist-packages (from kaggle) (1.3)\n",
            "Requirement already satisfied: tqdm in /usr/local/lib/python3.12/dist-packages (from kaggle) (4.67.1)\n",
            "Requirement already satisfied: urllib3>=1.15.1 in /usr/local/lib/python3.12/dist-packages (from kaggle) (2.5.0)\n",
            "Requirement already satisfied: webencodings in /usr/local/lib/python3.12/dist-packages (from kaggle) (0.5.1)\n",
            "Requirement already satisfied: torch in /usr/local/lib/python3.12/dist-packages (2.8.0+cu126)\n",
            "Requirement already satisfied: torchvision in /usr/local/lib/python3.12/dist-packages (0.23.0+cu126)\n",
            "Requirement already satisfied: timm in /usr/local/lib/python3.12/dist-packages (1.0.19)\n",
            "Requirement already satisfied: segmentation-models-pytorch in /usr/local/lib/python3.12/dist-packages (0.5.0)\n",
            "Requirement already satisfied: filelock in /usr/local/lib/python3.12/dist-packages (from torch) (3.19.1)\n",
            "Requirement already satisfied: typing-extensions>=4.10.0 in /usr/local/lib/python3.12/dist-packages (from torch) (4.15.0)\n",
            "Requirement already satisfied: setuptools in /usr/local/lib/python3.12/dist-packages (from torch) (75.2.0)\n",
            "Requirement already satisfied: sympy>=1.13.3 in /usr/local/lib/python3.12/dist-packages (from torch) (1.13.3)\n",
            "Requirement already satisfied: networkx in /usr/local/lib/python3.12/dist-packages (from torch) (3.5)\n",
            "Requirement already satisfied: jinja2 in /usr/local/lib/python3.12/dist-packages (from torch) (3.1.6)\n",
            "Requirement already satisfied: fsspec in /usr/local/lib/python3.12/dist-packages (from torch) (2025.3.0)\n",
            "Requirement already satisfied: nvidia-cuda-nvrtc-cu12==12.6.77 in /usr/local/lib/python3.12/dist-packages (from torch) (12.6.77)\n",
            "Requirement already satisfied: nvidia-cuda-runtime-cu12==12.6.77 in /usr/local/lib/python3.12/dist-packages (from torch) (12.6.77)\n",
            "Requirement already satisfied: nvidia-cuda-cupti-cu12==12.6.80 in /usr/local/lib/python3.12/dist-packages (from torch) (12.6.80)\n",
            "Requirement already satisfied: nvidia-cudnn-cu12==9.10.2.21 in /usr/local/lib/python3.12/dist-packages (from torch) (9.10.2.21)\n",
            "Requirement already satisfied: nvidia-cublas-cu12==12.6.4.1 in /usr/local/lib/python3.12/dist-packages (from torch) (12.6.4.1)\n",
            "Requirement already satisfied: nvidia-cufft-cu12==11.3.0.4 in /usr/local/lib/python3.12/dist-packages (from torch) (11.3.0.4)\n",
            "Requirement already satisfied: nvidia-curand-cu12==10.3.7.77 in /usr/local/lib/python3.12/dist-packages (from torch) (10.3.7.77)\n",
            "Requirement already satisfied: nvidia-cusolver-cu12==11.7.1.2 in /usr/local/lib/python3.12/dist-packages (from torch) (11.7.1.2)\n",
            "Requirement already satisfied: nvidia-cusparse-cu12==12.5.4.2 in /usr/local/lib/python3.12/dist-packages (from torch) (12.5.4.2)\n",
            "Requirement already satisfied: nvidia-cusparselt-cu12==0.7.1 in /usr/local/lib/python3.12/dist-packages (from torch) (0.7.1)\n",
            "Requirement already satisfied: nvidia-nccl-cu12==2.27.3 in /usr/local/lib/python3.12/dist-packages (from torch) (2.27.3)\n",
            "Requirement already satisfied: nvidia-nvtx-cu12==12.6.77 in /usr/local/lib/python3.12/dist-packages (from torch) (12.6.77)\n",
            "Requirement already satisfied: nvidia-nvjitlink-cu12==12.6.85 in /usr/local/lib/python3.12/dist-packages (from torch) (12.6.85)\n",
            "Requirement already satisfied: nvidia-cufile-cu12==1.11.1.6 in /usr/local/lib/python3.12/dist-packages (from torch) (1.11.1.6)\n",
            "Requirement already satisfied: triton==3.4.0 in /usr/local/lib/python3.12/dist-packages (from torch) (3.4.0)\n",
            "Requirement already satisfied: numpy in /usr/local/lib/python3.12/dist-packages (from torchvision) (2.0.2)\n",
            "Requirement already satisfied: pillow!=8.3.*,>=5.3.0 in /usr/local/lib/python3.12/dist-packages (from torchvision) (11.3.0)\n",
            "Requirement already satisfied: pyyaml in /usr/local/lib/python3.12/dist-packages (from timm) (6.0.2)\n",
            "Requirement already satisfied: huggingface_hub in /usr/local/lib/python3.12/dist-packages (from timm) (0.34.4)\n",
            "Requirement already satisfied: safetensors in /usr/local/lib/python3.12/dist-packages (from timm) (0.6.2)\n",
            "Requirement already satisfied: tqdm>=4.42.1 in /usr/local/lib/python3.12/dist-packages (from segmentation-models-pytorch) (4.67.1)\n",
            "Requirement already satisfied: packaging>=20.9 in /usr/local/lib/python3.12/dist-packages (from huggingface_hub->timm) (25.0)\n",
            "Requirement already satisfied: requests in /usr/local/lib/python3.12/dist-packages (from huggingface_hub->timm) (2.32.4)\n",
            "Requirement already satisfied: hf-xet<2.0.0,>=1.1.3 in /usr/local/lib/python3.12/dist-packages (from huggingface_hub->timm) (1.1.9)\n",
            "Requirement already satisfied: mpmath<1.4,>=1.1.0 in /usr/local/lib/python3.12/dist-packages (from sympy>=1.13.3->torch) (1.3.0)\n",
            "Requirement already satisfied: MarkupSafe>=2.0 in /usr/local/lib/python3.12/dist-packages (from jinja2->torch) (3.0.2)\n",
            "Requirement already satisfied: charset_normalizer<4,>=2 in /usr/local/lib/python3.12/dist-packages (from requests->huggingface_hub->timm) (3.4.3)\n",
            "Requirement already satisfied: idna<4,>=2.5 in /usr/local/lib/python3.12/dist-packages (from requests->huggingface_hub->timm) (3.10)\n",
            "Requirement already satisfied: urllib3<3,>=1.21.1 in /usr/local/lib/python3.12/dist-packages (from requests->huggingface_hub->timm) (2.5.0)\n",
            "Requirement already satisfied: certifi>=2017.4.17 in /usr/local/lib/python3.12/dist-packages (from requests->huggingface_hub->timm) (2025.8.3)\n",
            "Requirement already satisfied: rasterio in /usr/local/lib/python3.12/dist-packages (1.4.3)\n",
            "Requirement already satisfied: opencv-python in /usr/local/lib/python3.12/dist-packages (4.12.0.88)\n",
            "Requirement already satisfied: matplotlib in /usr/local/lib/python3.12/dist-packages (3.10.0)\n",
            "Requirement already satisfied: affine in /usr/local/lib/python3.12/dist-packages (from rasterio) (2.4.0)\n",
            "Requirement already satisfied: attrs in /usr/local/lib/python3.12/dist-packages (from rasterio) (25.3.0)\n",
            "Requirement already satisfied: certifi in /usr/local/lib/python3.12/dist-packages (from rasterio) (2025.8.3)\n",
            "Requirement already satisfied: click>=4.0 in /usr/local/lib/python3.12/dist-packages (from rasterio) (8.2.1)\n",
            "Requirement already satisfied: cligj>=0.5 in /usr/local/lib/python3.12/dist-packages (from rasterio) (0.7.2)\n",
            "Requirement already satisfied: numpy>=1.24 in /usr/local/lib/python3.12/dist-packages (from rasterio) (2.0.2)\n",
            "Requirement already satisfied: click-plugins in /usr/local/lib/python3.12/dist-packages (from rasterio) (1.1.1.2)\n",
            "Requirement already satisfied: pyparsing in /usr/local/lib/python3.12/dist-packages (from rasterio) (3.2.3)\n",
            "Requirement already satisfied: contourpy>=1.0.1 in /usr/local/lib/python3.12/dist-packages (from matplotlib) (1.3.3)\n",
            "Requirement already satisfied: cycler>=0.10 in /usr/local/lib/python3.12/dist-packages (from matplotlib) (0.12.1)\n",
            "Requirement already satisfied: fonttools>=4.22.0 in /usr/local/lib/python3.12/dist-packages (from matplotlib) (4.59.2)\n",
            "Requirement already satisfied: kiwisolver>=1.3.1 in /usr/local/lib/python3.12/dist-packages (from matplotlib) (1.4.9)\n",
            "Requirement already satisfied: packaging>=20.0 in /usr/local/lib/python3.12/dist-packages (from matplotlib) (25.0)\n",
            "Requirement already satisfied: pillow>=8 in /usr/local/lib/python3.12/dist-packages (from matplotlib) (11.3.0)\n",
            "Requirement already satisfied: python-dateutil>=2.7 in /usr/local/lib/python3.12/dist-packages (from matplotlib) (2.9.0.post0)\n",
            "Requirement already satisfied: six>=1.5 in /usr/local/lib/python3.12/dist-packages (from python-dateutil>=2.7->matplotlib) (1.17.0)\n"
          ]
        }
      ],
      "source": [
        "!pip install kaggle\n",
        "!pip install torch torchvision timm segmentation-models-pytorch\n",
        "!pip install rasterio opencv-python matplotlib\n"
      ]
    },
    {
      "cell_type": "code",
      "source": [
        "from google.colab import files\n",
        "files.upload()  # Upload kaggle.json here\n"
      ],
      "metadata": {
        "colab": {
          "base_uri": "https://localhost:8080/",
          "height": 56
        },
        "id": "Qc0pcpnrM6sI",
        "outputId": "fe2c05d9-9e43-4042-d828-413651b24bf4"
      },
      "execution_count": 1,
      "outputs": [
        {
          "output_type": "display_data",
          "data": {
            "text/plain": [
              "<IPython.core.display.HTML object>"
            ],
            "text/html": [
              "\n",
              "     <input type=\"file\" id=\"files-3f5a750c-db2c-40cd-9dd9-363d3edd3958\" name=\"files[]\" multiple disabled\n",
              "        style=\"border:none\" />\n",
              "     <output id=\"result-3f5a750c-db2c-40cd-9dd9-363d3edd3958\">\n",
              "      Upload widget is only available when the cell has been executed in the\n",
              "      current browser session. Please rerun this cell to enable.\n",
              "      </output>\n",
              "      <script>// Copyright 2017 Google LLC\n",
              "//\n",
              "// Licensed under the Apache License, Version 2.0 (the \"License\");\n",
              "// you may not use this file except in compliance with the License.\n",
              "// You may obtain a copy of the License at\n",
              "//\n",
              "//      http://www.apache.org/licenses/LICENSE-2.0\n",
              "//\n",
              "// Unless required by applicable law or agreed to in writing, software\n",
              "// distributed under the License is distributed on an \"AS IS\" BASIS,\n",
              "// WITHOUT WARRANTIES OR CONDITIONS OF ANY KIND, either express or implied.\n",
              "// See the License for the specific language governing permissions and\n",
              "// limitations under the License.\n",
              "\n",
              "/**\n",
              " * @fileoverview Helpers for google.colab Python module.\n",
              " */\n",
              "(function(scope) {\n",
              "function span(text, styleAttributes = {}) {\n",
              "  const element = document.createElement('span');\n",
              "  element.textContent = text;\n",
              "  for (const key of Object.keys(styleAttributes)) {\n",
              "    element.style[key] = styleAttributes[key];\n",
              "  }\n",
              "  return element;\n",
              "}\n",
              "\n",
              "// Max number of bytes which will be uploaded at a time.\n",
              "const MAX_PAYLOAD_SIZE = 100 * 1024;\n",
              "\n",
              "function _uploadFiles(inputId, outputId) {\n",
              "  const steps = uploadFilesStep(inputId, outputId);\n",
              "  const outputElement = document.getElementById(outputId);\n",
              "  // Cache steps on the outputElement to make it available for the next call\n",
              "  // to uploadFilesContinue from Python.\n",
              "  outputElement.steps = steps;\n",
              "\n",
              "  return _uploadFilesContinue(outputId);\n",
              "}\n",
              "\n",
              "// This is roughly an async generator (not supported in the browser yet),\n",
              "// where there are multiple asynchronous steps and the Python side is going\n",
              "// to poll for completion of each step.\n",
              "// This uses a Promise to block the python side on completion of each step,\n",
              "// then passes the result of the previous step as the input to the next step.\n",
              "function _uploadFilesContinue(outputId) {\n",
              "  const outputElement = document.getElementById(outputId);\n",
              "  const steps = outputElement.steps;\n",
              "\n",
              "  const next = steps.next(outputElement.lastPromiseValue);\n",
              "  return Promise.resolve(next.value.promise).then((value) => {\n",
              "    // Cache the last promise value to make it available to the next\n",
              "    // step of the generator.\n",
              "    outputElement.lastPromiseValue = value;\n",
              "    return next.value.response;\n",
              "  });\n",
              "}\n",
              "\n",
              "/**\n",
              " * Generator function which is called between each async step of the upload\n",
              " * process.\n",
              " * @param {string} inputId Element ID of the input file picker element.\n",
              " * @param {string} outputId Element ID of the output display.\n",
              " * @return {!Iterable<!Object>} Iterable of next steps.\n",
              " */\n",
              "function* uploadFilesStep(inputId, outputId) {\n",
              "  const inputElement = document.getElementById(inputId);\n",
              "  inputElement.disabled = false;\n",
              "\n",
              "  const outputElement = document.getElementById(outputId);\n",
              "  outputElement.innerHTML = '';\n",
              "\n",
              "  const pickedPromise = new Promise((resolve) => {\n",
              "    inputElement.addEventListener('change', (e) => {\n",
              "      resolve(e.target.files);\n",
              "    });\n",
              "  });\n",
              "\n",
              "  const cancel = document.createElement('button');\n",
              "  inputElement.parentElement.appendChild(cancel);\n",
              "  cancel.textContent = 'Cancel upload';\n",
              "  const cancelPromise = new Promise((resolve) => {\n",
              "    cancel.onclick = () => {\n",
              "      resolve(null);\n",
              "    };\n",
              "  });\n",
              "\n",
              "  // Wait for the user to pick the files.\n",
              "  const files = yield {\n",
              "    promise: Promise.race([pickedPromise, cancelPromise]),\n",
              "    response: {\n",
              "      action: 'starting',\n",
              "    }\n",
              "  };\n",
              "\n",
              "  cancel.remove();\n",
              "\n",
              "  // Disable the input element since further picks are not allowed.\n",
              "  inputElement.disabled = true;\n",
              "\n",
              "  if (!files) {\n",
              "    return {\n",
              "      response: {\n",
              "        action: 'complete',\n",
              "      }\n",
              "    };\n",
              "  }\n",
              "\n",
              "  for (const file of files) {\n",
              "    const li = document.createElement('li');\n",
              "    li.append(span(file.name, {fontWeight: 'bold'}));\n",
              "    li.append(span(\n",
              "        `(${file.type || 'n/a'}) - ${file.size} bytes, ` +\n",
              "        `last modified: ${\n",
              "            file.lastModifiedDate ? file.lastModifiedDate.toLocaleDateString() :\n",
              "                                    'n/a'} - `));\n",
              "    const percent = span('0% done');\n",
              "    li.appendChild(percent);\n",
              "\n",
              "    outputElement.appendChild(li);\n",
              "\n",
              "    const fileDataPromise = new Promise((resolve) => {\n",
              "      const reader = new FileReader();\n",
              "      reader.onload = (e) => {\n",
              "        resolve(e.target.result);\n",
              "      };\n",
              "      reader.readAsArrayBuffer(file);\n",
              "    });\n",
              "    // Wait for the data to be ready.\n",
              "    let fileData = yield {\n",
              "      promise: fileDataPromise,\n",
              "      response: {\n",
              "        action: 'continue',\n",
              "      }\n",
              "    };\n",
              "\n",
              "    // Use a chunked sending to avoid message size limits. See b/62115660.\n",
              "    let position = 0;\n",
              "    do {\n",
              "      const length = Math.min(fileData.byteLength - position, MAX_PAYLOAD_SIZE);\n",
              "      const chunk = new Uint8Array(fileData, position, length);\n",
              "      position += length;\n",
              "\n",
              "      const base64 = btoa(String.fromCharCode.apply(null, chunk));\n",
              "      yield {\n",
              "        response: {\n",
              "          action: 'append',\n",
              "          file: file.name,\n",
              "          data: base64,\n",
              "        },\n",
              "      };\n",
              "\n",
              "      let percentDone = fileData.byteLength === 0 ?\n",
              "          100 :\n",
              "          Math.round((position / fileData.byteLength) * 100);\n",
              "      percent.textContent = `${percentDone}% done`;\n",
              "\n",
              "    } while (position < fileData.byteLength);\n",
              "  }\n",
              "\n",
              "  // All done.\n",
              "  yield {\n",
              "    response: {\n",
              "      action: 'complete',\n",
              "    }\n",
              "  };\n",
              "}\n",
              "\n",
              "scope.google = scope.google || {};\n",
              "scope.google.colab = scope.google.colab || {};\n",
              "scope.google.colab._files = {\n",
              "  _uploadFiles,\n",
              "  _uploadFilesContinue,\n",
              "};\n",
              "})(self);\n",
              "</script> "
            ]
          },
          "metadata": {}
        },
        {
          "output_type": "execute_result",
          "data": {
            "text/plain": [
              "{}"
            ]
          },
          "metadata": {},
          "execution_count": 1
        }
      ]
    },
    {
      "cell_type": "code",
      "source": [
        "!mkdir -p ~/.kaggle\n",
        "!mv kaggle.json ~/.kaggle/\n",
        "!chmod 600 ~/.kaggle/kaggle.json\n"
      ],
      "metadata": {
        "id": "-J33qPshNBjX"
      },
      "execution_count": null,
      "outputs": []
    },
    {
      "cell_type": "code",
      "source": [
        "!kaggle datasets list -s xview2\n"
      ],
      "metadata": {
        "colab": {
          "base_uri": "https://localhost:8080/"
        },
        "id": "AbUulBdcNFq0",
        "outputId": "b43fd23a-ff39-41ad-8d76-0d9db9f15ecc"
      },
      "execution_count": null,
      "outputs": [
        {
          "output_type": "stream",
          "name": "stdout",
          "text": [
            "ref                                             title                                             size  lastUpdated                 downloadCount  voteCount  usabilityRating  \n",
            "----------------------------------------------  -----------------------------------------  -----------  --------------------------  -------------  ---------  ---------------  \n",
            "tunguz/xview2-challenge-dataset-tier-3-data     xView2 Challenge Dataset - Tier 3 Data     18593707905  2019-11-21 00:46:47.197000            823         17  0.625            \n",
            "tunguz/xview2-challenge-dataset-train-and-test  xView2 Challenge Dataset - train and test  11105326709  2019-11-20 22:39:38.477000           1322         16  0.625            \n",
            "olgaiv39/xview2                                 xview2                                     11102314351  2019-12-13 21:42:11.200000             27          2  0.125            \n",
            "louisekita/xview2                               xview2                                      8389173184  2022-03-18 06:11:39.500000             22          1  0.1875           \n",
            "juliano107/xview2-data                          xview2-data                                54847416522  2025-01-10 18:57:49.107000              5          0  0.25             \n",
            "olgaiv39/xview2tier3                            xview2tier3                                18587648627  2019-12-13 17:36:44.383000             13          1  0.125            \n",
            "mpbm2020/train-xview2                           HTCV_Seminar                               13991435553  2023-06-14 16:34:08.783000             10          2  0.1875           \n",
            "datascienceg15/xview2-test-images               xview2_test_images                          2780685614  2020-09-17 04:28:35.200000              9          0  0.1875           \n",
            "mani510/xview2-v2                               Xview2-v2                                  19223402137  2025-08-09 18:13:43.730000              3          0  0.0              \n",
            "louisekita/xview2-test1                         xview2_test1                                 740832736  2022-03-29 18:10:03.763000             11          0  0.125            \n",
            "waleed616/test-images-xview2                    test_images_xview2                          2780724774  2020-09-14 15:33:40.430000              6          0  0.1875           \n"
          ]
        }
      ]
    },
    {
      "cell_type": "code",
      "source": [
        "!kaggle datasets download -d louisekita/xview2-test1 -p .\n"
      ],
      "metadata": {
        "colab": {
          "base_uri": "https://localhost:8080/"
        },
        "id": "wf36oaGUNPfz",
        "outputId": "1d6eb236-4ebc-44dc-92e8-21cb96c1f506"
      },
      "execution_count": null,
      "outputs": [
        {
          "output_type": "stream",
          "name": "stdout",
          "text": [
            "Dataset URL: https://www.kaggle.com/datasets/louisekita/xview2-test1\n",
            "License(s): unknown\n",
            "Downloading xview2-test1.zip to .\n",
            " 98% 692M/707M [00:02<00:00, 216MB/s]\n",
            "100% 707M/707M [00:02<00:00, 293MB/s]\n"
          ]
        }
      ]
    },
    {
      "cell_type": "code",
      "source": [
        "!unzip -q xview2-test1.zip -d xview2_data\n"
      ],
      "metadata": {
        "id": "1MTIJVrfNZQZ"
      },
      "execution_count": null,
      "outputs": []
    },
    {
      "cell_type": "code",
      "source": [
        "import os\n",
        "\n",
        "for root, dirs, files in os.walk(\"xview2_data\", topdown=True):\n",
        "    level = root.replace(\"xview2_data\", \"\").count(os.sep)\n",
        "    indent = \" \" * 4 * level\n",
        "    print(f\"{indent}{os.path.basename(root)}/\")\n",
        "    subindent = \" \" * 4 * (level + 1)\n",
        "    for f in files[:5]:  # show only first 5 files per folder\n",
        "        print(f\"{subindent}{f}\")\n"
      ],
      "metadata": {
        "colab": {
          "base_uri": "https://localhost:8080/"
        },
        "id": "b-oIRtQMNZY2",
        "outputId": "f2421a51-5354-4df2-e0b6-54d77926d1c4"
      },
      "execution_count": null,
      "outputs": [
        {
          "output_type": "stream",
          "name": "stdout",
          "text": [
            "xview2_data/\n",
            "    santa-rosa-wildfire/\n",
            "        masks/\n",
            "            santa-rosa-wildfire_00000142_pre_disaster.png\n",
            "            santa-rosa-wildfire_00000287_pre_disaster.png\n",
            "            santa-rosa-wildfire_00000111_pre_disaster.png\n",
            "            santa-rosa-wildfire_00000072_pre_disaster.png\n",
            "            santa-rosa-wildfire_00000371_pre_disaster.png\n",
            "        labels/\n",
            "            santa-rosa-wildfire_00000374_post_disaster.json\n",
            "            santa-rosa-wildfire_00000374_pre_disaster.json\n",
            "            santa-rosa-wildfire_00000301_post_disaster.json\n",
            "            santa-rosa-wildfire_00000136_pre_disaster.json\n",
            "            santa-rosa-wildfire_00000136_post_disaster.json\n",
            "        images/\n",
            "            santa-rosa-wildfire_00000142_pre_disaster.png\n",
            "            santa-rosa-wildfire_00000287_pre_disaster.png\n",
            "            santa-rosa-wildfire_00000165_post_disaster.png\n",
            "            santa-rosa-wildfire_00000111_pre_disaster.png\n",
            "            santa-rosa-wildfire_00000072_pre_disaster.png\n"
          ]
        }
      ]
    },
    {
      "cell_type": "code",
      "source": [],
      "metadata": {
        "id": "XT1w9QeQOBbQ"
      },
      "execution_count": null,
      "outputs": []
    },
    {
      "cell_type": "code",
      "source": [
        "print(\"Feature keys:\", features.keys())\n",
        "\n",
        "# Inspect one key's contents\n",
        "for key in features.keys():\n",
        "    print(f\"\\nKey: {key} → type: {type(features[key])}\")\n",
        "    if isinstance(features[key], list):\n",
        "        print(f\"Length of {key}:\", len(features[key]))\n",
        "        if len(features[key]) > 0:\n",
        "            print(\"First element keys:\", features[key][0].keys())\n"
      ],
      "metadata": {
        "colab": {
          "base_uri": "https://localhost:8080/"
        },
        "id": "pV4njsZAOde5",
        "outputId": "6d4dbf65-7fe4-4855-cac5-cabff98cbbc4"
      },
      "execution_count": null,
      "outputs": [
        {
          "output_type": "stream",
          "name": "stdout",
          "text": [
            "Feature keys: dict_keys(['lng_lat', 'xy'])\n",
            "\n",
            "Key: lng_lat → type: <class 'list'>\n",
            "Length of lng_lat: 3\n",
            "First element keys: dict_keys(['properties', 'wkt'])\n",
            "\n",
            "Key: xy → type: <class 'list'>\n",
            "Length of xy: 3\n",
            "First element keys: dict_keys(['properties', 'wkt'])\n"
          ]
        }
      ]
    },
    {
      "cell_type": "code",
      "source": [
        "import os\n",
        "import glob\n",
        "\n",
        "BASE_DIR = \"xview2_data/santa-rosa-wildfire\"\n",
        "IMG_DIR = os.path.join(BASE_DIR, \"images\")\n",
        "LBL_DIR = os.path.join(BASE_DIR, \"labels\")\n",
        "\n",
        "img_files = sorted(glob.glob(os.path.join(IMG_DIR, \"*.png\")))\n",
        "lbl_files = sorted(glob.glob(os.path.join(LBL_DIR, \"*.json\")))\n",
        "\n",
        "print(\"🖼️ Total images:\", len(img_files))\n",
        "print(\"📄 Total labels:\", len(lbl_files))\n",
        "\n",
        "for lbl in lbl_files[:5]:\n",
        "    base = os.path.basename(lbl).replace(\"_post_disaster.json\", \"\").replace(\"_pre_disaster.json\", \"\")\n",
        "    pre_img = os.path.join(IMG_DIR, f\"{base}_pre_disaster.png\")\n",
        "    post_img = os.path.join(IMG_DIR, f\"{base}_post_disaster.png\")\n",
        "    print(f\"\\nLabel: {lbl}\")\n",
        "    print(\"Pre image exists? \", os.path.exists(pre_img))\n",
        "    print(\"Post image exists?\", os.path.exists(post_img))\n"
      ],
      "metadata": {
        "colab": {
          "base_uri": "https://localhost:8080/"
        },
        "id": "yh9XAhr3PCVf",
        "outputId": "d8cffdee-aacb-4105-b54e-cb0bea958937"
      },
      "execution_count": null,
      "outputs": [
        {
          "output_type": "stream",
          "name": "stdout",
          "text": [
            "🖼️ Total images: 452\n",
            "📄 Total labels: 452\n",
            "\n",
            "Label: xview2_data/santa-rosa-wildfire/labels/santa-rosa-wildfire_00000002_post_disaster.json\n",
            "Pre image exists?  True\n",
            "Post image exists? True\n",
            "\n",
            "Label: xview2_data/santa-rosa-wildfire/labels/santa-rosa-wildfire_00000002_pre_disaster.json\n",
            "Pre image exists?  True\n",
            "Post image exists? True\n",
            "\n",
            "Label: xview2_data/santa-rosa-wildfire/labels/santa-rosa-wildfire_00000003_post_disaster.json\n",
            "Pre image exists?  True\n",
            "Post image exists? True\n",
            "\n",
            "Label: xview2_data/santa-rosa-wildfire/labels/santa-rosa-wildfire_00000003_pre_disaster.json\n",
            "Pre image exists?  True\n",
            "Post image exists? True\n",
            "\n",
            "Label: xview2_data/santa-rosa-wildfire/labels/santa-rosa-wildfire_00000004_post_disaster.json\n",
            "Pre image exists?  True\n",
            "Post image exists? True\n"
          ]
        }
      ]
    },
    {
      "cell_type": "code",
      "source": [
        "import json\n",
        "\n",
        "sample_json = \"xview2_data/santa-rosa-wildfire/labels/santa-rosa-wildfire_00000002_post_disaster.json\"\n",
        "\n",
        "with open(sample_json, \"r\") as f:\n",
        "    data = json.load(f)\n",
        "\n",
        "features = data.get(\"features\", {})\n",
        "print(\"Keys in features:\", features.keys())\n",
        "\n",
        "for key in features.keys():\n",
        "    print(f\"{key} → {len(features[key])} items\")\n",
        "    if len(features[key]) > 0:\n",
        "        print(\"First element keys:\", features[key][0].keys())\n",
        "        print(\"First element sample:\", features[key][0])\n"
      ],
      "metadata": {
        "colab": {
          "base_uri": "https://localhost:8080/"
        },
        "id": "xIDCr_9LPRUR",
        "outputId": "411c8534-f65f-42c7-bd9a-579b65f4fa0b"
      },
      "execution_count": null,
      "outputs": [
        {
          "output_type": "stream",
          "name": "stdout",
          "text": [
            "Keys in features: dict_keys(['lng_lat', 'xy'])\n",
            "lng_lat → 114 items\n",
            "First element keys: dict_keys(['properties', 'wkt'])\n",
            "First element sample: {'properties': {'feature_type': 'building', 'subtype': 'no-damage', 'uid': '67ec3baa-c68e-4187-b98e-a0d453cabd8f'}, 'wkt': 'POLYGON ((-122.7695959650581 38.49260089067831, -122.7694263829402 38.49259829062002, -122.76942905138 38.4925179984921, -122.7695977965323 38.4925197568224, -122.7695977133435 38.49255283588552, -122.7695959650581 38.49260089067831))'}\n",
            "xy → 114 items\n",
            "First element keys: dict_keys(['properties', 'wkt'])\n",
            "First element sample: {'properties': {'feature_type': 'building', 'subtype': 'no-damage', 'uid': '67ec3baa-c68e-4187-b98e-a0d453cabd8f'}, 'wkt': 'POLYGON ((603.0370635205642 907.2332839854768, 636.0523966102161 907.7946718973542, 635.5827293760377 927.6847945381896, 602.7308195682341 927.3314986613848, 602.7265060094127 919.1375841681667, 603.0370635205642 907.2332839854768))'}\n"
          ]
        }
      ]
    },
    {
      "cell_type": "code",
      "source": [
        "import os\n",
        "from glob import glob\n",
        "\n",
        "LABELS_DIR = \"/content/xview2_data/santa-rosa-wildfire/labels\"\n",
        "annotation_files = glob(os.path.join(LABELS_DIR, \"*.json\"))\n",
        "\n",
        "print(\"📊 Total JSON annotation files:\", len(annotation_files))\n"
      ],
      "metadata": {
        "colab": {
          "base_uri": "https://localhost:8080/"
        },
        "id": "toTBnui5Wt9b",
        "outputId": "7ed802f5-b89a-46dd-d620-fce26cbec697"
      },
      "execution_count": null,
      "outputs": [
        {
          "output_type": "stream",
          "name": "stdout",
          "text": [
            "📊 Total JSON annotation files: 452\n"
          ]
        }
      ]
    },
    {
      "cell_type": "code",
      "source": [
        "import os\n",
        "import json\n",
        "import cv2\n",
        "import numpy as np\n",
        "from shapely import wkt\n",
        "from shapely.geometry import Polygon\n",
        "from shapely.affinity import affine_transform\n",
        "from glob import glob\n",
        "from tqdm import tqdm\n",
        "\n",
        "# === Paths ===\n",
        "BASE_DIR = \"/content/xview2_data/santa-rosa-wildfire\"\n",
        "IMAGES_DIR = os.path.join(BASE_DIR, \"images\")\n",
        "LABELS_DIR = os.path.join(BASE_DIR, \"labels\")\n",
        "OUT_DIR = \"/content/patches\"\n",
        "os.makedirs(OUT_DIR, exist_ok=True)\n",
        "\n",
        "# === Damage class mapping ===\n",
        "damage_dict = {\n",
        "    \"no-damage\": 0,\n",
        "    \"minor-damage\": 1,\n",
        "    \"major-damage\": 2,\n",
        "    \"destroyed\": 3\n",
        "}\n",
        "\n",
        "# === Function: extract building patches ===\n",
        "def extract_building_patches(pre_img_path, post_img_path, annotation_path, out_dir, patch_size=128):\n",
        "    with open(annotation_path, \"r\") as f:\n",
        "        data = json.load(f)\n",
        "\n",
        "    # Features live inside \"xy\"\n",
        "    features = data.get(\"features\", {}).get(\"xy\", [])\n",
        "    if not features:\n",
        "        print(f\"⚠️ No features in {annotation_path}\")\n",
        "        return\n",
        "\n",
        "    pre_img = cv2.imread(pre_img_path)\n",
        "    post_img = cv2.imread(post_img_path)\n",
        "\n",
        "    if pre_img is None or post_img is None:\n",
        "        print(f\"⚠️ Could not load images for {annotation_path}\")\n",
        "        return\n",
        "\n",
        "    h, w, _ = pre_img.shape\n",
        "\n",
        "    count = 0\n",
        "    for feat in features:\n",
        "        props = feat.get(\"properties\", {})\n",
        "        damage_type = props.get(\"subtype\", \"no-damage\")\n",
        "\n",
        "        if damage_type not in damage_dict:\n",
        "            continue\n",
        "\n",
        "        poly_wkt = feat.get(\"wkt\")\n",
        "        try:\n",
        "            poly = wkt.loads(poly_wkt)\n",
        "        except:\n",
        "            continue\n",
        "\n",
        "        # Convert polygon coordinates to bounding box\n",
        "        minx, miny, maxx, maxy = poly.bounds\n",
        "\n",
        "        # Ensure integer coordinates within image\n",
        "        x1, y1, x2, y2 = map(int, [max(minx, 0), max(miny, 0), min(maxx, w), min(maxy, h)])\n",
        "\n",
        "        if x2 - x1 < 10 or y2 - y1 < 10:\n",
        "            continue  # too small\n",
        "\n",
        "        pre_crop = pre_img[y1:y2, x1:x2]\n",
        "        post_crop = post_img[y1:y2, x1:x2]\n",
        "\n",
        "        # Resize both to patch_size\n",
        "        pre_crop = cv2.resize(pre_crop, (patch_size, patch_size))\n",
        "        post_crop = cv2.resize(post_crop, (patch_size, patch_size))\n",
        "\n",
        "        # Save patches into class folder\n",
        "        dmg_label = damage_type.replace(\" \", \"_\")\n",
        "        class_dir = os.path.join(out_dir, dmg_label)\n",
        "        os.makedirs(class_dir, exist_ok=True)\n",
        "\n",
        "        cv2.imwrite(os.path.join(class_dir, f\"{os.path.basename(annotation_path)}_{count}_pre.png\"), pre_crop)\n",
        "        cv2.imwrite(os.path.join(class_dir, f\"{os.path.basename(annotation_path)}_{count}_post.png\"), post_crop)\n",
        "\n",
        "        count += 1\n",
        "\n",
        "    print(f\"✅ Saved {count} patches from {annotation_path}\")\n",
        "\n",
        "# === Step 1: Build index of available images ===\n",
        "image_files = set(os.listdir(IMAGES_DIR))\n",
        "\n",
        "# === Step 2: Loop over JSONs ===\n",
        "annotation_files = glob(os.path.join(LABELS_DIR, \"*.json\"))\n",
        "\n",
        "usable, missing = 0, 0\n",
        "\n",
        "for ann_path in tqdm(annotation_files[:1000]):  # limit to 50 for quick test\n",
        "    base_name = os.path.splitext(os.path.basename(ann_path))[0]\n",
        "\n",
        "    # Build pre/post names\n",
        "    core_id = base_name.replace(\"_pre_disaster\", \"\").replace(\"_post_disaster\", \"\")\n",
        "    pre_img_name = core_id + \"_pre_disaster.png\"\n",
        "    post_img_name = core_id + \"_post_disaster.png\"\n",
        "\n",
        "    pre_img_path = os.path.join(IMAGES_DIR, pre_img_name)\n",
        "    post_img_path = os.path.join(IMAGES_DIR, post_img_name)\n",
        "\n",
        "    if pre_img_name in image_files and post_img_name in image_files:\n",
        "        extract_building_patches(pre_img_path, post_img_path, ann_path, OUT_DIR)\n",
        "        usable += 1\n",
        "    else:\n",
        "        print(f\"⚠️ Skipping {base_name}, no image pair found\")\n",
        "        missing += 1\n",
        "\n",
        "print(f\"\\n📊 Summary: {usable} usable JSONs, {missing} missing pairs\")\n"
      ],
      "metadata": {
        "colab": {
          "base_uri": "https://localhost:8080/"
        },
        "id": "JJNT4xAjPRaA",
        "outputId": "7723ca51-f5c0-4325-fe56-b0b523ead6bd"
      },
      "execution_count": null,
      "outputs": [
        {
          "output_type": "stream",
          "name": "stderr",
          "text": [
            "  0%|          | 1/452 [00:00<01:17,  5.81it/s]"
          ]
        },
        {
          "output_type": "stream",
          "name": "stdout",
          "text": [
            "✅ Saved 21 patches from /content/xview2_data/santa-rosa-wildfire/labels/santa-rosa-wildfire_00000185_post_disaster.json\n",
            "✅ Saved 3 patches from /content/xview2_data/santa-rosa-wildfire/labels/santa-rosa-wildfire_00000297_post_disaster.json\n"
          ]
        },
        {
          "output_type": "stream",
          "name": "stderr",
          "text": [
            "  1%|          | 4/452 [00:00<01:27,  5.10it/s]"
          ]
        },
        {
          "output_type": "stream",
          "name": "stdout",
          "text": [
            "✅ Saved 158 patches from /content/xview2_data/santa-rosa-wildfire/labels/santa-rosa-wildfire_00000095_pre_disaster.json\n",
            "✅ Saved 11 patches from /content/xview2_data/santa-rosa-wildfire/labels/santa-rosa-wildfire_00000249_post_disaster.json\n"
          ]
        },
        {
          "output_type": "stream",
          "name": "stderr",
          "text": [
            "\r  1%|          | 5/452 [00:00<01:13,  6.04it/s]"
          ]
        },
        {
          "output_type": "stream",
          "name": "stdout",
          "text": [
            "✅ Saved 11 patches from /content/xview2_data/santa-rosa-wildfire/labels/santa-rosa-wildfire_00000146_pre_disaster.json\n"
          ]
        },
        {
          "output_type": "stream",
          "name": "stderr",
          "text": [
            "\r  1%|▏         | 6/452 [00:01<01:43,  4.33it/s]"
          ]
        },
        {
          "output_type": "stream",
          "name": "stdout",
          "text": [
            "✅ Saved 113 patches from /content/xview2_data/santa-rosa-wildfire/labels/santa-rosa-wildfire_00000076_pre_disaster.json\n"
          ]
        },
        {
          "output_type": "stream",
          "name": "stderr",
          "text": [
            "  2%|▏         | 8/452 [00:02<02:14,  3.31it/s]"
          ]
        },
        {
          "output_type": "stream",
          "name": "stdout",
          "text": [
            "✅ Saved 280 patches from /content/xview2_data/santa-rosa-wildfire/labels/santa-rosa-wildfire_00000155_pre_disaster.json\n",
            "✅ Saved 11 patches from /content/xview2_data/santa-rosa-wildfire/labels/santa-rosa-wildfire_00000314_post_disaster.json\n"
          ]
        },
        {
          "output_type": "stream",
          "name": "stderr",
          "text": [
            "  2%|▏         | 10/452 [00:02<02:09,  3.42it/s]"
          ]
        },
        {
          "output_type": "stream",
          "name": "stdout",
          "text": [
            "✅ Saved 139 patches from /content/xview2_data/santa-rosa-wildfire/labels/santa-rosa-wildfire_00000097_post_disaster.json\n",
            "✅ Saved 46 patches from /content/xview2_data/santa-rosa-wildfire/labels/santa-rosa-wildfire_00000302_pre_disaster.json\n"
          ]
        },
        {
          "output_type": "stream",
          "name": "stderr",
          "text": [
            "  3%|▎         | 12/452 [00:03<01:36,  4.55it/s]"
          ]
        },
        {
          "output_type": "stream",
          "name": "stdout",
          "text": [
            "✅ Saved 19 patches from /content/xview2_data/santa-rosa-wildfire/labels/santa-rosa-wildfire_00000276_post_disaster.json\n",
            "✅ Saved 37 patches from /content/xview2_data/santa-rosa-wildfire/labels/santa-rosa-wildfire_00000357_post_disaster.json\n"
          ]
        },
        {
          "output_type": "stream",
          "name": "stderr",
          "text": [
            "\r  3%|▎         | 13/452 [00:03<02:30,  2.92it/s]"
          ]
        },
        {
          "output_type": "stream",
          "name": "stdout",
          "text": [
            "✅ Saved 225 patches from /content/xview2_data/santa-rosa-wildfire/labels/santa-rosa-wildfire_00000163_pre_disaster.json\n"
          ]
        },
        {
          "output_type": "stream",
          "name": "stderr",
          "text": [
            "\r  3%|▎         | 14/452 [00:03<02:13,  3.29it/s]"
          ]
        },
        {
          "output_type": "stream",
          "name": "stdout",
          "text": [
            "✅ Saved 53 patches from /content/xview2_data/santa-rosa-wildfire/labels/santa-rosa-wildfire_00000214_post_disaster.json\n"
          ]
        },
        {
          "output_type": "stream",
          "name": "stderr",
          "text": [
            "  4%|▎         | 16/452 [00:04<01:55,  3.78it/s]"
          ]
        },
        {
          "output_type": "stream",
          "name": "stdout",
          "text": [
            "✅ Saved 122 patches from /content/xview2_data/santa-rosa-wildfire/labels/santa-rosa-wildfire_00000007_post_disaster.json\n",
            "✅ Saved 14 patches from /content/xview2_data/santa-rosa-wildfire/labels/santa-rosa-wildfire_00000330_post_disaster.json\n"
          ]
        },
        {
          "output_type": "stream",
          "name": "stderr",
          "text": [
            "\r  4%|▍         | 17/452 [00:04<01:35,  4.56it/s]"
          ]
        },
        {
          "output_type": "stream",
          "name": "stdout",
          "text": [
            "✅ Saved 7 patches from /content/xview2_data/santa-rosa-wildfire/labels/santa-rosa-wildfire_00000018_pre_disaster.json\n"
          ]
        },
        {
          "output_type": "stream",
          "name": "stderr",
          "text": [
            "  4%|▍         | 19/452 [00:05<01:39,  4.37it/s]"
          ]
        },
        {
          "output_type": "stream",
          "name": "stdout",
          "text": [
            "✅ Saved 110 patches from /content/xview2_data/santa-rosa-wildfire/labels/santa-rosa-wildfire_00000189_pre_disaster.json\n",
            "✅ Saved 27 patches from /content/xview2_data/santa-rosa-wildfire/labels/santa-rosa-wildfire_00000209_pre_disaster.json\n"
          ]
        },
        {
          "output_type": "stream",
          "name": "stderr",
          "text": [
            "\r  4%|▍         | 20/452 [00:05<01:22,  5.24it/s]"
          ]
        },
        {
          "output_type": "stream",
          "name": "stdout",
          "text": [
            "✅ Saved 11 patches from /content/xview2_data/santa-rosa-wildfire/labels/santa-rosa-wildfire_00000128_pre_disaster.json\n"
          ]
        },
        {
          "output_type": "stream",
          "name": "stderr",
          "text": [
            "  5%|▍         | 22/452 [00:05<01:32,  4.65it/s]"
          ]
        },
        {
          "output_type": "stream",
          "name": "stdout",
          "text": [
            "✅ Saved 129 patches from /content/xview2_data/santa-rosa-wildfire/labels/santa-rosa-wildfire_00000090_pre_disaster.json\n",
            "✅ Saved 13 patches from /content/xview2_data/santa-rosa-wildfire/labels/santa-rosa-wildfire_00000254_pre_disaster.json\n"
          ]
        },
        {
          "output_type": "stream",
          "name": "stderr",
          "text": [
            "\r  5%|▌         | 23/452 [00:05<01:30,  4.76it/s]"
          ]
        },
        {
          "output_type": "stream",
          "name": "stdout",
          "text": [
            "✅ Saved 47 patches from /content/xview2_data/santa-rosa-wildfire/labels/santa-rosa-wildfire_00000344_pre_disaster.json\n",
            "✅ Saved 5 patches from /content/xview2_data/santa-rosa-wildfire/labels/santa-rosa-wildfire_00000252_pre_disaster.json\n"
          ]
        },
        {
          "output_type": "stream",
          "name": "stderr",
          "text": [
            "\r  6%|▌         | 25/452 [00:06<01:35,  4.49it/s]"
          ]
        },
        {
          "output_type": "stream",
          "name": "stdout",
          "text": [
            "✅ Saved 134 patches from /content/xview2_data/santa-rosa-wildfire/labels/santa-rosa-wildfire_00000142_pre_disaster.json\n",
            "✅ Saved 3 patches from /content/xview2_data/santa-rosa-wildfire/labels/santa-rosa-wildfire_00000151_post_disaster.json\n"
          ]
        },
        {
          "output_type": "stream",
          "name": "stderr",
          "text": [
            "\r  6%|▌         | 27/452 [00:06<01:35,  4.43it/s]"
          ]
        },
        {
          "output_type": "stream",
          "name": "stdout",
          "text": [
            "✅ Saved 122 patches from /content/xview2_data/santa-rosa-wildfire/labels/santa-rosa-wildfire_00000015_post_disaster.json\n"
          ]
        },
        {
          "output_type": "stream",
          "name": "stderr",
          "text": [
            "\r  6%|▌         | 28/452 [00:06<01:34,  4.49it/s]"
          ]
        },
        {
          "output_type": "stream",
          "name": "stdout",
          "text": [
            "✅ Saved 53 patches from /content/xview2_data/santa-rosa-wildfire/labels/santa-rosa-wildfire_00000162_pre_disaster.json\n"
          ]
        },
        {
          "output_type": "stream",
          "name": "stderr",
          "text": [
            "  7%|▋         | 30/452 [00:07<01:54,  3.69it/s]"
          ]
        },
        {
          "output_type": "stream",
          "name": "stdout",
          "text": [
            "✅ Saved 240 patches from /content/xview2_data/santa-rosa-wildfire/labels/santa-rosa-wildfire_00000175_post_disaster.json\n",
            "✅ Saved 11 patches from /content/xview2_data/santa-rosa-wildfire/labels/santa-rosa-wildfire_00000146_post_disaster.json\n"
          ]
        },
        {
          "output_type": "stream",
          "name": "stderr",
          "text": [
            "\r  7%|▋         | 31/452 [00:07<01:42,  4.11it/s]"
          ]
        },
        {
          "output_type": "stream",
          "name": "stdout",
          "text": [
            "✅ Saved 34 patches from /content/xview2_data/santa-rosa-wildfire/labels/santa-rosa-wildfire_00000251_pre_disaster.json\n",
            "✅ Saved 10 patches from /content/xview2_data/santa-rosa-wildfire/labels/santa-rosa-wildfire_00000158_pre_disaster.json\n"
          ]
        },
        {
          "output_type": "stream",
          "name": "stderr",
          "text": [
            "  8%|▊         | 34/452 [00:08<01:15,  5.53it/s]"
          ]
        },
        {
          "output_type": "stream",
          "name": "stdout",
          "text": [
            "✅ Saved 55 patches from /content/xview2_data/santa-rosa-wildfire/labels/santa-rosa-wildfire_00000210_pre_disaster.json\n",
            "✅ Saved 20 patches from /content/xview2_data/santa-rosa-wildfire/labels/santa-rosa-wildfire_00000005_post_disaster.json\n"
          ]
        },
        {
          "output_type": "stream",
          "name": "stderr",
          "text": [
            "  8%|▊         | 36/452 [00:08<01:02,  6.64it/s]"
          ]
        },
        {
          "output_type": "stream",
          "name": "stdout",
          "text": [
            "✅ Saved 10 patches from /content/xview2_data/santa-rosa-wildfire/labels/santa-rosa-wildfire_00000051_pre_disaster.json\n",
            "✅ Saved 4 patches from /content/xview2_data/santa-rosa-wildfire/labels/santa-rosa-wildfire_00000200_post_disaster.json\n"
          ]
        },
        {
          "output_type": "stream",
          "name": "stderr",
          "text": [
            "\r  8%|▊         | 37/452 [00:08<01:11,  5.81it/s]"
          ]
        },
        {
          "output_type": "stream",
          "name": "stdout",
          "text": [
            "✅ Saved 35 patches from /content/xview2_data/santa-rosa-wildfire/labels/santa-rosa-wildfire_00000117_pre_disaster.json\n",
            "✅ Saved 3 patches from /content/xview2_data/santa-rosa-wildfire/labels/santa-rosa-wildfire_00000091_post_disaster.json\n"
          ]
        },
        {
          "output_type": "stream",
          "name": "stderr",
          "text": [
            "\r  9%|▊         | 39/452 [00:09<01:17,  5.36it/s]"
          ]
        },
        {
          "output_type": "stream",
          "name": "stdout",
          "text": [
            "✅ Saved 69 patches from /content/xview2_data/santa-rosa-wildfire/labels/santa-rosa-wildfire_00000313_post_disaster.json\n"
          ]
        },
        {
          "output_type": "stream",
          "name": "stderr",
          "text": [
            "  9%|▉         | 42/452 [00:10<01:30,  4.53it/s]"
          ]
        },
        {
          "output_type": "stream",
          "name": "stdout",
          "text": [
            "✅ Saved 174 patches from /content/xview2_data/santa-rosa-wildfire/labels/santa-rosa-wildfire_00000374_post_disaster.json\n",
            "✅ Saved 2 patches from /content/xview2_data/santa-rosa-wildfire/labels/santa-rosa-wildfire_00000345_post_disaster.json\n",
            "✅ Saved 7 patches from /content/xview2_data/santa-rosa-wildfire/labels/santa-rosa-wildfire_00000298_pre_disaster.json\n"
          ]
        },
        {
          "output_type": "stream",
          "name": "stderr",
          "text": [
            " 10%|▉         | 44/452 [00:10<01:57,  3.46it/s]"
          ]
        },
        {
          "output_type": "stream",
          "name": "stdout",
          "text": [
            "✅ Saved 180 patches from /content/xview2_data/santa-rosa-wildfire/labels/santa-rosa-wildfire_00000050_post_disaster.json\n",
            "✅ Saved 8 patches from /content/xview2_data/santa-rosa-wildfire/labels/santa-rosa-wildfire_00000275_pre_disaster.json\n"
          ]
        },
        {
          "output_type": "stream",
          "name": "stderr",
          "text": [
            " 10%|█         | 46/452 [00:11<01:28,  4.61it/s]"
          ]
        },
        {
          "output_type": "stream",
          "name": "stdout",
          "text": [
            "✅ Saved 26 patches from /content/xview2_data/santa-rosa-wildfire/labels/santa-rosa-wildfire_00000119_pre_disaster.json\n",
            "✅ Saved 14 patches from /content/xview2_data/santa-rosa-wildfire/labels/santa-rosa-wildfire_00000229_pre_disaster.json\n"
          ]
        },
        {
          "output_type": "stream",
          "name": "stderr",
          "text": [
            " 11%|█         | 49/452 [00:12<01:38,  4.11it/s]"
          ]
        },
        {
          "output_type": "stream",
          "name": "stdout",
          "text": [
            "✅ Saved 267 patches from /content/xview2_data/santa-rosa-wildfire/labels/santa-rosa-wildfire_00000216_post_disaster.json\n",
            "✅ Saved 5 patches from /content/xview2_data/santa-rosa-wildfire/labels/santa-rosa-wildfire_00000241_pre_disaster.json\n",
            "✅ Saved 9 patches from /content/xview2_data/santa-rosa-wildfire/labels/santa-rosa-wildfire_00000301_pre_disaster.json\n"
          ]
        },
        {
          "output_type": "stream",
          "name": "stderr",
          "text": [
            " 11%|█▏        | 51/452 [00:12<01:23,  4.79it/s]"
          ]
        },
        {
          "output_type": "stream",
          "name": "stdout",
          "text": [
            "✅ Saved 22 patches from /content/xview2_data/santa-rosa-wildfire/labels/santa-rosa-wildfire_00000237_pre_disaster.json\n",
            "✅ Saved 41 patches from /content/xview2_data/santa-rosa-wildfire/labels/santa-rosa-wildfire_00000096_pre_disaster.json\n",
            "✅ Saved 10 patches from /content/xview2_data/santa-rosa-wildfire/labels/santa-rosa-wildfire_00000109_post_disaster.json\n"
          ]
        },
        {
          "output_type": "stream",
          "name": "stderr",
          "text": [
            "\r 12%|█▏        | 53/452 [00:13<01:45,  3.77it/s]"
          ]
        },
        {
          "output_type": "stream",
          "name": "stdout",
          "text": [
            "✅ Saved 250 patches from /content/xview2_data/santa-rosa-wildfire/labels/santa-rosa-wildfire_00000199_post_disaster.json\n"
          ]
        },
        {
          "output_type": "stream",
          "name": "stderr",
          "text": [
            " 12%|█▏        | 55/452 [00:13<01:38,  4.02it/s]"
          ]
        },
        {
          "output_type": "stream",
          "name": "stdout",
          "text": [
            "✅ Saved 97 patches from /content/xview2_data/santa-rosa-wildfire/labels/santa-rosa-wildfire_00000022_post_disaster.json\n",
            "✅ Saved 34 patches from /content/xview2_data/santa-rosa-wildfire/labels/santa-rosa-wildfire_00000047_pre_disaster.json\n"
          ]
        },
        {
          "output_type": "stream",
          "name": "stderr",
          "text": [
            "\r 12%|█▏        | 56/452 [00:13<01:25,  4.62it/s]"
          ]
        },
        {
          "output_type": "stream",
          "name": "stdout",
          "text": [
            "✅ Saved 15 patches from /content/xview2_data/santa-rosa-wildfire/labels/santa-rosa-wildfire_00000324_post_disaster.json\n",
            "✅ Saved 2 patches from /content/xview2_data/santa-rosa-wildfire/labels/santa-rosa-wildfire_00000345_pre_disaster.json\n"
          ]
        },
        {
          "output_type": "stream",
          "name": "stderr",
          "text": [
            "\r 13%|█▎        | 58/452 [00:13<01:07,  5.83it/s]"
          ]
        },
        {
          "output_type": "stream",
          "name": "stdout",
          "text": [
            "✅ Saved 42 patches from /content/xview2_data/santa-rosa-wildfire/labels/santa-rosa-wildfire_00000033_pre_disaster.json\n"
          ]
        },
        {
          "output_type": "stream",
          "name": "stderr",
          "text": [
            "\r 13%|█▎        | 59/452 [00:14<01:46,  3.71it/s]"
          ]
        },
        {
          "output_type": "stream",
          "name": "stdout",
          "text": [
            "✅ Saved 214 patches from /content/xview2_data/santa-rosa-wildfire/labels/santa-rosa-wildfire_00000372_post_disaster.json\n"
          ]
        },
        {
          "output_type": "stream",
          "name": "stderr",
          "text": [
            " 13%|█▎        | 61/452 [00:15<02:11,  2.98it/s]"
          ]
        },
        {
          "output_type": "stream",
          "name": "stdout",
          "text": [
            "✅ Saved 274 patches from /content/xview2_data/santa-rosa-wildfire/labels/santa-rosa-wildfire_00000058_post_disaster.json\n",
            "✅ Saved 40 patches from /content/xview2_data/santa-rosa-wildfire/labels/santa-rosa-wildfire_00000376_post_disaster.json\n"
          ]
        },
        {
          "output_type": "stream",
          "name": "stderr",
          "text": [
            "\r 14%|█▎        | 62/452 [00:16<02:57,  2.20it/s]"
          ]
        },
        {
          "output_type": "stream",
          "name": "stdout",
          "text": [
            "✅ Saved 291 patches from /content/xview2_data/santa-rosa-wildfire/labels/santa-rosa-wildfire_00000149_post_disaster.json\n"
          ]
        },
        {
          "output_type": "stream",
          "name": "stderr",
          "text": [
            " 14%|█▍        | 64/452 [00:17<02:36,  2.48it/s]"
          ]
        },
        {
          "output_type": "stream",
          "name": "stdout",
          "text": [
            "✅ Saved 254 patches from /content/xview2_data/santa-rosa-wildfire/labels/santa-rosa-wildfire_00000138_post_disaster.json\n",
            "✅ Saved 19 patches from /content/xview2_data/santa-rosa-wildfire/labels/santa-rosa-wildfire_00000023_post_disaster.json\n"
          ]
        },
        {
          "output_type": "stream",
          "name": "stderr",
          "text": [
            " 15%|█▍        | 67/452 [00:17<01:53,  3.40it/s]"
          ]
        },
        {
          "output_type": "stream",
          "name": "stdout",
          "text": [
            "✅ Saved 226 patches from /content/xview2_data/santa-rosa-wildfire/labels/santa-rosa-wildfire_00000179_post_disaster.json\n",
            "✅ Saved 3 patches from /content/xview2_data/santa-rosa-wildfire/labels/santa-rosa-wildfire_00000299_post_disaster.json\n",
            "✅ Saved 13 patches from /content/xview2_data/santa-rosa-wildfire/labels/santa-rosa-wildfire_00000268_pre_disaster.json\n"
          ]
        },
        {
          "output_type": "stream",
          "name": "stderr",
          "text": [
            "\r 15%|█▌        | 68/452 [00:17<01:38,  3.88it/s]"
          ]
        },
        {
          "output_type": "stream",
          "name": "stdout",
          "text": [
            "✅ Saved 26 patches from /content/xview2_data/santa-rosa-wildfire/labels/santa-rosa-wildfire_00000135_pre_disaster.json\n"
          ]
        },
        {
          "output_type": "stream",
          "name": "stderr",
          "text": [
            " 16%|█▌        | 71/452 [00:18<01:09,  5.49it/s]"
          ]
        },
        {
          "output_type": "stream",
          "name": "stdout",
          "text": [
            "✅ Saved 87 patches from /content/xview2_data/santa-rosa-wildfire/labels/santa-rosa-wildfire_00000101_post_disaster.json\n",
            "⚠️ No features in /content/xview2_data/santa-rosa-wildfire/labels/santa-rosa-wildfire_00000320_post_disaster.json\n",
            "✅ Saved 26 patches from /content/xview2_data/santa-rosa-wildfire/labels/santa-rosa-wildfire_00000135_post_disaster.json\n"
          ]
        },
        {
          "output_type": "stream",
          "name": "stderr",
          "text": [
            " 16%|█▋        | 74/452 [00:18<00:51,  7.28it/s]"
          ]
        },
        {
          "output_type": "stream",
          "name": "stdout",
          "text": [
            "✅ Saved 15 patches from /content/xview2_data/santa-rosa-wildfire/labels/santa-rosa-wildfire_00000223_pre_disaster.json\n",
            "✅ Saved 5 patches from /content/xview2_data/santa-rosa-wildfire/labels/santa-rosa-wildfire_00000024_post_disaster.json\n",
            "✅ Saved 8 patches from /content/xview2_data/santa-rosa-wildfire/labels/santa-rosa-wildfire_00000280_post_disaster.json\n"
          ]
        },
        {
          "output_type": "stream",
          "name": "stderr",
          "text": [
            " 17%|█▋        | 76/452 [00:19<01:28,  4.24it/s]"
          ]
        },
        {
          "output_type": "stream",
          "name": "stdout",
          "text": [
            "✅ Saved 267 patches from /content/xview2_data/santa-rosa-wildfire/labels/santa-rosa-wildfire_00000216_pre_disaster.json\n",
            "✅ Saved 18 patches from /content/xview2_data/santa-rosa-wildfire/labels/santa-rosa-wildfire_00000168_post_disaster.json\n"
          ]
        },
        {
          "output_type": "stream",
          "name": "stderr",
          "text": [
            " 17%|█▋        | 79/452 [00:20<01:04,  5.76it/s]"
          ]
        },
        {
          "output_type": "stream",
          "name": "stdout",
          "text": [
            "✅ Saved 76 patches from /content/xview2_data/santa-rosa-wildfire/labels/santa-rosa-wildfire_00000049_pre_disaster.json\n",
            "✅ Saved 4 patches from /content/xview2_data/santa-rosa-wildfire/labels/santa-rosa-wildfire_00000091_pre_disaster.json\n",
            "✅ Saved 3 patches from /content/xview2_data/santa-rosa-wildfire/labels/santa-rosa-wildfire_00000183_post_disaster.json\n",
            "✅ Saved 1 patches from /content/xview2_data/santa-rosa-wildfire/labels/santa-rosa-wildfire_00000331_post_disaster.json\n"
          ]
        },
        {
          "output_type": "stream",
          "name": "stderr",
          "text": [
            "\r 18%|█▊        | 81/452 [00:20<00:52,  7.11it/s]"
          ]
        },
        {
          "output_type": "stream",
          "name": "stdout",
          "text": [
            "✅ Saved 22 patches from /content/xview2_data/santa-rosa-wildfire/labels/santa-rosa-wildfire_00000264_post_disaster.json\n"
          ]
        },
        {
          "output_type": "stream",
          "name": "stderr",
          "text": [
            " 18%|█▊        | 83/452 [00:20<00:54,  6.81it/s]"
          ]
        },
        {
          "output_type": "stream",
          "name": "stdout",
          "text": [
            "✅ Saved 21 patches from /content/xview2_data/santa-rosa-wildfire/labels/santa-rosa-wildfire_00000168_pre_disaster.json\n",
            "✅ Saved 9 patches from /content/xview2_data/santa-rosa-wildfire/labels/santa-rosa-wildfire_00000221_pre_disaster.json\n",
            "✅ Saved 2 patches from /content/xview2_data/santa-rosa-wildfire/labels/santa-rosa-wildfire_00000341_pre_disaster.json\n"
          ]
        },
        {
          "output_type": "stream",
          "name": "stderr",
          "text": [
            " 19%|█▉        | 87/452 [00:20<00:42,  8.61it/s]"
          ]
        },
        {
          "output_type": "stream",
          "name": "stdout",
          "text": [
            "✅ Saved 34 patches from /content/xview2_data/santa-rosa-wildfire/labels/santa-rosa-wildfire_00000117_post_disaster.json\n",
            "✅ Saved 9 patches from /content/xview2_data/santa-rosa-wildfire/labels/santa-rosa-wildfire_00000078_pre_disaster.json\n",
            "✅ Saved 10 patches from /content/xview2_data/santa-rosa-wildfire/labels/santa-rosa-wildfire_00000034_pre_disaster.json\n"
          ]
        },
        {
          "output_type": "stream",
          "name": "stderr",
          "text": [
            "\r 19%|█▉        | 88/452 [00:21<00:56,  6.44it/s]"
          ]
        },
        {
          "output_type": "stream",
          "name": "stdout",
          "text": [
            "✅ Saved 43 patches from /content/xview2_data/santa-rosa-wildfire/labels/santa-rosa-wildfire_00000205_pre_disaster.json\n"
          ]
        },
        {
          "output_type": "stream",
          "name": "stderr",
          "text": [
            " 20%|█▉        | 90/452 [00:21<00:54,  6.59it/s]"
          ]
        },
        {
          "output_type": "stream",
          "name": "stdout",
          "text": [
            "✅ Saved 32 patches from /content/xview2_data/santa-rosa-wildfire/labels/santa-rosa-wildfire_00000073_post_disaster.json\n",
            "✅ Saved 1 patches from /content/xview2_data/santa-rosa-wildfire/labels/santa-rosa-wildfire_00000300_post_disaster.json\n"
          ]
        },
        {
          "output_type": "stream",
          "name": "stderr",
          "text": [
            "\r 20%|██        | 91/452 [00:21<01:08,  5.29it/s]"
          ]
        },
        {
          "output_type": "stream",
          "name": "stdout",
          "text": [
            "✅ Saved 27 patches from /content/xview2_data/santa-rosa-wildfire/labels/santa-rosa-wildfire_00000333_post_disaster.json\n"
          ]
        },
        {
          "output_type": "stream",
          "name": "stderr",
          "text": [
            "\r 20%|██        | 92/452 [00:22<02:05,  2.87it/s]"
          ]
        },
        {
          "output_type": "stream",
          "name": "stdout",
          "text": [
            "✅ Saved 189 patches from /content/xview2_data/santa-rosa-wildfire/labels/santa-rosa-wildfire_00000281_post_disaster.json\n"
          ]
        },
        {
          "output_type": "stream",
          "name": "stderr",
          "text": [
            " 21%|██        | 94/452 [00:23<02:23,  2.50it/s]"
          ]
        },
        {
          "output_type": "stream",
          "name": "stdout",
          "text": [
            "✅ Saved 265 patches from /content/xview2_data/santa-rosa-wildfire/labels/santa-rosa-wildfire_00000057_pre_disaster.json\n",
            "✅ Saved 2 patches from /content/xview2_data/santa-rosa-wildfire/labels/santa-rosa-wildfire_00000293_pre_disaster.json\n"
          ]
        },
        {
          "output_type": "stream",
          "name": "stderr",
          "text": [
            " 22%|██▏       | 98/452 [00:24<01:24,  4.17it/s]"
          ]
        },
        {
          "output_type": "stream",
          "name": "stdout",
          "text": [
            "✅ Saved 252 patches from /content/xview2_data/santa-rosa-wildfire/labels/santa-rosa-wildfire_00000199_pre_disaster.json\n",
            "⚠️ No features in /content/xview2_data/santa-rosa-wildfire/labels/santa-rosa-wildfire_00000258_pre_disaster.json\n",
            "✅ Saved 1 patches from /content/xview2_data/santa-rosa-wildfire/labels/santa-rosa-wildfire_00000245_post_disaster.json\n",
            "✅ Saved 11 patches from /content/xview2_data/santa-rosa-wildfire/labels/santa-rosa-wildfire_00000128_post_disaster.json\n"
          ]
        },
        {
          "output_type": "stream",
          "name": "stderr",
          "text": [
            " 22%|██▏       | 100/452 [00:24<01:12,  4.84it/s]"
          ]
        },
        {
          "output_type": "stream",
          "name": "stdout",
          "text": [
            "✅ Saved 18 patches from /content/xview2_data/santa-rosa-wildfire/labels/santa-rosa-wildfire_00000190_post_disaster.json\n",
            "✅ Saved 34 patches from /content/xview2_data/santa-rosa-wildfire/labels/santa-rosa-wildfire_00000006_pre_disaster.json\n"
          ]
        },
        {
          "output_type": "stream",
          "name": "stderr",
          "text": [
            "\r 23%|██▎       | 102/452 [00:24<00:55,  6.34it/s]"
          ]
        },
        {
          "output_type": "stream",
          "name": "stdout",
          "text": [
            "✅ Saved 3 patches from /content/xview2_data/santa-rosa-wildfire/labels/santa-rosa-wildfire_00000234_post_disaster.json\n",
            "✅ Saved 2 patches from /content/xview2_data/santa-rosa-wildfire/labels/santa-rosa-wildfire_00000069_post_disaster.json\n"
          ]
        },
        {
          "output_type": "stream",
          "name": "stderr",
          "text": [
            " 23%|██▎       | 104/452 [00:25<00:51,  6.81it/s]"
          ]
        },
        {
          "output_type": "stream",
          "name": "stdout",
          "text": [
            "✅ Saved 26 patches from /content/xview2_data/santa-rosa-wildfire/labels/santa-rosa-wildfire_00000119_post_disaster.json\n",
            "✅ Saved 13 patches from /content/xview2_data/santa-rosa-wildfire/labels/santa-rosa-wildfire_00000254_post_disaster.json\n"
          ]
        },
        {
          "output_type": "stream",
          "name": "stderr",
          "text": [
            " 23%|██▎       | 106/452 [00:25<00:50,  6.92it/s]"
          ]
        },
        {
          "output_type": "stream",
          "name": "stdout",
          "text": [
            "✅ Saved 27 patches from /content/xview2_data/santa-rosa-wildfire/labels/santa-rosa-wildfire_00000031_post_disaster.json\n",
            "✅ Saved 21 patches from /content/xview2_data/santa-rosa-wildfire/labels/santa-rosa-wildfire_00000185_pre_disaster.json\n"
          ]
        },
        {
          "output_type": "stream",
          "name": "stderr",
          "text": [
            " 24%|██▍       | 108/452 [00:26<01:17,  4.41it/s]"
          ]
        },
        {
          "output_type": "stream",
          "name": "stdout",
          "text": [
            "✅ Saved 175 patches from /content/xview2_data/santa-rosa-wildfire/labels/santa-rosa-wildfire_00000374_pre_disaster.json\n",
            "✅ Saved 34 patches from /content/xview2_data/santa-rosa-wildfire/labels/santa-rosa-wildfire_00000047_post_disaster.json\n"
          ]
        },
        {
          "output_type": "stream",
          "name": "stderr",
          "text": [
            " 24%|██▍       | 110/452 [00:26<01:12,  4.75it/s]"
          ]
        },
        {
          "output_type": "stream",
          "name": "stdout",
          "text": [
            "✅ Saved 44 patches from /content/xview2_data/santa-rosa-wildfire/labels/santa-rosa-wildfire_00000046_post_disaster.json\n",
            "✅ Saved 62 patches from /content/xview2_data/santa-rosa-wildfire/labels/santa-rosa-wildfire_00000075_post_disaster.json\n"
          ]
        },
        {
          "output_type": "stream",
          "name": "stderr",
          "text": [
            "\r 25%|██▍       | 112/452 [00:26<00:52,  6.46it/s]"
          ]
        },
        {
          "output_type": "stream",
          "name": "stdout",
          "text": [
            "✅ Saved 4 patches from /content/xview2_data/santa-rosa-wildfire/labels/santa-rosa-wildfire_00000338_pre_disaster.json\n",
            "✅ Saved 3 patches from /content/xview2_data/santa-rosa-wildfire/labels/santa-rosa-wildfire_00000252_post_disaster.json\n"
          ]
        },
        {
          "output_type": "stream",
          "name": "stderr",
          "text": [
            "\r 25%|██▌       | 113/452 [00:26<00:55,  6.10it/s]"
          ]
        },
        {
          "output_type": "stream",
          "name": "stdout",
          "text": [
            "✅ Saved 45 patches from /content/xview2_data/santa-rosa-wildfire/labels/santa-rosa-wildfire_00000302_post_disaster.json\n"
          ]
        },
        {
          "output_type": "stream",
          "name": "stderr",
          "text": [
            "\r 25%|██▌       | 114/452 [00:27<01:14,  4.55it/s]"
          ]
        },
        {
          "output_type": "stream",
          "name": "stdout",
          "text": [
            "✅ Saved 127 patches from /content/xview2_data/santa-rosa-wildfire/labels/santa-rosa-wildfire_00000165_pre_disaster.json\n"
          ]
        },
        {
          "output_type": "stream",
          "name": "stderr",
          "text": [
            " 26%|██▌       | 116/452 [00:27<01:15,  4.45it/s]"
          ]
        },
        {
          "output_type": "stream",
          "name": "stdout",
          "text": [
            "✅ Saved 114 patches from /content/xview2_data/santa-rosa-wildfire/labels/santa-rosa-wildfire_00000106_post_disaster.json\n",
            "✅ Saved 22 patches from /content/xview2_data/santa-rosa-wildfire/labels/santa-rosa-wildfire_00000351_post_disaster.json\n",
            "✅ Saved 8 patches from /content/xview2_data/santa-rosa-wildfire/labels/santa-rosa-wildfire_00000105_post_disaster.json\n"
          ]
        },
        {
          "output_type": "stream",
          "name": "stderr",
          "text": [
            "\r 26%|██▌       | 118/452 [00:28<01:20,  4.15it/s]"
          ]
        },
        {
          "output_type": "stream",
          "name": "stdout",
          "text": [
            "✅ Saved 140 patches from /content/xview2_data/santa-rosa-wildfire/labels/santa-rosa-wildfire_00000097_pre_disaster.json\n",
            "✅ Saved 4 patches from /content/xview2_data/santa-rosa-wildfire/labels/santa-rosa-wildfire_00000315_post_disaster.json\n"
          ]
        },
        {
          "output_type": "stream",
          "name": "stderr",
          "text": [
            " 27%|██▋       | 122/452 [00:29<01:02,  5.29it/s]"
          ]
        },
        {
          "output_type": "stream",
          "name": "stdout",
          "text": [
            "✅ Saved 180 patches from /content/xview2_data/santa-rosa-wildfire/labels/santa-rosa-wildfire_00000050_pre_disaster.json\n",
            "✅ Saved 2 patches from /content/xview2_data/santa-rosa-wildfire/labels/santa-rosa-wildfire_00000341_post_disaster.json\n",
            "✅ Saved 5 patches from /content/xview2_data/santa-rosa-wildfire/labels/santa-rosa-wildfire_00000094_post_disaster.json\n"
          ]
        },
        {
          "output_type": "stream",
          "name": "stderr",
          "text": [
            " 27%|██▋       | 124/452 [00:29<00:57,  5.67it/s]"
          ]
        },
        {
          "output_type": "stream",
          "name": "stdout",
          "text": [
            "✅ Saved 15 patches from /content/xview2_data/santa-rosa-wildfire/labels/santa-rosa-wildfire_00000306_pre_disaster.json\n",
            "✅ Saved 46 patches from /content/xview2_data/santa-rosa-wildfire/labels/santa-rosa-wildfire_00000153_post_disaster.json\n"
          ]
        },
        {
          "output_type": "stream",
          "name": "stderr",
          "text": [
            " 28%|██▊       | 126/452 [00:29<00:52,  6.26it/s]"
          ]
        },
        {
          "output_type": "stream",
          "name": "stdout",
          "text": [
            "✅ Saved 34 patches from /content/xview2_data/santa-rosa-wildfire/labels/santa-rosa-wildfire_00000251_post_disaster.json\n",
            "✅ Saved 17 patches from /content/xview2_data/santa-rosa-wildfire/labels/santa-rosa-wildfire_00000287_post_disaster.json\n"
          ]
        },
        {
          "output_type": "stream",
          "name": "stderr",
          "text": [
            " 28%|██▊       | 128/452 [00:30<01:27,  3.69it/s]"
          ]
        },
        {
          "output_type": "stream",
          "name": "stdout",
          "text": [
            "✅ Saved 280 patches from /content/xview2_data/santa-rosa-wildfire/labels/santa-rosa-wildfire_00000155_post_disaster.json\n",
            "✅ Saved 13 patches from /content/xview2_data/santa-rosa-wildfire/labels/santa-rosa-wildfire_00000270_post_disaster.json\n",
            "✅ Saved 8 patches from /content/xview2_data/santa-rosa-wildfire/labels/santa-rosa-wildfire_00000296_post_disaster.json\n"
          ]
        },
        {
          "output_type": "stream",
          "name": "stderr",
          "text": [
            "\r 29%|██▉       | 130/452 [00:31<01:39,  3.25it/s]"
          ]
        },
        {
          "output_type": "stream",
          "name": "stdout",
          "text": [
            "✅ Saved 214 patches from /content/xview2_data/santa-rosa-wildfire/labels/santa-rosa-wildfire_00000084_pre_disaster.json\n"
          ]
        },
        {
          "output_type": "stream",
          "name": "stderr",
          "text": [
            " 29%|██▉       | 132/452 [00:31<01:23,  3.85it/s]"
          ]
        },
        {
          "output_type": "stream",
          "name": "stdout",
          "text": [
            "✅ Saved 92 patches from /content/xview2_data/santa-rosa-wildfire/labels/santa-rosa-wildfire_00000124_pre_disaster.json\n",
            "✅ Saved 11 patches from /content/xview2_data/santa-rosa-wildfire/labels/santa-rosa-wildfire_00000182_pre_disaster.json\n",
            "✅ Saved 3 patches from /content/xview2_data/santa-rosa-wildfire/labels/santa-rosa-wildfire_00000340_pre_disaster.json\n"
          ]
        },
        {
          "output_type": "stream",
          "name": "stderr",
          "text": [
            "\r 30%|██▉       | 134/452 [00:32<01:30,  3.52it/s]"
          ]
        },
        {
          "output_type": "stream",
          "name": "stdout",
          "text": [
            "✅ Saved 189 patches from /content/xview2_data/santa-rosa-wildfire/labels/santa-rosa-wildfire_00000355_pre_disaster.json\n",
            "✅ Saved 7 patches from /content/xview2_data/santa-rosa-wildfire/labels/santa-rosa-wildfire_00000298_post_disaster.json\n"
          ]
        },
        {
          "output_type": "stream",
          "name": "stderr",
          "text": [
            "\r 30%|███       | 136/452 [00:32<01:11,  4.43it/s]"
          ]
        },
        {
          "output_type": "stream",
          "name": "stdout",
          "text": [
            "✅ Saved 34 patches from /content/xview2_data/santa-rosa-wildfire/labels/santa-rosa-wildfire_00000244_post_disaster.json\n"
          ]
        },
        {
          "output_type": "stream",
          "name": "stderr",
          "text": [
            " 31%|███       | 138/452 [00:33<01:16,  4.09it/s]"
          ]
        },
        {
          "output_type": "stream",
          "name": "stdout",
          "text": [
            "✅ Saved 161 patches from /content/xview2_data/santa-rosa-wildfire/labels/santa-rosa-wildfire_00000173_post_disaster.json\n",
            "✅ Saved 27 patches from /content/xview2_data/santa-rosa-wildfire/labels/santa-rosa-wildfire_00000333_pre_disaster.json\n"
          ]
        },
        {
          "output_type": "stream",
          "name": "stderr",
          "text": [
            " 31%|███       | 140/452 [00:33<01:08,  4.55it/s]"
          ]
        },
        {
          "output_type": "stream",
          "name": "stdout",
          "text": [
            "✅ Saved 51 patches from /content/xview2_data/santa-rosa-wildfire/labels/santa-rosa-wildfire_00000056_pre_disaster.json\n",
            "✅ Saved 40 patches from /content/xview2_data/santa-rosa-wildfire/labels/santa-rosa-wildfire_00000096_post_disaster.json\n"
          ]
        },
        {
          "output_type": "stream",
          "name": "stderr",
          "text": [
            "\r 31%|███       | 141/452 [00:33<01:01,  5.04it/s]"
          ]
        },
        {
          "output_type": "stream",
          "name": "stdout",
          "text": [
            "✅ Saved 24 patches from /content/xview2_data/santa-rosa-wildfire/labels/santa-rosa-wildfire_00000093_pre_disaster.json\n"
          ]
        },
        {
          "output_type": "stream",
          "name": "stderr",
          "text": [
            " 32%|███▏      | 143/452 [00:34<00:58,  5.31it/s]"
          ]
        },
        {
          "output_type": "stream",
          "name": "stdout",
          "text": [
            "✅ Saved 43 patches from /content/xview2_data/santa-rosa-wildfire/labels/santa-rosa-wildfire_00000250_pre_disaster.json\n",
            "✅ Saved 4 patches from /content/xview2_data/santa-rosa-wildfire/labels/santa-rosa-wildfire_00000356_post_disaster.json\n"
          ]
        },
        {
          "output_type": "stream",
          "name": "stderr",
          "text": [
            " 32%|███▏      | 145/452 [00:34<00:50,  6.05it/s]"
          ]
        },
        {
          "output_type": "stream",
          "name": "stdout",
          "text": [
            "✅ Saved 10 patches from /content/xview2_data/santa-rosa-wildfire/labels/santa-rosa-wildfire_00000152_pre_disaster.json\n",
            "✅ Saved 12 patches from /content/xview2_data/santa-rosa-wildfire/labels/santa-rosa-wildfire_00000248_post_disaster.json\n"
          ]
        },
        {
          "output_type": "stream",
          "name": "stderr",
          "text": [
            "\r 32%|███▏      | 146/452 [00:34<01:06,  4.63it/s]"
          ]
        },
        {
          "output_type": "stream",
          "name": "stdout",
          "text": [
            "✅ Saved 69 patches from /content/xview2_data/santa-rosa-wildfire/labels/santa-rosa-wildfire_00000304_post_disaster.json\n"
          ]
        },
        {
          "output_type": "stream",
          "name": "stderr",
          "text": [
            " 33%|███▎      | 149/452 [00:35<00:54,  5.57it/s]"
          ]
        },
        {
          "output_type": "stream",
          "name": "stdout",
          "text": [
            "✅ Saved 100 patches from /content/xview2_data/santa-rosa-wildfire/labels/santa-rosa-wildfire_00000309_post_disaster.json\n",
            "⚠️ No features in /content/xview2_data/santa-rosa-wildfire/labels/santa-rosa-wildfire_00000125_post_disaster.json\n",
            "✅ Saved 2 patches from /content/xview2_data/santa-rosa-wildfire/labels/santa-rosa-wildfire_00000187_post_disaster.json\n"
          ]
        },
        {
          "output_type": "stream",
          "name": "stderr",
          "text": [
            "\r 33%|███▎      | 150/452 [00:35<01:16,  3.95it/s]"
          ]
        },
        {
          "output_type": "stream",
          "name": "stdout",
          "text": [
            "✅ Saved 92 patches from /content/xview2_data/santa-rosa-wildfire/labels/santa-rosa-wildfire_00000124_post_disaster.json\n"
          ]
        },
        {
          "output_type": "stream",
          "name": "stderr",
          "text": [
            "\r 33%|███▎      | 151/452 [00:35<01:16,  3.93it/s]"
          ]
        },
        {
          "output_type": "stream",
          "name": "stdout",
          "text": [
            "✅ Saved 43 patches from /content/xview2_data/santa-rosa-wildfire/labels/santa-rosa-wildfire_00000250_post_disaster.json\n",
            "⚠️ No features in /content/xview2_data/santa-rosa-wildfire/labels/santa-rosa-wildfire_00000247_post_disaster.json\n"
          ]
        },
        {
          "output_type": "stream",
          "name": "stderr",
          "text": [
            " 34%|███▍      | 154/452 [00:36<00:55,  5.42it/s]"
          ]
        },
        {
          "output_type": "stream",
          "name": "stdout",
          "text": [
            "✅ Saved 46 patches from /content/xview2_data/santa-rosa-wildfire/labels/santa-rosa-wildfire_00000153_pre_disaster.json\n",
            "✅ Saved 6 patches from /content/xview2_data/santa-rosa-wildfire/labels/santa-rosa-wildfire_00000208_post_disaster.json\n",
            "✅ Saved 3 patches from /content/xview2_data/santa-rosa-wildfire/labels/santa-rosa-wildfire_00000297_pre_disaster.json\n"
          ]
        },
        {
          "output_type": "stream",
          "name": "stderr",
          "text": [
            " 35%|███▍      | 158/452 [00:36<00:39,  7.45it/s]"
          ]
        },
        {
          "output_type": "stream",
          "name": "stdout",
          "text": [
            "✅ Saved 29 patches from /content/xview2_data/santa-rosa-wildfire/labels/santa-rosa-wildfire_00000235_post_disaster.json\n",
            "✅ Saved 8 patches from /content/xview2_data/santa-rosa-wildfire/labels/santa-rosa-wildfire_00000055_pre_disaster.json\n",
            "✅ Saved 3 patches from /content/xview2_data/santa-rosa-wildfire/labels/santa-rosa-wildfire_00000116_post_disaster.json\n"
          ]
        },
        {
          "output_type": "stream",
          "name": "stderr",
          "text": [
            "\r 35%|███▌      | 159/452 [00:36<00:39,  7.42it/s]"
          ]
        },
        {
          "output_type": "stream",
          "name": "stdout",
          "text": [
            "✅ Saved 22 patches from /content/xview2_data/santa-rosa-wildfire/labels/santa-rosa-wildfire_00000351_pre_disaster.json\n"
          ]
        },
        {
          "output_type": "stream",
          "name": "stderr",
          "text": [
            " 36%|███▌      | 161/452 [00:37<00:50,  5.77it/s]"
          ]
        },
        {
          "output_type": "stream",
          "name": "stdout",
          "text": [
            "✅ Saved 123 patches from /content/xview2_data/santa-rosa-wildfire/labels/santa-rosa-wildfire_00000007_pre_disaster.json\n",
            "✅ Saved 18 patches from /content/xview2_data/santa-rosa-wildfire/labels/santa-rosa-wildfire_00000059_pre_disaster.json\n"
          ]
        },
        {
          "output_type": "stream",
          "name": "stderr",
          "text": [
            "\r 36%|███▌      | 162/452 [00:37<00:46,  6.18it/s]"
          ]
        },
        {
          "output_type": "stream",
          "name": "stdout",
          "text": [
            "✅ Saved 22 patches from /content/xview2_data/santa-rosa-wildfire/labels/santa-rosa-wildfire_00000136_post_disaster.json\n"
          ]
        },
        {
          "output_type": "stream",
          "name": "stderr",
          "text": [
            " 36%|███▋      | 164/452 [00:38<00:56,  5.06it/s]"
          ]
        },
        {
          "output_type": "stream",
          "name": "stdout",
          "text": [
            "✅ Saved 113 patches from /content/xview2_data/santa-rosa-wildfire/labels/santa-rosa-wildfire_00000076_post_disaster.json\n",
            "✅ Saved 26 patches from /content/xview2_data/santa-rosa-wildfire/labels/santa-rosa-wildfire_00000369_pre_disaster.json\n",
            "✅ Saved 1 patches from /content/xview2_data/santa-rosa-wildfire/labels/santa-rosa-wildfire_00000331_pre_disaster.json\n"
          ]
        },
        {
          "output_type": "stream",
          "name": "stderr",
          "text": [
            "\r 37%|███▋      | 166/452 [00:38<00:40,  7.02it/s]"
          ]
        },
        {
          "output_type": "stream",
          "name": "stdout",
          "text": [
            "✅ Saved 9 patches from /content/xview2_data/santa-rosa-wildfire/labels/santa-rosa-wildfire_00000221_post_disaster.json\n",
            "✅ Saved 5 patches from /content/xview2_data/santa-rosa-wildfire/labels/santa-rosa-wildfire_00000094_pre_disaster.json\n"
          ]
        },
        {
          "output_type": "stream",
          "name": "stderr",
          "text": [
            "\r 37%|███▋      | 168/452 [00:38<00:36,  7.83it/s]"
          ]
        },
        {
          "output_type": "stream",
          "name": "stdout",
          "text": [
            "✅ Saved 30 patches from /content/xview2_data/santa-rosa-wildfire/labels/santa-rosa-wildfire_00000114_post_disaster.json\n"
          ]
        },
        {
          "output_type": "stream",
          "name": "stderr",
          "text": [
            "\r 37%|███▋      | 169/452 [00:38<00:52,  5.43it/s]"
          ]
        },
        {
          "output_type": "stream",
          "name": "stdout",
          "text": [
            "✅ Saved 122 patches from /content/xview2_data/santa-rosa-wildfire/labels/santa-rosa-wildfire_00000015_pre_disaster.json\n",
            "✅ Saved 3 patches from /content/xview2_data/santa-rosa-wildfire/labels/santa-rosa-wildfire_00000116_pre_disaster.json\n"
          ]
        },
        {
          "output_type": "stream",
          "name": "stderr",
          "text": [
            " 38%|███▊      | 172/452 [00:39<00:45,  6.11it/s]"
          ]
        },
        {
          "output_type": "stream",
          "name": "stdout",
          "text": [
            "✅ Saved 42 patches from /content/xview2_data/santa-rosa-wildfire/labels/santa-rosa-wildfire_00000205_post_disaster.json\n",
            "✅ Saved 30 patches from /content/xview2_data/santa-rosa-wildfire/labels/santa-rosa-wildfire_00000030_post_disaster.json\n"
          ]
        },
        {
          "output_type": "stream",
          "name": "stderr",
          "text": [
            "\r 38%|███▊      | 173/452 [00:39<00:43,  6.37it/s]"
          ]
        },
        {
          "output_type": "stream",
          "name": "stdout",
          "text": [
            "✅ Saved 19 patches from /content/xview2_data/santa-rosa-wildfire/labels/santa-rosa-wildfire_00000003_pre_disaster.json\n",
            "✅ Saved 5 patches from /content/xview2_data/santa-rosa-wildfire/labels/santa-rosa-wildfire_00000271_pre_disaster.json\n"
          ]
        },
        {
          "output_type": "stream",
          "name": "stderr",
          "text": [
            "\r 39%|███▊      | 175/452 [00:40<01:02,  4.41it/s]"
          ]
        },
        {
          "output_type": "stream",
          "name": "stdout",
          "text": [
            "✅ Saved 165 patches from /content/xview2_data/santa-rosa-wildfire/labels/santa-rosa-wildfire_00000177_pre_disaster.json\n"
          ]
        },
        {
          "output_type": "stream",
          "name": "stderr",
          "text": [
            " 39%|███▉      | 177/452 [00:40<00:56,  4.85it/s]"
          ]
        },
        {
          "output_type": "stream",
          "name": "stdout",
          "text": [
            "✅ Saved 47 patches from /content/xview2_data/santa-rosa-wildfire/labels/santa-rosa-wildfire_00000344_post_disaster.json\n",
            "✅ Saved 14 patches from /content/xview2_data/santa-rosa-wildfire/labels/santa-rosa-wildfire_00000229_post_disaster.json\n"
          ]
        },
        {
          "output_type": "stream",
          "name": "stderr",
          "text": [
            "\r 39%|███▉      | 178/452 [00:40<01:01,  4.44it/s]"
          ]
        },
        {
          "output_type": "stream",
          "name": "stdout",
          "text": [
            "✅ Saved 76 patches from /content/xview2_data/santa-rosa-wildfire/labels/santa-rosa-wildfire_00000049_post_disaster.json\n"
          ]
        },
        {
          "output_type": "stream",
          "name": "stderr",
          "text": [
            " 40%|███▉      | 180/452 [00:41<01:04,  4.19it/s]"
          ]
        },
        {
          "output_type": "stream",
          "name": "stdout",
          "text": [
            "✅ Saved 139 patches from /content/xview2_data/santa-rosa-wildfire/labels/santa-rosa-wildfire_00000041_pre_disaster.json\n",
            "✅ Saved 19 patches from /content/xview2_data/santa-rosa-wildfire/labels/santa-rosa-wildfire_00000042_pre_disaster.json\n"
          ]
        },
        {
          "output_type": "stream",
          "name": "stderr",
          "text": [
            " 40%|████      | 182/452 [00:41<00:50,  5.36it/s]"
          ]
        },
        {
          "output_type": "stream",
          "name": "stdout",
          "text": [
            "✅ Saved 13 patches from /content/xview2_data/santa-rosa-wildfire/labels/santa-rosa-wildfire_00000291_post_disaster.json\n",
            "✅ Saved 19 patches from /content/xview2_data/santa-rosa-wildfire/labels/santa-rosa-wildfire_00000042_post_disaster.json\n"
          ]
        },
        {
          "output_type": "stream",
          "name": "stderr",
          "text": [
            "\r 40%|████      | 183/452 [00:41<00:51,  5.19it/s]"
          ]
        },
        {
          "output_type": "stream",
          "name": "stdout",
          "text": [
            "✅ Saved 49 patches from /content/xview2_data/santa-rosa-wildfire/labels/santa-rosa-wildfire_00000098_pre_disaster.json\n",
            "✅ Saved 4 patches from /content/xview2_data/santa-rosa-wildfire/labels/santa-rosa-wildfire_00000356_pre_disaster.json\n",
            "⚠️ No features in /content/xview2_data/santa-rosa-wildfire/labels/santa-rosa-wildfire_00000192_post_disaster.json\n"
          ]
        },
        {
          "output_type": "stream",
          "name": "stderr",
          "text": [
            " 41%|████▏     | 187/452 [00:42<00:37,  7.14it/s]"
          ]
        },
        {
          "output_type": "stream",
          "name": "stdout",
          "text": [
            "✅ Saved 15 patches from /content/xview2_data/santa-rosa-wildfire/labels/santa-rosa-wildfire_00000228_pre_disaster.json\n",
            "✅ Saved 41 patches from /content/xview2_data/santa-rosa-wildfire/labels/santa-rosa-wildfire_00000220_post_disaster.json\n"
          ]
        },
        {
          "output_type": "stream",
          "name": "stderr",
          "text": [
            "\r 42%|████▏     | 188/452 [00:42<00:47,  5.50it/s]"
          ]
        },
        {
          "output_type": "stream",
          "name": "stdout",
          "text": [
            "✅ Saved 5 patches from /content/xview2_data/santa-rosa-wildfire/labels/santa-rosa-wildfire_00000148_post_disaster.json\n"
          ]
        },
        {
          "output_type": "stream",
          "name": "stderr",
          "text": [
            "\r 42%|████▏     | 189/452 [00:42<01:07,  3.89it/s]"
          ]
        },
        {
          "output_type": "stream",
          "name": "stdout",
          "text": [
            "✅ Saved 23 patches from /content/xview2_data/santa-rosa-wildfire/labels/santa-rosa-wildfire_00000136_pre_disaster.json\n"
          ]
        },
        {
          "output_type": "stream",
          "name": "stderr",
          "text": [
            " 42%|████▏     | 191/452 [00:43<00:58,  4.46it/s]"
          ]
        },
        {
          "output_type": "stream",
          "name": "stdout",
          "text": [
            "✅ Saved 75 patches from /content/xview2_data/santa-rosa-wildfire/labels/santa-rosa-wildfire_00000286_post_disaster.json\n",
            "✅ Saved 24 patches from /content/xview2_data/santa-rosa-wildfire/labels/santa-rosa-wildfire_00000134_post_disaster.json\n"
          ]
        },
        {
          "output_type": "stream",
          "name": "stderr",
          "text": [
            "\r 42%|████▏     | 192/452 [00:43<01:09,  3.72it/s]"
          ]
        },
        {
          "output_type": "stream",
          "name": "stdout",
          "text": [
            "✅ Saved 23 patches from /content/xview2_data/santa-rosa-wildfire/labels/santa-rosa-wildfire_00000373_post_disaster.json\n"
          ]
        },
        {
          "output_type": "stream",
          "name": "stderr",
          "text": [
            "\r 43%|████▎     | 193/452 [00:44<01:58,  2.19it/s]"
          ]
        },
        {
          "output_type": "stream",
          "name": "stdout",
          "text": [
            "✅ Saved 231 patches from /content/xview2_data/santa-rosa-wildfire/labels/santa-rosa-wildfire_00000243_post_disaster.json\n",
            "✅ Saved 5 patches from /content/xview2_data/santa-rosa-wildfire/labels/santa-rosa-wildfire_00000241_post_disaster.json\n"
          ]
        },
        {
          "output_type": "stream",
          "name": "stderr",
          "text": [
            " 44%|████▎     | 197/452 [00:45<01:01,  4.17it/s]"
          ]
        },
        {
          "output_type": "stream",
          "name": "stdout",
          "text": [
            "✅ Saved 76 patches from /content/xview2_data/santa-rosa-wildfire/labels/santa-rosa-wildfire_00000286_pre_disaster.json\n",
            "✅ Saved 2 patches from /content/xview2_data/santa-rosa-wildfire/labels/santa-rosa-wildfire_00000274_post_disaster.json\n",
            "✅ Saved 11 patches from /content/xview2_data/santa-rosa-wildfire/labels/santa-rosa-wildfire_00000314_pre_disaster.json\n"
          ]
        },
        {
          "output_type": "stream",
          "name": "stderr",
          "text": [
            "\r 44%|████▍     | 199/452 [00:45<00:47,  5.37it/s]"
          ]
        },
        {
          "output_type": "stream",
          "name": "stdout",
          "text": [
            "✅ Saved 4 patches from /content/xview2_data/santa-rosa-wildfire/labels/santa-rosa-wildfire_00000004_post_disaster.json\n",
            "✅ Saved 1 patches from /content/xview2_data/santa-rosa-wildfire/labels/santa-rosa-wildfire_00000017_post_disaster.json\n"
          ]
        },
        {
          "output_type": "stream",
          "name": "stderr",
          "text": [
            " 44%|████▍     | 201/452 [00:46<00:59,  4.18it/s]"
          ]
        },
        {
          "output_type": "stream",
          "name": "stdout",
          "text": [
            "✅ Saved 173 patches from /content/xview2_data/santa-rosa-wildfire/labels/santa-rosa-wildfire_00000371_pre_disaster.json\n",
            "✅ Saved 49 patches from /content/xview2_data/santa-rosa-wildfire/labels/santa-rosa-wildfire_00000011_pre_disaster.json\n"
          ]
        },
        {
          "output_type": "stream",
          "name": "stderr",
          "text": [
            " 45%|████▌     | 204/452 [00:46<00:39,  6.23it/s]"
          ]
        },
        {
          "output_type": "stream",
          "name": "stdout",
          "text": [
            "✅ Saved 5 patches from /content/xview2_data/santa-rosa-wildfire/labels/santa-rosa-wildfire_00000283_post_disaster.json\n",
            "✅ Saved 9 patches from /content/xview2_data/santa-rosa-wildfire/labels/santa-rosa-wildfire_00000067_post_disaster.json\n",
            "✅ Saved 1 patches from /content/xview2_data/santa-rosa-wildfire/labels/santa-rosa-wildfire_00000245_pre_disaster.json\n"
          ]
        },
        {
          "output_type": "stream",
          "name": "stderr",
          "text": [
            "\r 45%|████▌     | 205/452 [00:46<00:54,  4.54it/s]"
          ]
        },
        {
          "output_type": "stream",
          "name": "stdout",
          "text": [
            "✅ Saved 101 patches from /content/xview2_data/santa-rosa-wildfire/labels/santa-rosa-wildfire_00000002_pre_disaster.json\n"
          ]
        },
        {
          "output_type": "stream",
          "name": "stderr",
          "text": [
            " 46%|████▌     | 208/452 [00:47<01:06,  3.68it/s]"
          ]
        },
        {
          "output_type": "stream",
          "name": "stdout",
          "text": [
            "✅ Saved 278 patches from /content/xview2_data/santa-rosa-wildfire/labels/santa-rosa-wildfire_00000058_pre_disaster.json\n",
            "⚠️ No features in /content/xview2_data/santa-rosa-wildfire/labels/santa-rosa-wildfire_00000327_pre_disaster.json\n",
            "✅ Saved 9 patches from /content/xview2_data/santa-rosa-wildfire/labels/santa-rosa-wildfire_00000152_post_disaster.json\n"
          ]
        },
        {
          "output_type": "stream",
          "name": "stderr",
          "text": [
            " 46%|████▋     | 210/452 [00:48<01:17,  3.14it/s]"
          ]
        },
        {
          "output_type": "stream",
          "name": "stdout",
          "text": [
            "✅ Saved 179 patches from /content/xview2_data/santa-rosa-wildfire/labels/santa-rosa-wildfire_00000169_pre_disaster.json\n",
            "✅ Saved 14 patches from /content/xview2_data/santa-rosa-wildfire/labels/santa-rosa-wildfire_00000270_pre_disaster.json\n"
          ]
        },
        {
          "output_type": "stream",
          "name": "stderr",
          "text": [
            "\r 47%|████▋     | 211/452 [00:49<01:07,  3.55it/s]"
          ]
        },
        {
          "output_type": "stream",
          "name": "stdout",
          "text": [
            "✅ Saved 19 patches from /content/xview2_data/santa-rosa-wildfire/labels/santa-rosa-wildfire_00000164_pre_disaster.json\n"
          ]
        },
        {
          "output_type": "stream",
          "name": "stderr",
          "text": [
            "\r 47%|████▋     | 212/452 [00:49<01:30,  2.64it/s]"
          ]
        },
        {
          "output_type": "stream",
          "name": "stdout",
          "text": [
            "✅ Saved 231 patches from /content/xview2_data/santa-rosa-wildfire/labels/santa-rosa-wildfire_00000243_pre_disaster.json\n"
          ]
        },
        {
          "output_type": "stream",
          "name": "stderr",
          "text": [
            " 48%|████▊     | 215/452 [00:50<01:04,  3.65it/s]"
          ]
        },
        {
          "output_type": "stream",
          "name": "stdout",
          "text": [
            "✅ Saved 209 patches from /content/xview2_data/santa-rosa-wildfire/labels/santa-rosa-wildfire_00000225_pre_disaster.json\n",
            "✅ Saved 2 patches from /content/xview2_data/santa-rosa-wildfire/labels/santa-rosa-wildfire_00000069_pre_disaster.json\n",
            "✅ Saved 6 patches from /content/xview2_data/santa-rosa-wildfire/labels/santa-rosa-wildfire_00000208_pre_disaster.json\n"
          ]
        },
        {
          "output_type": "stream",
          "name": "stderr",
          "text": [
            "\r 48%|████▊     | 216/452 [00:50<01:13,  3.21it/s]"
          ]
        },
        {
          "output_type": "stream",
          "name": "stdout",
          "text": [
            "✅ Saved 138 patches from /content/xview2_data/santa-rosa-wildfire/labels/santa-rosa-wildfire_00000041_post_disaster.json\n"
          ]
        },
        {
          "output_type": "stream",
          "name": "stderr",
          "text": [
            " 48%|████▊     | 218/452 [00:51<01:10,  3.32it/s]"
          ]
        },
        {
          "output_type": "stream",
          "name": "stdout",
          "text": [
            "✅ Saved 182 patches from /content/xview2_data/santa-rosa-wildfire/labels/santa-rosa-wildfire_00000079_post_disaster.json\n",
            "✅ Saved 14 patches from /content/xview2_data/santa-rosa-wildfire/labels/santa-rosa-wildfire_00000248_pre_disaster.json\n"
          ]
        },
        {
          "output_type": "stream",
          "name": "stderr",
          "text": [
            "\r 48%|████▊     | 219/452 [00:51<01:12,  3.21it/s]"
          ]
        },
        {
          "output_type": "stream",
          "name": "stdout",
          "text": [
            "✅ Saved 88 patches from /content/xview2_data/santa-rosa-wildfire/labels/santa-rosa-wildfire_00000101_pre_disaster.json\n"
          ]
        },
        {
          "output_type": "stream",
          "name": "stderr",
          "text": [
            " 49%|████▉     | 222/452 [00:52<00:51,  4.49it/s]"
          ]
        },
        {
          "output_type": "stream",
          "name": "stdout",
          "text": [
            "✅ Saved 115 patches from /content/xview2_data/santa-rosa-wildfire/labels/santa-rosa-wildfire_00000110_pre_disaster.json\n",
            "✅ Saved 8 patches from /content/xview2_data/santa-rosa-wildfire/labels/santa-rosa-wildfire_00000353_post_disaster.json\n",
            "✅ Saved 8 patches from /content/xview2_data/santa-rosa-wildfire/labels/santa-rosa-wildfire_00000296_pre_disaster.json\n",
            "✅ Saved 5 patches from /content/xview2_data/santa-rosa-wildfire/labels/santa-rosa-wildfire_00000009_post_disaster.json\n"
          ]
        },
        {
          "output_type": "stream",
          "name": "stderr",
          "text": [
            " 50%|████▉     | 225/452 [00:53<00:54,  4.19it/s]"
          ]
        },
        {
          "output_type": "stream",
          "name": "stdout",
          "text": [
            "✅ Saved 207 patches from /content/xview2_data/santa-rosa-wildfire/labels/santa-rosa-wildfire_00000225_post_disaster.json\n",
            "✅ Saved 26 patches from /content/xview2_data/santa-rosa-wildfire/labels/santa-rosa-wildfire_00000361_pre_disaster.json\n"
          ]
        },
        {
          "output_type": "stream",
          "name": "stderr",
          "text": [
            " 50%|█████     | 227/452 [00:53<00:49,  4.52it/s]"
          ]
        },
        {
          "output_type": "stream",
          "name": "stdout",
          "text": [
            "✅ Saved 53 patches from /content/xview2_data/santa-rosa-wildfire/labels/santa-rosa-wildfire_00000214_pre_disaster.json\n",
            "✅ Saved 42 patches from /content/xview2_data/santa-rosa-wildfire/labels/santa-rosa-wildfire_00000260_pre_disaster.json\n"
          ]
        },
        {
          "output_type": "stream",
          "name": "stderr",
          "text": [
            " 51%|█████     | 229/452 [00:53<00:41,  5.32it/s]"
          ]
        },
        {
          "output_type": "stream",
          "name": "stdout",
          "text": [
            "✅ Saved 62 patches from /content/xview2_data/santa-rosa-wildfire/labels/santa-rosa-wildfire_00000075_pre_disaster.json\n",
            "✅ Saved 14 patches from /content/xview2_data/santa-rosa-wildfire/labels/santa-rosa-wildfire_00000291_pre_disaster.json\n"
          ]
        },
        {
          "output_type": "stream",
          "name": "stderr",
          "text": [
            " 51%|█████     | 231/452 [00:54<00:37,  5.90it/s]"
          ]
        },
        {
          "output_type": "stream",
          "name": "stdout",
          "text": [
            "✅ Saved 30 patches from /content/xview2_data/santa-rosa-wildfire/labels/santa-rosa-wildfire_00000030_pre_disaster.json\n",
            "✅ Saved 27 patches from /content/xview2_data/santa-rosa-wildfire/labels/santa-rosa-wildfire_00000170_pre_disaster.json\n"
          ]
        },
        {
          "output_type": "stream",
          "name": "stderr",
          "text": [
            "\r 51%|█████▏    | 232/452 [00:54<00:34,  6.44it/s]"
          ]
        },
        {
          "output_type": "stream",
          "name": "stdout",
          "text": [
            "✅ Saved 18 patches from /content/xview2_data/santa-rosa-wildfire/labels/santa-rosa-wildfire_00000059_post_disaster.json\n"
          ]
        },
        {
          "output_type": "stream",
          "name": "stderr",
          "text": [
            "\r 52%|█████▏    | 233/452 [00:54<01:05,  3.35it/s]"
          ]
        },
        {
          "output_type": "stream",
          "name": "stdout",
          "text": [
            "✅ Saved 221 patches from /content/xview2_data/santa-rosa-wildfire/labels/santa-rosa-wildfire_00000203_post_disaster.json\n"
          ]
        },
        {
          "output_type": "stream",
          "name": "stderr",
          "text": [
            "\r 52%|█████▏    | 234/452 [00:55<01:03,  3.42it/s]"
          ]
        },
        {
          "output_type": "stream",
          "name": "stdout",
          "text": [
            "✅ Saved 80 patches from /content/xview2_data/santa-rosa-wildfire/labels/santa-rosa-wildfire_00000044_post_disaster.json\n",
            "✅ Saved 8 patches from /content/xview2_data/santa-rosa-wildfire/labels/santa-rosa-wildfire_00000055_post_disaster.json\n"
          ]
        },
        {
          "output_type": "stream",
          "name": "stderr",
          "text": [
            "\r 52%|█████▏    | 236/452 [00:55<01:08,  3.14it/s]"
          ]
        },
        {
          "output_type": "stream",
          "name": "stdout",
          "text": [
            "✅ Saved 201 patches from /content/xview2_data/santa-rosa-wildfire/labels/santa-rosa-wildfire_00000166_pre_disaster.json\n"
          ]
        },
        {
          "output_type": "stream",
          "name": "stderr",
          "text": [
            "\r 52%|█████▏    | 237/452 [00:56<01:10,  3.06it/s]"
          ]
        },
        {
          "output_type": "stream",
          "name": "stdout",
          "text": [
            "✅ Saved 108 patches from /content/xview2_data/santa-rosa-wildfire/labels/santa-rosa-wildfire_00000129_post_disaster.json\n"
          ]
        },
        {
          "output_type": "stream",
          "name": "stderr",
          "text": [
            " 53%|█████▎    | 239/452 [00:56<01:09,  3.07it/s]"
          ]
        },
        {
          "output_type": "stream",
          "name": "stdout",
          "text": [
            "✅ Saved 182 patches from /content/xview2_data/santa-rosa-wildfire/labels/santa-rosa-wildfire_00000079_pre_disaster.json\n",
            "✅ Saved 33 patches from /content/xview2_data/santa-rosa-wildfire/labels/santa-rosa-wildfire_00000073_pre_disaster.json\n"
          ]
        },
        {
          "output_type": "stream",
          "name": "stderr",
          "text": [
            " 53%|█████▎    | 241/452 [00:57<01:05,  3.23it/s]"
          ]
        },
        {
          "output_type": "stream",
          "name": "stdout",
          "text": [
            "✅ Saved 179 patches from /content/xview2_data/santa-rosa-wildfire/labels/santa-rosa-wildfire_00000169_post_disaster.json\n",
            "✅ Saved 19 patches from /content/xview2_data/santa-rosa-wildfire/labels/santa-rosa-wildfire_00000003_post_disaster.json\n"
          ]
        },
        {
          "output_type": "stream",
          "name": "stderr",
          "text": [
            "\r 54%|█████▎    | 242/452 [00:57<00:52,  3.96it/s]"
          ]
        },
        {
          "output_type": "stream",
          "name": "stdout",
          "text": [
            "✅ Saved 11 patches from /content/xview2_data/santa-rosa-wildfire/labels/santa-rosa-wildfire_00000060_pre_disaster.json\n"
          ]
        },
        {
          "output_type": "stream",
          "name": "stderr",
          "text": [
            " 54%|█████▍    | 245/452 [00:58<00:50,  4.10it/s]"
          ]
        },
        {
          "output_type": "stream",
          "name": "stdout",
          "text": [
            "✅ Saved 254 patches from /content/xview2_data/santa-rosa-wildfire/labels/santa-rosa-wildfire_00000138_pre_disaster.json\n",
            "✅ Saved 6 patches from /content/xview2_data/santa-rosa-wildfire/labels/santa-rosa-wildfire_00000233_post_disaster.json\n",
            "✅ Saved 4 patches from /content/xview2_data/santa-rosa-wildfire/labels/santa-rosa-wildfire_00000348_post_disaster.json\n"
          ]
        },
        {
          "output_type": "stream",
          "name": "stderr",
          "text": [
            "\r 54%|█████▍    | 246/452 [00:58<00:48,  4.23it/s]"
          ]
        },
        {
          "output_type": "stream",
          "name": "stdout",
          "text": [
            "✅ Saved 55 patches from /content/xview2_data/santa-rosa-wildfire/labels/santa-rosa-wildfire_00000156_pre_disaster.json\n",
            "✅ Saved 12 patches from /content/xview2_data/santa-rosa-wildfire/labels/santa-rosa-wildfire_00000109_pre_disaster.json\n"
          ]
        },
        {
          "output_type": "stream",
          "name": "stderr",
          "text": [
            "\r 55%|█████▍    | 248/452 [00:59<00:37,  5.38it/s]"
          ]
        },
        {
          "output_type": "stream",
          "name": "stdout",
          "text": [
            "✅ Saved 27 patches from /content/xview2_data/santa-rosa-wildfire/labels/santa-rosa-wildfire_00000209_post_disaster.json\n"
          ]
        },
        {
          "output_type": "stream",
          "name": "stderr",
          "text": [
            " 55%|█████▌    | 250/452 [00:59<00:37,  5.39it/s]"
          ]
        },
        {
          "output_type": "stream",
          "name": "stdout",
          "text": [
            "✅ Saved 41 patches from /content/xview2_data/santa-rosa-wildfire/labels/santa-rosa-wildfire_00000220_pre_disaster.json\n",
            "✅ Saved 9 patches from /content/xview2_data/santa-rosa-wildfire/labels/santa-rosa-wildfire_00000176_post_disaster.json\n"
          ]
        },
        {
          "output_type": "stream",
          "name": "stderr",
          "text": [
            " 56%|█████▌    | 252/452 [01:00<01:01,  3.24it/s]"
          ]
        },
        {
          "output_type": "stream",
          "name": "stdout",
          "text": [
            "✅ Saved 240 patches from /content/xview2_data/santa-rosa-wildfire/labels/santa-rosa-wildfire_00000161_post_disaster.json\n",
            "✅ Saved 7 patches from /content/xview2_data/santa-rosa-wildfire/labels/santa-rosa-wildfire_00000308_pre_disaster.json\n"
          ]
        },
        {
          "output_type": "stream",
          "name": "stderr",
          "text": [
            " 56%|█████▌    | 254/452 [01:00<00:48,  4.06it/s]"
          ]
        },
        {
          "output_type": "stream",
          "name": "stdout",
          "text": [
            "✅ Saved 45 patches from /content/xview2_data/santa-rosa-wildfire/labels/santa-rosa-wildfire_00000118_post_disaster.json\n",
            "✅ Saved 3 patches from /content/xview2_data/santa-rosa-wildfire/labels/santa-rosa-wildfire_00000299_pre_disaster.json\n"
          ]
        },
        {
          "output_type": "stream",
          "name": "stderr",
          "text": [
            " 57%|█████▋    | 256/452 [01:01<00:38,  5.11it/s]"
          ]
        },
        {
          "output_type": "stream",
          "name": "stdout",
          "text": [
            "✅ Saved 5 patches from /content/xview2_data/santa-rosa-wildfire/labels/santa-rosa-wildfire_00000024_pre_disaster.json\n",
            "✅ Saved 14 patches from /content/xview2_data/santa-rosa-wildfire/labels/santa-rosa-wildfire_00000330_pre_disaster.json\n"
          ]
        },
        {
          "output_type": "stream",
          "name": "stderr",
          "text": [
            " 57%|█████▋    | 258/452 [01:01<00:42,  4.60it/s]"
          ]
        },
        {
          "output_type": "stream",
          "name": "stdout",
          "text": [
            "✅ Saved 75 patches from /content/xview2_data/santa-rosa-wildfire/labels/santa-rosa-wildfire_00000088_pre_disaster.json\n",
            "✅ Saved 11 patches from /content/xview2_data/santa-rosa-wildfire/labels/santa-rosa-wildfire_00000182_post_disaster.json\n"
          ]
        },
        {
          "output_type": "stream",
          "name": "stderr",
          "text": [
            " 58%|█████▊    | 260/452 [01:02<00:46,  4.14it/s]"
          ]
        },
        {
          "output_type": "stream",
          "name": "stdout",
          "text": [
            "✅ Saved 115 patches from /content/xview2_data/santa-rosa-wildfire/labels/santa-rosa-wildfire_00000036_pre_disaster.json\n",
            "✅ Saved 53 patches from /content/xview2_data/santa-rosa-wildfire/labels/santa-rosa-wildfire_00000210_post_disaster.json\n",
            "✅ Saved 9 patches from /content/xview2_data/santa-rosa-wildfire/labels/santa-rosa-wildfire_00000051_post_disaster.json\n"
          ]
        },
        {
          "output_type": "stream",
          "name": "stderr",
          "text": [
            "\r 58%|█████▊    | 262/452 [01:02<00:57,  3.29it/s]"
          ]
        },
        {
          "output_type": "stream",
          "name": "stdout",
          "text": [
            "✅ Saved 240 patches from /content/xview2_data/santa-rosa-wildfire/labels/santa-rosa-wildfire_00000161_pre_disaster.json\n"
          ]
        },
        {
          "output_type": "stream",
          "name": "stderr",
          "text": [
            " 58%|█████▊    | 264/452 [01:03<00:52,  3.58it/s]"
          ]
        },
        {
          "output_type": "stream",
          "name": "stdout",
          "text": [
            "✅ Saved 110 patches from /content/xview2_data/santa-rosa-wildfire/labels/santa-rosa-wildfire_00000189_post_disaster.json\n",
            "✅ Saved 35 patches from /content/xview2_data/santa-rosa-wildfire/labels/santa-rosa-wildfire_00000035_pre_disaster.json\n"
          ]
        },
        {
          "output_type": "stream",
          "name": "stderr",
          "text": [
            " 59%|█████▉    | 266/452 [01:04<00:46,  3.99it/s]"
          ]
        },
        {
          "output_type": "stream",
          "name": "stdout",
          "text": [
            "✅ Saved 126 patches from /content/xview2_data/santa-rosa-wildfire/labels/santa-rosa-wildfire_00000165_post_disaster.json\n",
            "✅ Saved 15 patches from /content/xview2_data/santa-rosa-wildfire/labels/santa-rosa-wildfire_00000228_post_disaster.json\n"
          ]
        },
        {
          "output_type": "stream",
          "name": "stderr",
          "text": [
            "\r 59%|█████▉    | 267/452 [01:04<00:39,  4.63it/s]"
          ]
        },
        {
          "output_type": "stream",
          "name": "stdout",
          "text": [
            "✅ Saved 21 patches from /content/xview2_data/santa-rosa-wildfire/labels/santa-rosa-wildfire_00000267_pre_disaster.json\n"
          ]
        },
        {
          "output_type": "stream",
          "name": "stderr",
          "text": [
            " 60%|█████▉    | 269/452 [01:04<00:45,  4.05it/s]"
          ]
        },
        {
          "output_type": "stream",
          "name": "stdout",
          "text": [
            "✅ Saved 173 patches from /content/xview2_data/santa-rosa-wildfire/labels/santa-rosa-wildfire_00000371_post_disaster.json\n",
            "✅ Saved 13 patches from /content/xview2_data/santa-rosa-wildfire/labels/santa-rosa-wildfire_00000268_post_disaster.json\n"
          ]
        },
        {
          "output_type": "stream",
          "name": "stderr",
          "text": [
            "\r 60%|█████▉    | 270/452 [01:05<00:56,  3.24it/s]"
          ]
        },
        {
          "output_type": "stream",
          "name": "stdout",
          "text": [
            "✅ Saved 161 patches from /content/xview2_data/santa-rosa-wildfire/labels/santa-rosa-wildfire_00000173_pre_disaster.json\n"
          ]
        },
        {
          "output_type": "stream",
          "name": "stderr",
          "text": [
            " 60%|██████    | 272/452 [01:05<00:51,  3.51it/s]"
          ]
        },
        {
          "output_type": "stream",
          "name": "stdout",
          "text": [
            "✅ Saved 128 patches from /content/xview2_data/santa-rosa-wildfire/labels/santa-rosa-wildfire_00000090_post_disaster.json\n",
            "✅ Saved 29 patches from /content/xview2_data/santa-rosa-wildfire/labels/santa-rosa-wildfire_00000235_pre_disaster.json\n"
          ]
        },
        {
          "output_type": "stream",
          "name": "stderr",
          "text": [
            " 61%|██████    | 274/452 [01:06<00:53,  3.34it/s]"
          ]
        },
        {
          "output_type": "stream",
          "name": "stdout",
          "text": [
            "✅ Saved 188 patches from /content/xview2_data/santa-rosa-wildfire/labels/santa-rosa-wildfire_00000355_post_disaster.json\n",
            "✅ Saved 26 patches from /content/xview2_data/santa-rosa-wildfire/labels/santa-rosa-wildfire_00000369_post_disaster.json\n"
          ]
        },
        {
          "output_type": "stream",
          "name": "stderr",
          "text": [
            " 61%|██████▏   | 277/452 [01:06<00:31,  5.48it/s]"
          ]
        },
        {
          "output_type": "stream",
          "name": "stdout",
          "text": [
            "✅ Saved 32 patches from /content/xview2_data/santa-rosa-wildfire/labels/santa-rosa-wildfire_00000196_post_disaster.json\n",
            "✅ Saved 7 patches from /content/xview2_data/santa-rosa-wildfire/labels/santa-rosa-wildfire_00000081_pre_disaster.json\n",
            "✅ Saved 10 patches from /content/xview2_data/santa-rosa-wildfire/labels/santa-rosa-wildfire_00000158_post_disaster.json\n"
          ]
        },
        {
          "output_type": "stream",
          "name": "stderr",
          "text": [
            " 62%|██████▏   | 280/452 [01:07<00:21,  7.97it/s]"
          ]
        },
        {
          "output_type": "stream",
          "name": "stdout",
          "text": [
            "✅ Saved 7 patches from /content/xview2_data/santa-rosa-wildfire/labels/santa-rosa-wildfire_00000072_post_disaster.json\n",
            "⚠️ No features in /content/xview2_data/santa-rosa-wildfire/labels/santa-rosa-wildfire_00000247_pre_disaster.json\n",
            "✅ Saved 18 patches from /content/xview2_data/santa-rosa-wildfire/labels/santa-rosa-wildfire_00000027_post_disaster.json\n"
          ]
        },
        {
          "output_type": "stream",
          "name": "stderr",
          "text": [
            "\r 62%|██████▏   | 281/452 [01:07<00:21,  7.85it/s]"
          ]
        },
        {
          "output_type": "stream",
          "name": "stdout",
          "text": [
            "✅ Saved 24 patches from /content/xview2_data/santa-rosa-wildfire/labels/santa-rosa-wildfire_00000093_post_disaster.json\n"
          ]
        },
        {
          "output_type": "stream",
          "name": "stderr",
          "text": [
            " 63%|██████▎   | 283/452 [01:07<00:26,  6.48it/s]"
          ]
        },
        {
          "output_type": "stream",
          "name": "stdout",
          "text": [
            "✅ Saved 51 patches from /content/xview2_data/santa-rosa-wildfire/labels/santa-rosa-wildfire_00000162_post_disaster.json\n",
            "✅ Saved 37 patches from /content/xview2_data/santa-rosa-wildfire/labels/santa-rosa-wildfire_00000357_pre_disaster.json\n"
          ]
        },
        {
          "output_type": "stream",
          "name": "stderr",
          "text": [
            " 63%|██████▎   | 285/452 [01:08<00:36,  4.54it/s]"
          ]
        },
        {
          "output_type": "stream",
          "name": "stdout",
          "text": [
            "✅ Saved 205 patches from /content/xview2_data/santa-rosa-wildfire/labels/santa-rosa-wildfire_00000368_post_disaster.json\n",
            "✅ Saved 10 patches from /content/xview2_data/santa-rosa-wildfire/labels/santa-rosa-wildfire_00000259_pre_disaster.json\n",
            "✅ Saved 7 patches from /content/xview2_data/santa-rosa-wildfire/labels/santa-rosa-wildfire_00000308_post_disaster.json\n"
          ]
        },
        {
          "output_type": "stream",
          "name": "stderr",
          "text": [
            "\r 63%|██████▎   | 287/452 [01:08<00:26,  6.34it/s]"
          ]
        },
        {
          "output_type": "stream",
          "name": "stdout",
          "text": [
            "✅ Saved 9 patches from /content/xview2_data/santa-rosa-wildfire/labels/santa-rosa-wildfire_00000078_post_disaster.json\n"
          ]
        },
        {
          "output_type": "stream",
          "name": "stderr",
          "text": [
            " 64%|██████▍   | 289/452 [01:08<00:26,  6.14it/s]"
          ]
        },
        {
          "output_type": "stream",
          "name": "stdout",
          "text": [
            "✅ Saved 49 patches from /content/xview2_data/santa-rosa-wildfire/labels/santa-rosa-wildfire_00000098_post_disaster.json\n",
            "✅ Saved 26 patches from /content/xview2_data/santa-rosa-wildfire/labels/santa-rosa-wildfire_00000370_pre_disaster.json\n"
          ]
        },
        {
          "output_type": "stream",
          "name": "stderr",
          "text": [
            "\r 64%|██████▍   | 290/452 [01:08<00:23,  6.80it/s]"
          ]
        },
        {
          "output_type": "stream",
          "name": "stdout",
          "text": [
            "✅ Saved 10 patches from /content/xview2_data/santa-rosa-wildfire/labels/santa-rosa-wildfire_00000312_post_disaster.json\n"
          ]
        },
        {
          "output_type": "stream",
          "name": "stderr",
          "text": [
            "\r 64%|██████▍   | 291/452 [01:09<00:43,  3.69it/s]"
          ]
        },
        {
          "output_type": "stream",
          "name": "stdout",
          "text": [
            "✅ Saved 216 patches from /content/xview2_data/santa-rosa-wildfire/labels/santa-rosa-wildfire_00000171_pre_disaster.json\n"
          ]
        },
        {
          "output_type": "stream",
          "name": "stderr",
          "text": [
            "\r 65%|██████▍   | 292/452 [01:10<00:57,  2.80it/s]"
          ]
        },
        {
          "output_type": "stream",
          "name": "stdout",
          "text": [
            "✅ Saved 201 patches from /content/xview2_data/santa-rosa-wildfire/labels/santa-rosa-wildfire_00000166_post_disaster.json\n",
            "⚠️ No features in /content/xview2_data/santa-rosa-wildfire/labels/santa-rosa-wildfire_00000334_post_disaster.json\n",
            "✅ Saved 2 patches from /content/xview2_data/santa-rosa-wildfire/labels/santa-rosa-wildfire_00000293_post_disaster.json\n"
          ]
        },
        {
          "output_type": "stream",
          "name": "stderr",
          "text": [
            "\r 65%|██████▌   | 295/452 [01:10<00:32,  4.90it/s]"
          ]
        },
        {
          "output_type": "stream",
          "name": "stdout",
          "text": [
            "✅ Saved 26 patches from /content/xview2_data/santa-rosa-wildfire/labels/santa-rosa-wildfire_00000361_post_disaster.json\n"
          ]
        },
        {
          "output_type": "stream",
          "name": "stderr",
          "text": [
            " 66%|██████▌   | 298/452 [01:10<00:25,  6.02it/s]"
          ]
        },
        {
          "output_type": "stream",
          "name": "stdout",
          "text": [
            "✅ Saved 58 patches from /content/xview2_data/santa-rosa-wildfire/labels/santa-rosa-wildfire_00000362_pre_disaster.json\n",
            "✅ Saved 1 patches from /content/xview2_data/santa-rosa-wildfire/labels/santa-rosa-wildfire_00000017_pre_disaster.json\n",
            "✅ Saved 7 patches from /content/xview2_data/santa-rosa-wildfire/labels/santa-rosa-wildfire_00000226_post_disaster.json\n"
          ]
        },
        {
          "output_type": "stream",
          "name": "stderr",
          "text": [
            " 66%|██████▋   | 300/452 [01:10<00:22,  6.79it/s]"
          ]
        },
        {
          "output_type": "stream",
          "name": "stdout",
          "text": [
            "✅ Saved 8 patches from /content/xview2_data/santa-rosa-wildfire/labels/santa-rosa-wildfire_00000280_pre_disaster.json\n",
            "✅ Saved 18 patches from /content/xview2_data/santa-rosa-wildfire/labels/santa-rosa-wildfire_00000190_pre_disaster.json\n"
          ]
        },
        {
          "output_type": "stream",
          "name": "stderr",
          "text": [
            " 67%|██████▋   | 302/452 [01:11<00:20,  7.16it/s]"
          ]
        },
        {
          "output_type": "stream",
          "name": "stdout",
          "text": [
            "✅ Saved 13 patches from /content/xview2_data/santa-rosa-wildfire/labels/santa-rosa-wildfire_00000065_pre_disaster.json\n",
            "✅ Saved 27 patches from /content/xview2_data/santa-rosa-wildfire/labels/santa-rosa-wildfire_00000170_post_disaster.json\n"
          ]
        },
        {
          "output_type": "stream",
          "name": "stderr",
          "text": [
            "\r 67%|██████▋   | 304/452 [01:11<00:18,  7.89it/s]"
          ]
        },
        {
          "output_type": "stream",
          "name": "stdout",
          "text": [
            "✅ Saved 7 patches from /content/xview2_data/santa-rosa-wildfire/labels/santa-rosa-wildfire_00000191_post_disaster.json\n",
            "✅ Saved 21 patches from /content/xview2_data/santa-rosa-wildfire/labels/santa-rosa-wildfire_00000267_post_disaster.json\n",
            "✅ Saved 5 patches from /content/xview2_data/santa-rosa-wildfire/labels/santa-rosa-wildfire_00000148_pre_disaster.json\n"
          ]
        },
        {
          "output_type": "stream",
          "name": "stderr",
          "text": [
            "\r 68%|██████▊   | 306/452 [01:11<00:20,  7.27it/s]"
          ]
        },
        {
          "output_type": "stream",
          "name": "stdout",
          "text": [
            "✅ Saved 42 patches from /content/xview2_data/santa-rosa-wildfire/labels/santa-rosa-wildfire_00000039_post_disaster.json\n"
          ]
        },
        {
          "output_type": "stream",
          "name": "stderr",
          "text": [
            "\r 68%|██████▊   | 307/452 [01:12<00:29,  4.92it/s]"
          ]
        },
        {
          "output_type": "stream",
          "name": "stdout",
          "text": [
            "✅ Saved 97 patches from /content/xview2_data/santa-rosa-wildfire/labels/santa-rosa-wildfire_00000022_pre_disaster.json\n",
            "⚠️ No features in /content/xview2_data/santa-rosa-wildfire/labels/santa-rosa-wildfire_00000258_post_disaster.json\n"
          ]
        },
        {
          "output_type": "stream",
          "name": "stderr",
          "text": [
            " 69%|██████▊   | 310/452 [01:12<00:28,  4.94it/s]"
          ]
        },
        {
          "output_type": "stream",
          "name": "stdout",
          "text": [
            "✅ Saved 114 patches from /content/xview2_data/santa-rosa-wildfire/labels/santa-rosa-wildfire_00000106_pre_disaster.json\n",
            "✅ Saved 9 patches from /content/xview2_data/santa-rosa-wildfire/labels/santa-rosa-wildfire_00000174_post_disaster.json\n"
          ]
        },
        {
          "output_type": "stream",
          "name": "stderr",
          "text": [
            " 69%|██████▉   | 312/452 [01:13<00:25,  5.52it/s]"
          ]
        },
        {
          "output_type": "stream",
          "name": "stdout",
          "text": [
            "✅ Saved 26 patches from /content/xview2_data/santa-rosa-wildfire/labels/santa-rosa-wildfire_00000370_post_disaster.json\n",
            "✅ Saved 3 patches from /content/xview2_data/santa-rosa-wildfire/labels/santa-rosa-wildfire_00000183_pre_disaster.json\n"
          ]
        },
        {
          "output_type": "stream",
          "name": "stderr",
          "text": [
            "\r 69%|██████▉   | 313/452 [01:13<00:25,  5.50it/s]"
          ]
        },
        {
          "output_type": "stream",
          "name": "stdout",
          "text": [
            "✅ Saved 24 patches from /content/xview2_data/santa-rosa-wildfire/labels/santa-rosa-wildfire_00000264_pre_disaster.json\n"
          ]
        },
        {
          "output_type": "stream",
          "name": "stderr",
          "text": [
            " 70%|██████▉   | 315/452 [01:13<00:25,  5.31it/s]"
          ]
        },
        {
          "output_type": "stream",
          "name": "stdout",
          "text": [
            "✅ Saved 42 patches from /content/xview2_data/santa-rosa-wildfire/labels/santa-rosa-wildfire_00000033_post_disaster.json\n",
            "✅ Saved 16 patches from /content/xview2_data/santa-rosa-wildfire/labels/santa-rosa-wildfire_00000324_pre_disaster.json\n"
          ]
        },
        {
          "output_type": "stream",
          "name": "stderr",
          "text": [
            " 70%|███████   | 317/452 [01:14<00:25,  5.22it/s]"
          ]
        },
        {
          "output_type": "stream",
          "name": "stdout",
          "text": [
            "✅ Saved 34 patches from /content/xview2_data/santa-rosa-wildfire/labels/santa-rosa-wildfire_00000244_pre_disaster.json\n",
            "✅ Saved 19 patches from /content/xview2_data/santa-rosa-wildfire/labels/santa-rosa-wildfire_00000140_post_disaster.json\n"
          ]
        },
        {
          "output_type": "stream",
          "name": "stderr",
          "text": [
            " 71%|███████   | 319/452 [01:14<00:30,  4.30it/s]"
          ]
        },
        {
          "output_type": "stream",
          "name": "stdout",
          "text": [
            "✅ Saved 101 patches from /content/xview2_data/santa-rosa-wildfire/labels/santa-rosa-wildfire_00000002_post_disaster.json\n",
            "✅ Saved 48 patches from /content/xview2_data/santa-rosa-wildfire/labels/santa-rosa-wildfire_00000011_post_disaster.json\n"
          ]
        },
        {
          "output_type": "stream",
          "name": "stderr",
          "text": [
            " 71%|███████   | 321/452 [01:15<00:38,  3.45it/s]"
          ]
        },
        {
          "output_type": "stream",
          "name": "stdout",
          "text": [
            "✅ Saved 222 patches from /content/xview2_data/santa-rosa-wildfire/labels/santa-rosa-wildfire_00000063_post_disaster.json\n",
            "✅ Saved 35 patches from /content/xview2_data/santa-rosa-wildfire/labels/santa-rosa-wildfire_00000103_post_disaster.json\n",
            "⚠️ No features in /content/xview2_data/santa-rosa-wildfire/labels/santa-rosa-wildfire_00000320_pre_disaster.json\n"
          ]
        },
        {
          "output_type": "stream",
          "name": "stderr",
          "text": [
            "\r 71%|███████▏  | 323/452 [01:15<00:26,  4.92it/s]"
          ]
        },
        {
          "output_type": "stream",
          "name": "stdout",
          "text": [
            "✅ Saved 49 patches from /content/xview2_data/santa-rosa-wildfire/labels/santa-rosa-wildfire_00000130_pre_disaster.json\n",
            "⚠️ No features in /content/xview2_data/santa-rosa-wildfire/labels/santa-rosa-wildfire_00000327_post_disaster.json\n",
            "✅ Saved 9 patches from /content/xview2_data/santa-rosa-wildfire/labels/santa-rosa-wildfire_00000067_pre_disaster.json\n"
          ]
        },
        {
          "output_type": "stream",
          "name": "stderr",
          "text": [
            " 72%|███████▏  | 327/452 [01:16<00:18,  6.75it/s]"
          ]
        },
        {
          "output_type": "stream",
          "name": "stdout",
          "text": [
            "✅ Saved 9 patches from /content/xview2_data/santa-rosa-wildfire/labels/santa-rosa-wildfire_00000301_post_disaster.json\n",
            "✅ Saved 44 patches from /content/xview2_data/santa-rosa-wildfire/labels/santa-rosa-wildfire_00000046_pre_disaster.json\n"
          ]
        },
        {
          "output_type": "stream",
          "name": "stderr",
          "text": [
            "\r 73%|███████▎  | 328/452 [01:16<00:17,  7.00it/s]"
          ]
        },
        {
          "output_type": "stream",
          "name": "stdout",
          "text": [
            "✅ Saved 19 patches from /content/xview2_data/santa-rosa-wildfire/labels/santa-rosa-wildfire_00000287_pre_disaster.json\n"
          ]
        },
        {
          "output_type": "stream",
          "name": "stderr",
          "text": [
            "\r 73%|███████▎  | 329/452 [01:16<00:20,  5.89it/s]"
          ]
        },
        {
          "output_type": "stream",
          "name": "stdout",
          "text": [
            "✅ Saved 69 patches from /content/xview2_data/santa-rosa-wildfire/labels/santa-rosa-wildfire_00000313_pre_disaster.json\n",
            "✅ Saved 2 patches from /content/xview2_data/santa-rosa-wildfire/labels/santa-rosa-wildfire_00000274_pre_disaster.json\n"
          ]
        },
        {
          "output_type": "stream",
          "name": "stderr",
          "text": [
            "\r 73%|███████▎  | 331/452 [01:16<00:18,  6.68it/s]"
          ]
        },
        {
          "output_type": "stream",
          "name": "stdout",
          "text": [
            "✅ Saved 30 patches from /content/xview2_data/santa-rosa-wildfire/labels/santa-rosa-wildfire_00000114_pre_disaster.json\n"
          ]
        },
        {
          "output_type": "stream",
          "name": "stderr",
          "text": [
            "\r 73%|███████▎  | 332/452 [01:16<00:19,  6.11it/s]"
          ]
        },
        {
          "output_type": "stream",
          "name": "stdout",
          "text": [
            "✅ Saved 49 patches from /content/xview2_data/santa-rosa-wildfire/labels/santa-rosa-wildfire_00000130_post_disaster.json\n",
            "✅ Saved 2 patches from /content/xview2_data/santa-rosa-wildfire/labels/santa-rosa-wildfire_00000137_post_disaster.json\n"
          ]
        },
        {
          "output_type": "stream",
          "name": "stderr",
          "text": [
            " 74%|███████▍  | 335/452 [01:17<00:25,  4.52it/s]"
          ]
        },
        {
          "output_type": "stream",
          "name": "stdout",
          "text": [
            "✅ Saved 265 patches from /content/xview2_data/santa-rosa-wildfire/labels/santa-rosa-wildfire_00000057_post_disaster.json\n",
            "✅ Saved 15 patches from /content/xview2_data/santa-rosa-wildfire/labels/santa-rosa-wildfire_00000306_post_disaster.json\n"
          ]
        },
        {
          "output_type": "stream",
          "name": "stderr",
          "text": [
            "\r 74%|███████▍  | 336/452 [01:17<00:23,  4.95it/s]"
          ]
        },
        {
          "output_type": "stream",
          "name": "stdout",
          "text": [
            "✅ Saved 19 patches from /content/xview2_data/santa-rosa-wildfire/labels/santa-rosa-wildfire_00000027_pre_disaster.json\n"
          ]
        },
        {
          "output_type": "stream",
          "name": "stderr",
          "text": [
            " 75%|███████▍  | 338/452 [01:18<00:25,  4.45it/s]"
          ]
        },
        {
          "output_type": "stream",
          "name": "stdout",
          "text": [
            "✅ Saved 157 patches from /content/xview2_data/santa-rosa-wildfire/labels/santa-rosa-wildfire_00000095_post_disaster.json\n",
            "✅ Saved 10 patches from /content/xview2_data/santa-rosa-wildfire/labels/santa-rosa-wildfire_00000060_post_disaster.json\n"
          ]
        },
        {
          "output_type": "stream",
          "name": "stderr",
          "text": [
            " 75%|███████▌  | 340/452 [01:18<00:24,  4.53it/s]"
          ]
        },
        {
          "output_type": "stream",
          "name": "stdout",
          "text": [
            "✅ Saved 115 patches from /content/xview2_data/santa-rosa-wildfire/labels/santa-rosa-wildfire_00000036_post_disaster.json\n",
            "✅ Saved 6 patches from /content/xview2_data/santa-rosa-wildfire/labels/santa-rosa-wildfire_00000018_post_disaster.json\n"
          ]
        },
        {
          "output_type": "stream",
          "name": "stderr",
          "text": [
            " 76%|███████▌  | 343/452 [01:19<00:16,  6.77it/s]"
          ]
        },
        {
          "output_type": "stream",
          "name": "stdout",
          "text": [
            "✅ Saved 23 patches from /content/xview2_data/santa-rosa-wildfire/labels/santa-rosa-wildfire_00000373_pre_disaster.json\n",
            "✅ Saved 9 patches from /content/xview2_data/santa-rosa-wildfire/labels/santa-rosa-wildfire_00000034_post_disaster.json\n",
            "✅ Saved 1 patches from /content/xview2_data/santa-rosa-wildfire/labels/santa-rosa-wildfire_00000246_pre_disaster.json\n"
          ]
        },
        {
          "output_type": "stream",
          "name": "stderr",
          "text": [
            " 76%|███████▋  | 345/452 [01:19<00:14,  7.34it/s]"
          ]
        },
        {
          "output_type": "stream",
          "name": "stdout",
          "text": [
            "✅ Saved 19 patches from /content/xview2_data/santa-rosa-wildfire/labels/santa-rosa-wildfire_00000276_pre_disaster.json\n",
            "✅ Saved 16 patches from /content/xview2_data/santa-rosa-wildfire/labels/santa-rosa-wildfire_00000040_post_disaster.json\n"
          ]
        },
        {
          "output_type": "stream",
          "name": "stderr",
          "text": [
            "\r 77%|███████▋  | 346/452 [01:19<00:13,  7.72it/s]"
          ]
        },
        {
          "output_type": "stream",
          "name": "stdout",
          "text": [
            "✅ Saved 9 patches from /content/xview2_data/santa-rosa-wildfire/labels/santa-rosa-wildfire_00000176_pre_disaster.json\n"
          ]
        },
        {
          "output_type": "stream",
          "name": "stderr",
          "text": [
            "\r 77%|███████▋  | 347/452 [01:20<00:28,  3.72it/s]"
          ]
        },
        {
          "output_type": "stream",
          "name": "stdout",
          "text": [
            "✅ Saved 221 patches from /content/xview2_data/santa-rosa-wildfire/labels/santa-rosa-wildfire_00000203_pre_disaster.json\n"
          ]
        },
        {
          "output_type": "stream",
          "name": "stderr",
          "text": [
            " 77%|███████▋  | 349/452 [01:20<00:24,  4.13it/s]"
          ]
        },
        {
          "output_type": "stream",
          "name": "stdout",
          "text": [
            "✅ Saved 115 patches from /content/xview2_data/santa-rosa-wildfire/labels/santa-rosa-wildfire_00000110_post_disaster.json\n",
            "✅ Saved 7 patches from /content/xview2_data/santa-rosa-wildfire/labels/santa-rosa-wildfire_00000081_post_disaster.json\n"
          ]
        },
        {
          "output_type": "stream",
          "name": "stderr",
          "text": [
            " 78%|███████▊  | 351/452 [01:21<00:28,  3.51it/s]"
          ]
        },
        {
          "output_type": "stream",
          "name": "stdout",
          "text": [
            "✅ Saved 214 patches from /content/xview2_data/santa-rosa-wildfire/labels/santa-rosa-wildfire_00000171_post_disaster.json\n",
            "✅ Saved 33 patches from /content/xview2_data/santa-rosa-wildfire/labels/santa-rosa-wildfire_00000070_post_disaster.json\n"
          ]
        },
        {
          "output_type": "stream",
          "name": "stderr",
          "text": [
            " 78%|███████▊  | 353/452 [01:21<00:21,  4.58it/s]"
          ]
        },
        {
          "output_type": "stream",
          "name": "stdout",
          "text": [
            "✅ Saved 34 patches from /content/xview2_data/santa-rosa-wildfire/labels/santa-rosa-wildfire_00000070_pre_disaster.json\n",
            "✅ Saved 42 patches from /content/xview2_data/santa-rosa-wildfire/labels/santa-rosa-wildfire_00000239_post_disaster.json\n"
          ]
        },
        {
          "output_type": "stream",
          "name": "stderr",
          "text": [
            "\r 79%|███████▊  | 355/452 [01:21<00:15,  6.13it/s]"
          ]
        },
        {
          "output_type": "stream",
          "name": "stdout",
          "text": [
            "✅ Saved 4 patches from /content/xview2_data/santa-rosa-wildfire/labels/santa-rosa-wildfire_00000348_pre_disaster.json\n",
            "✅ Saved 10 patches from /content/xview2_data/santa-rosa-wildfire/labels/santa-rosa-wildfire_00000026_post_disaster.json\n"
          ]
        },
        {
          "output_type": "stream",
          "name": "stderr",
          "text": [
            "\r 79%|███████▉  | 356/452 [01:22<00:14,  6.46it/s]"
          ]
        },
        {
          "output_type": "stream",
          "name": "stdout",
          "text": [
            "✅ Saved 14 patches from /content/xview2_data/santa-rosa-wildfire/labels/santa-rosa-wildfire_00000253_pre_disaster.json\n"
          ]
        },
        {
          "output_type": "stream",
          "name": "stderr",
          "text": [
            " 79%|███████▉  | 359/452 [01:22<00:13,  7.02it/s]"
          ]
        },
        {
          "output_type": "stream",
          "name": "stdout",
          "text": [
            "✅ Saved 69 patches from /content/xview2_data/santa-rosa-wildfire/labels/santa-rosa-wildfire_00000304_pre_disaster.json\n",
            "✅ Saved 4 patches from /content/xview2_data/santa-rosa-wildfire/labels/santa-rosa-wildfire_00000325_post_disaster.json\n",
            "✅ Saved 3 patches from /content/xview2_data/santa-rosa-wildfire/labels/santa-rosa-wildfire_00000340_post_disaster.json\n"
          ]
        },
        {
          "output_type": "stream",
          "name": "stderr",
          "text": [
            "\r 80%|███████▉  | 360/452 [01:23<00:22,  4.03it/s]"
          ]
        },
        {
          "output_type": "stream",
          "name": "stdout",
          "text": [
            "✅ Saved 214 patches from /content/xview2_data/santa-rosa-wildfire/labels/santa-rosa-wildfire_00000084_post_disaster.json\n"
          ]
        },
        {
          "output_type": "stream",
          "name": "stderr",
          "text": [
            "\r 80%|███████▉  | 361/452 [01:23<00:21,  4.17it/s]"
          ]
        },
        {
          "output_type": "stream",
          "name": "stdout",
          "text": [
            "✅ Saved 53 patches from /content/xview2_data/santa-rosa-wildfire/labels/santa-rosa-wildfire_00000111_pre_disaster.json\n"
          ]
        },
        {
          "output_type": "stream",
          "name": "stderr",
          "text": [
            " 80%|████████  | 363/452 [01:24<00:24,  3.62it/s]"
          ]
        },
        {
          "output_type": "stream",
          "name": "stdout",
          "text": [
            "✅ Saved 223 patches from /content/xview2_data/santa-rosa-wildfire/labels/santa-rosa-wildfire_00000063_pre_disaster.json\n",
            "✅ Saved 14 patches from /content/xview2_data/santa-rosa-wildfire/labels/santa-rosa-wildfire_00000272_post_disaster.json\n"
          ]
        },
        {
          "output_type": "stream",
          "name": "stderr",
          "text": [
            " 81%|████████  | 366/452 [01:24<00:14,  5.83it/s]"
          ]
        },
        {
          "output_type": "stream",
          "name": "stdout",
          "text": [
            "✅ Saved 17 patches from /content/xview2_data/santa-rosa-wildfire/labels/santa-rosa-wildfire_00000040_pre_disaster.json\n",
            "✅ Saved 4 patches from /content/xview2_data/santa-rosa-wildfire/labels/santa-rosa-wildfire_00000200_pre_disaster.json\n",
            "✅ Saved 2 patches from /content/xview2_data/santa-rosa-wildfire/labels/santa-rosa-wildfire_00000187_pre_disaster.json\n"
          ]
        },
        {
          "output_type": "stream",
          "name": "stderr",
          "text": [
            "\r 81%|████████  | 367/452 [01:25<00:28,  3.01it/s]"
          ]
        },
        {
          "output_type": "stream",
          "name": "stdout",
          "text": [
            "✅ Saved 214 patches from /content/xview2_data/santa-rosa-wildfire/labels/santa-rosa-wildfire_00000372_pre_disaster.json\n"
          ]
        },
        {
          "output_type": "stream",
          "name": "stderr",
          "text": [
            " 82%|████████▏ | 369/452 [01:25<00:21,  3.84it/s]"
          ]
        },
        {
          "output_type": "stream",
          "name": "stdout",
          "text": [
            "✅ Saved 36 patches from /content/xview2_data/santa-rosa-wildfire/labels/santa-rosa-wildfire_00000231_post_disaster.json\n",
            "✅ Saved 7 patches from /content/xview2_data/santa-rosa-wildfire/labels/santa-rosa-wildfire_00000191_pre_disaster.json\n"
          ]
        },
        {
          "output_type": "stream",
          "name": "stderr",
          "text": [
            " 82%|████████▏ | 371/452 [01:25<00:17,  4.60it/s]"
          ]
        },
        {
          "output_type": "stream",
          "name": "stdout",
          "text": [
            "✅ Saved 7 patches from /content/xview2_data/santa-rosa-wildfire/labels/santa-rosa-wildfire_00000226_pre_disaster.json\n",
            "✅ Saved 26 patches from /content/xview2_data/santa-rosa-wildfire/labels/santa-rosa-wildfire_00000147_pre_disaster.json\n"
          ]
        },
        {
          "output_type": "stream",
          "name": "stderr",
          "text": [
            "\r 82%|████████▏ | 372/452 [01:26<00:31,  2.50it/s]"
          ]
        },
        {
          "output_type": "stream",
          "name": "stdout",
          "text": [
            "✅ Saved 225 patches from /content/xview2_data/santa-rosa-wildfire/labels/santa-rosa-wildfire_00000163_post_disaster.json\n"
          ]
        },
        {
          "output_type": "stream",
          "name": "stderr",
          "text": [
            " 83%|████████▎ | 374/452 [01:27<00:23,  3.28it/s]"
          ]
        },
        {
          "output_type": "stream",
          "name": "stdout",
          "text": [
            "✅ Saved 42 patches from /content/xview2_data/santa-rosa-wildfire/labels/santa-rosa-wildfire_00000239_pre_disaster.json\n",
            "✅ Saved 44 patches from /content/xview2_data/santa-rosa-wildfire/labels/santa-rosa-wildfire_00000337_post_disaster.json\n"
          ]
        },
        {
          "output_type": "stream",
          "name": "stderr",
          "text": [
            " 83%|████████▎ | 376/452 [01:27<00:22,  3.36it/s]"
          ]
        },
        {
          "output_type": "stream",
          "name": "stdout",
          "text": [
            "✅ Saved 165 patches from /content/xview2_data/santa-rosa-wildfire/labels/santa-rosa-wildfire_00000177_post_disaster.json\n",
            "✅ Saved 19 patches from /content/xview2_data/santa-rosa-wildfire/labels/santa-rosa-wildfire_00000140_pre_disaster.json\n"
          ]
        },
        {
          "output_type": "stream",
          "name": "stderr",
          "text": [
            " 84%|████████▍ | 379/452 [01:28<00:11,  6.37it/s]"
          ]
        },
        {
          "output_type": "stream",
          "name": "stdout",
          "text": [
            "✅ Saved 14 patches from /content/xview2_data/santa-rosa-wildfire/labels/santa-rosa-wildfire_00000277_post_disaster.json\n",
            "⚠️ No features in /content/xview2_data/santa-rosa-wildfire/labels/santa-rosa-wildfire_00000334_pre_disaster.json\n",
            "✅ Saved 14 patches from /content/xview2_data/santa-rosa-wildfire/labels/santa-rosa-wildfire_00000272_pre_disaster.json\n"
          ]
        },
        {
          "output_type": "stream",
          "name": "stderr",
          "text": [
            "\r 84%|████████▍ | 380/452 [01:28<00:18,  3.86it/s]"
          ]
        },
        {
          "output_type": "stream",
          "name": "stdout",
          "text": [
            "✅ Saved 189 patches from /content/xview2_data/santa-rosa-wildfire/labels/santa-rosa-wildfire_00000281_pre_disaster.json\n"
          ]
        },
        {
          "output_type": "stream",
          "name": "stderr",
          "text": [
            "\r 84%|████████▍ | 381/452 [01:29<00:24,  2.89it/s]"
          ]
        },
        {
          "output_type": "stream",
          "name": "stdout",
          "text": [
            "✅ Saved 226 patches from /content/xview2_data/santa-rosa-wildfire/labels/santa-rosa-wildfire_00000179_pre_disaster.json\n"
          ]
        },
        {
          "output_type": "stream",
          "name": "stderr",
          "text": [
            "\r 85%|████████▍ | 382/452 [01:29<00:21,  3.19it/s]"
          ]
        },
        {
          "output_type": "stream",
          "name": "stdout",
          "text": [
            "✅ Saved 57 patches from /content/xview2_data/santa-rosa-wildfire/labels/santa-rosa-wildfire_00000362_post_disaster.json\n"
          ]
        },
        {
          "output_type": "stream",
          "name": "stderr",
          "text": [
            "\r 85%|████████▍ | 383/452 [01:29<00:19,  3.48it/s]"
          ]
        },
        {
          "output_type": "stream",
          "name": "stdout",
          "text": [
            "✅ Saved 53 patches from /content/xview2_data/santa-rosa-wildfire/labels/santa-rosa-wildfire_00000111_post_disaster.json\n",
            "✅ Saved 4 patches from /content/xview2_data/santa-rosa-wildfire/labels/santa-rosa-wildfire_00000325_pre_disaster.json\n"
          ]
        },
        {
          "output_type": "stream",
          "name": "stderr",
          "text": [
            "\r 85%|████████▌ | 385/452 [01:30<00:21,  3.07it/s]"
          ]
        },
        {
          "output_type": "stream",
          "name": "stdout",
          "text": [
            "✅ Saved 242 patches from /content/xview2_data/santa-rosa-wildfire/labels/santa-rosa-wildfire_00000175_pre_disaster.json\n"
          ]
        },
        {
          "output_type": "stream",
          "name": "stderr",
          "text": [
            " 86%|████████▌ | 387/452 [01:31<00:21,  2.99it/s]"
          ]
        },
        {
          "output_type": "stream",
          "name": "stdout",
          "text": [
            "✅ Saved 205 patches from /content/xview2_data/santa-rosa-wildfire/labels/santa-rosa-wildfire_00000368_pre_disaster.json\n",
            "✅ Saved 39 patches from /content/xview2_data/santa-rosa-wildfire/labels/santa-rosa-wildfire_00000180_pre_disaster.json\n"
          ]
        },
        {
          "output_type": "stream",
          "name": "stderr",
          "text": [
            " 86%|████████▌ | 389/452 [01:31<00:16,  3.92it/s]"
          ]
        },
        {
          "output_type": "stream",
          "name": "stdout",
          "text": [
            "✅ Saved 32 patches from /content/xview2_data/santa-rosa-wildfire/labels/santa-rosa-wildfire_00000196_pre_disaster.json\n",
            "✅ Saved 35 patches from /content/xview2_data/santa-rosa-wildfire/labels/santa-rosa-wildfire_00000103_pre_disaster.json\n"
          ]
        },
        {
          "output_type": "stream",
          "name": "stderr",
          "text": [
            " 87%|████████▋ | 391/452 [01:31<00:12,  4.84it/s]"
          ]
        },
        {
          "output_type": "stream",
          "name": "stdout",
          "text": [
            "✅ Saved 10 patches from /content/xview2_data/santa-rosa-wildfire/labels/santa-rosa-wildfire_00000318_pre_disaster.json\n",
            "✅ Saved 45 patches from /content/xview2_data/santa-rosa-wildfire/labels/santa-rosa-wildfire_00000118_pre_disaster.json\n"
          ]
        },
        {
          "output_type": "stream",
          "name": "stderr",
          "text": [
            "\r 87%|████████▋ | 393/452 [01:32<00:09,  6.18it/s]"
          ]
        },
        {
          "output_type": "stream",
          "name": "stdout",
          "text": [
            "✅ Saved 5 patches from /content/xview2_data/santa-rosa-wildfire/labels/santa-rosa-wildfire_00000283_pre_disaster.json\n",
            "✅ Saved 15 patches from /content/xview2_data/santa-rosa-wildfire/labels/santa-rosa-wildfire_00000223_post_disaster.json\n"
          ]
        },
        {
          "output_type": "stream",
          "name": "stderr",
          "text": [
            " 87%|████████▋ | 395/452 [01:32<00:08,  6.44it/s]"
          ]
        },
        {
          "output_type": "stream",
          "name": "stdout",
          "text": [
            "✅ Saved 55 patches from /content/xview2_data/santa-rosa-wildfire/labels/santa-rosa-wildfire_00000156_post_disaster.json\n",
            "✅ Saved 10 patches from /content/xview2_data/santa-rosa-wildfire/labels/santa-rosa-wildfire_00000312_pre_disaster.json\n"
          ]
        },
        {
          "output_type": "stream",
          "name": "stderr",
          "text": [
            " 88%|████████▊ | 397/452 [01:32<00:08,  6.67it/s]"
          ]
        },
        {
          "output_type": "stream",
          "name": "stdout",
          "text": [
            "✅ Saved 20 patches from /content/xview2_data/santa-rosa-wildfire/labels/santa-rosa-wildfire_00000005_pre_disaster.json\n",
            "✅ Saved 6 patches from /content/xview2_data/santa-rosa-wildfire/labels/santa-rosa-wildfire_00000004_pre_disaster.json\n"
          ]
        },
        {
          "output_type": "stream",
          "name": "stderr",
          "text": [
            "\r 88%|████████▊ | 398/452 [01:32<00:08,  6.72it/s]"
          ]
        },
        {
          "output_type": "stream",
          "name": "stdout",
          "text": [
            "✅ Saved 26 patches from /content/xview2_data/santa-rosa-wildfire/labels/santa-rosa-wildfire_00000147_post_disaster.json\n"
          ]
        },
        {
          "output_type": "stream",
          "name": "stderr",
          "text": [
            "\r 88%|████████▊ | 399/452 [01:33<00:12,  4.24it/s]"
          ]
        },
        {
          "output_type": "stream",
          "name": "stdout",
          "text": [
            "✅ Saved 158 patches from /content/xview2_data/santa-rosa-wildfire/labels/santa-rosa-wildfire_00000132_pre_disaster.json\n"
          ]
        },
        {
          "output_type": "stream",
          "name": "stderr",
          "text": [
            "\r 88%|████████▊ | 400/452 [01:33<00:12,  4.09it/s]"
          ]
        },
        {
          "output_type": "stream",
          "name": "stdout",
          "text": [
            "✅ Saved 75 patches from /content/xview2_data/santa-rosa-wildfire/labels/santa-rosa-wildfire_00000088_post_disaster.json\n"
          ]
        },
        {
          "output_type": "stream",
          "name": "stderr",
          "text": [
            " 89%|████████▉ | 402/452 [01:34<00:12,  3.99it/s]"
          ]
        },
        {
          "output_type": "stream",
          "name": "stdout",
          "text": [
            "✅ Saved 100 patches from /content/xview2_data/santa-rosa-wildfire/labels/santa-rosa-wildfire_00000309_pre_disaster.json\n",
            "✅ Saved 49 patches from /content/xview2_data/santa-rosa-wildfire/labels/santa-rosa-wildfire_00000014_pre_disaster.json\n"
          ]
        },
        {
          "output_type": "stream",
          "name": "stderr",
          "text": [
            "\r 89%|████████▉ | 404/452 [01:34<00:08,  5.37it/s]"
          ]
        },
        {
          "output_type": "stream",
          "name": "stdout",
          "text": [
            "✅ Saved 8 patches from /content/xview2_data/santa-rosa-wildfire/labels/santa-rosa-wildfire_00000275_post_disaster.json\n",
            "✅ Saved 40 patches from /content/xview2_data/santa-rosa-wildfire/labels/santa-rosa-wildfire_00000224_pre_disaster.json\n"
          ]
        },
        {
          "output_type": "stream",
          "name": "stderr",
          "text": [
            "\r 90%|████████▉ | 406/452 [01:34<00:07,  6.55it/s]"
          ]
        },
        {
          "output_type": "stream",
          "name": "stdout",
          "text": [
            "✅ Saved 8 patches from /content/xview2_data/santa-rosa-wildfire/labels/santa-rosa-wildfire_00000353_pre_disaster.json\n",
            "✅ Saved 14 patches from /content/xview2_data/santa-rosa-wildfire/labels/santa-rosa-wildfire_00000253_post_disaster.json\n",
            "⚠️ No features in /content/xview2_data/santa-rosa-wildfire/labels/santa-rosa-wildfire_00000125_pre_disaster.json\n"
          ]
        },
        {
          "output_type": "stream",
          "name": "stderr",
          "text": [
            " 90%|█████████ | 409/452 [01:35<00:07,  5.83it/s]"
          ]
        },
        {
          "output_type": "stream",
          "name": "stdout",
          "text": [
            "✅ Saved 134 patches from /content/xview2_data/santa-rosa-wildfire/labels/santa-rosa-wildfire_00000142_post_disaster.json\n",
            "✅ Saved 48 patches from /content/xview2_data/santa-rosa-wildfire/labels/santa-rosa-wildfire_00000056_post_disaster.json\n"
          ]
        },
        {
          "output_type": "stream",
          "name": "stderr",
          "text": [
            " 91%|█████████ | 411/452 [01:35<00:06,  6.19it/s]"
          ]
        },
        {
          "output_type": "stream",
          "name": "stdout",
          "text": [
            "✅ Saved 34 patches from /content/xview2_data/santa-rosa-wildfire/labels/santa-rosa-wildfire_00000006_post_disaster.json\n",
            "✅ Saved 40 patches from /content/xview2_data/santa-rosa-wildfire/labels/santa-rosa-wildfire_00000224_post_disaster.json\n"
          ]
        },
        {
          "output_type": "stream",
          "name": "stderr",
          "text": [
            "\r 91%|█████████ | 412/452 [01:35<00:05,  6.74it/s]"
          ]
        },
        {
          "output_type": "stream",
          "name": "stdout",
          "text": [
            "✅ Saved 11 patches from /content/xview2_data/santa-rosa-wildfire/labels/santa-rosa-wildfire_00000346_pre_disaster.json\n"
          ]
        },
        {
          "output_type": "stream",
          "name": "stderr",
          "text": [
            " 92%|█████████▏| 415/452 [01:36<00:06,  5.69it/s]"
          ]
        },
        {
          "output_type": "stream",
          "name": "stdout",
          "text": [
            "✅ Saved 158 patches from /content/xview2_data/santa-rosa-wildfire/labels/santa-rosa-wildfire_00000132_post_disaster.json\n",
            "✅ Saved 2 patches from /content/xview2_data/santa-rosa-wildfire/labels/santa-rosa-wildfire_00000338_post_disaster.json\n",
            "✅ Saved 10 patches from /content/xview2_data/santa-rosa-wildfire/labels/santa-rosa-wildfire_00000318_post_disaster.json\n"
          ]
        },
        {
          "output_type": "stream",
          "name": "stderr",
          "text": [
            "\r 92%|█████████▏| 417/452 [01:36<00:05,  6.94it/s]"
          ]
        },
        {
          "output_type": "stream",
          "name": "stdout",
          "text": [
            "✅ Saved 4 patches from /content/xview2_data/santa-rosa-wildfire/labels/santa-rosa-wildfire_00000151_pre_disaster.json\n",
            "✅ Saved 5 patches from /content/xview2_data/santa-rosa-wildfire/labels/santa-rosa-wildfire_00000271_post_disaster.json\n"
          ]
        },
        {
          "output_type": "stream",
          "name": "stderr",
          "text": [
            "\r 92%|█████████▏| 418/452 [01:36<00:04,  6.90it/s]"
          ]
        },
        {
          "output_type": "stream",
          "name": "stdout",
          "text": [
            "✅ Saved 27 patches from /content/xview2_data/santa-rosa-wildfire/labels/santa-rosa-wildfire_00000031_pre_disaster.json\n"
          ]
        },
        {
          "output_type": "stream",
          "name": "stderr",
          "text": [
            " 93%|█████████▎| 420/452 [01:36<00:04,  6.60it/s]"
          ]
        },
        {
          "output_type": "stream",
          "name": "stdout",
          "text": [
            "✅ Saved 49 patches from /content/xview2_data/santa-rosa-wildfire/labels/santa-rosa-wildfire_00000014_post_disaster.json\n",
            "✅ Saved 14 patches from /content/xview2_data/santa-rosa-wildfire/labels/santa-rosa-wildfire_00000321_post_disaster.json\n"
          ]
        },
        {
          "output_type": "stream",
          "name": "stderr",
          "text": [
            " 93%|█████████▎| 422/452 [01:37<00:04,  7.39it/s]"
          ]
        },
        {
          "output_type": "stream",
          "name": "stdout",
          "text": [
            "✅ Saved 13 patches from /content/xview2_data/santa-rosa-wildfire/labels/santa-rosa-wildfire_00000065_post_disaster.json\n",
            "✅ Saved 11 patches from /content/xview2_data/santa-rosa-wildfire/labels/santa-rosa-wildfire_00000346_post_disaster.json\n"
          ]
        },
        {
          "output_type": "stream",
          "name": "stderr",
          "text": [
            " 94%|█████████▍| 425/452 [01:37<00:03,  7.91it/s]"
          ]
        },
        {
          "output_type": "stream",
          "name": "stdout",
          "text": [
            "✅ Saved 34 patches from /content/xview2_data/santa-rosa-wildfire/labels/santa-rosa-wildfire_00000035_post_disaster.json\n",
            "⚠️ No features in /content/xview2_data/santa-rosa-wildfire/labels/santa-rosa-wildfire_00000192_pre_disaster.json\n",
            "✅ Saved 24 patches from /content/xview2_data/santa-rosa-wildfire/labels/santa-rosa-wildfire_00000134_pre_disaster.json\n"
          ]
        },
        {
          "output_type": "stream",
          "name": "stderr",
          "text": [
            " 94%|█████████▍| 427/452 [01:37<00:03,  6.72it/s]"
          ]
        },
        {
          "output_type": "stream",
          "name": "stdout",
          "text": [
            "✅ Saved 44 patches from /content/xview2_data/santa-rosa-wildfire/labels/santa-rosa-wildfire_00000337_pre_disaster.json\n",
            "✅ Saved 1 patches from /content/xview2_data/santa-rosa-wildfire/labels/santa-rosa-wildfire_00000300_pre_disaster.json\n"
          ]
        },
        {
          "output_type": "stream",
          "name": "stderr",
          "text": [
            " 95%|█████████▍| 429/452 [01:38<00:05,  4.30it/s]"
          ]
        },
        {
          "output_type": "stream",
          "name": "stdout",
          "text": [
            "✅ Saved 108 patches from /content/xview2_data/santa-rosa-wildfire/labels/santa-rosa-wildfire_00000129_pre_disaster.json\n",
            "✅ Saved 19 patches from /content/xview2_data/santa-rosa-wildfire/labels/santa-rosa-wildfire_00000023_pre_disaster.json\n"
          ]
        },
        {
          "output_type": "stream",
          "name": "stderr",
          "text": [
            " 95%|█████████▌| 431/452 [01:38<00:04,  4.62it/s]"
          ]
        },
        {
          "output_type": "stream",
          "name": "stdout",
          "text": [
            "✅ Saved 37 patches from /content/xview2_data/santa-rosa-wildfire/labels/santa-rosa-wildfire_00000231_pre_disaster.json\n",
            "✅ Saved 14 patches from /content/xview2_data/santa-rosa-wildfire/labels/santa-rosa-wildfire_00000277_pre_disaster.json\n"
          ]
        },
        {
          "output_type": "stream",
          "name": "stderr",
          "text": [
            " 96%|█████████▌| 433/452 [01:39<00:03,  5.08it/s]"
          ]
        },
        {
          "output_type": "stream",
          "name": "stdout",
          "text": [
            "✅ Saved 42 patches from /content/xview2_data/santa-rosa-wildfire/labels/santa-rosa-wildfire_00000260_post_disaster.json\n",
            "✅ Saved 1 patches from /content/xview2_data/santa-rosa-wildfire/labels/santa-rosa-wildfire_00000246_post_disaster.json\n"
          ]
        },
        {
          "output_type": "stream",
          "name": "stderr",
          "text": [
            " 96%|█████████▌| 435/452 [01:39<00:02,  6.19it/s]"
          ]
        },
        {
          "output_type": "stream",
          "name": "stdout",
          "text": [
            "✅ Saved 8 patches from /content/xview2_data/santa-rosa-wildfire/labels/santa-rosa-wildfire_00000105_pre_disaster.json\n",
            "✅ Saved 2 patches from /content/xview2_data/santa-rosa-wildfire/labels/santa-rosa-wildfire_00000137_pre_disaster.json\n"
          ]
        },
        {
          "output_type": "stream",
          "name": "stderr",
          "text": [
            " 97%|█████████▋| 437/452 [01:39<00:02,  5.94it/s]"
          ]
        },
        {
          "output_type": "stream",
          "name": "stdout",
          "text": [
            "✅ Saved 22 patches from /content/xview2_data/santa-rosa-wildfire/labels/santa-rosa-wildfire_00000237_post_disaster.json\n",
            "✅ Saved 39 patches from /content/xview2_data/santa-rosa-wildfire/labels/santa-rosa-wildfire_00000180_post_disaster.json\n"
          ]
        },
        {
          "output_type": "stream",
          "name": "stderr",
          "text": [
            "\r 97%|█████████▋| 438/452 [01:40<00:02,  6.41it/s]"
          ]
        },
        {
          "output_type": "stream",
          "name": "stdout",
          "text": [
            "✅ Saved 14 patches from /content/xview2_data/santa-rosa-wildfire/labels/santa-rosa-wildfire_00000321_pre_disaster.json\n"
          ]
        },
        {
          "output_type": "stream",
          "name": "stderr",
          "text": [
            " 97%|█████████▋| 440/452 [01:40<00:02,  5.17it/s]"
          ]
        },
        {
          "output_type": "stream",
          "name": "stdout",
          "text": [
            "✅ Saved 81 patches from /content/xview2_data/santa-rosa-wildfire/labels/santa-rosa-wildfire_00000044_pre_disaster.json\n",
            "✅ Saved 42 patches from /content/xview2_data/santa-rosa-wildfire/labels/santa-rosa-wildfire_00000039_pre_disaster.json\n"
          ]
        },
        {
          "output_type": "stream",
          "name": "stderr",
          "text": [
            " 98%|█████████▊| 442/452 [01:40<00:01,  6.38it/s]"
          ]
        },
        {
          "output_type": "stream",
          "name": "stdout",
          "text": [
            "✅ Saved 9 patches from /content/xview2_data/santa-rosa-wildfire/labels/santa-rosa-wildfire_00000174_pre_disaster.json\n",
            "✅ Saved 19 patches from /content/xview2_data/santa-rosa-wildfire/labels/santa-rosa-wildfire_00000164_post_disaster.json\n"
          ]
        },
        {
          "output_type": "stream",
          "name": "stderr",
          "text": [
            "\r 98%|█████████▊| 443/452 [01:40<00:01,  6.93it/s]"
          ]
        },
        {
          "output_type": "stream",
          "name": "stdout",
          "text": [
            "✅ Saved 12 patches from /content/xview2_data/santa-rosa-wildfire/labels/santa-rosa-wildfire_00000249_pre_disaster.json\n",
            "✅ Saved 3 patches from /content/xview2_data/santa-rosa-wildfire/labels/santa-rosa-wildfire_00000234_pre_disaster.json\n",
            "✅ Saved 10 patches from /content/xview2_data/santa-rosa-wildfire/labels/santa-rosa-wildfire_00000026_pre_disaster.json\n"
          ]
        },
        {
          "output_type": "stream",
          "name": "stderr",
          "text": [
            " 99%|█████████▉| 448/452 [01:41<00:00,  9.61it/s]"
          ]
        },
        {
          "output_type": "stream",
          "name": "stdout",
          "text": [
            "✅ Saved 10 patches from /content/xview2_data/santa-rosa-wildfire/labels/santa-rosa-wildfire_00000259_post_disaster.json\n",
            "✅ Saved 5 patches from /content/xview2_data/santa-rosa-wildfire/labels/santa-rosa-wildfire_00000009_pre_disaster.json\n",
            "✅ Saved 4 patches from /content/xview2_data/santa-rosa-wildfire/labels/santa-rosa-wildfire_00000315_pre_disaster.json\n"
          ]
        },
        {
          "output_type": "stream",
          "name": "stderr",
          "text": [
            "\r 99%|█████████▉| 449/452 [01:41<00:00,  8.23it/s]"
          ]
        },
        {
          "output_type": "stream",
          "name": "stdout",
          "text": [
            "✅ Saved 40 patches from /content/xview2_data/santa-rosa-wildfire/labels/santa-rosa-wildfire_00000376_pre_disaster.json\n",
            "✅ Saved 7 patches from /content/xview2_data/santa-rosa-wildfire/labels/santa-rosa-wildfire_00000072_pre_disaster.json\n"
          ]
        },
        {
          "output_type": "stream",
          "name": "stderr",
          "text": [
            "100%|██████████| 452/452 [01:42<00:00,  4.41it/s]"
          ]
        },
        {
          "output_type": "stream",
          "name": "stdout",
          "text": [
            "✅ Saved 293 patches from /content/xview2_data/santa-rosa-wildfire/labels/santa-rosa-wildfire_00000149_pre_disaster.json\n",
            "✅ Saved 6 patches from /content/xview2_data/santa-rosa-wildfire/labels/santa-rosa-wildfire_00000233_pre_disaster.json\n",
            "\n",
            "📊 Summary: 452 usable JSONs, 0 missing pairs\n"
          ]
        },
        {
          "output_type": "stream",
          "name": "stderr",
          "text": [
            "\n"
          ]
        }
      ]
    },
    {
      "cell_type": "code",
      "source": [
        "import os\n",
        "\n",
        "for root, dirs, files in os.walk(\"/content\", topdown=True):\n",
        "    if any(f.endswith(\".png\") or f.endswith(\".jpg\") for f in files):\n",
        "        print(\"📂 Found images in:\", root, \"→\", len(files), \"files\")\n"
      ],
      "metadata": {
        "colab": {
          "base_uri": "https://localhost:8080/"
        },
        "id": "-oHGa8m5QIX6",
        "outputId": "2839c819-800e-449b-baac-5b069c643b87"
      },
      "execution_count": null,
      "outputs": [
        {
          "output_type": "stream",
          "name": "stdout",
          "text": [
            "📂 Found images in: /content/patches/major-damage → 118 files\n",
            "📂 Found images in: /content/patches/minor-damage → 156 files\n",
            "📂 Found images in: /content/patches/no-damage → 42606 files\n",
            "📂 Found images in: /content/patches/destroyed → 6700 files\n",
            "📂 Found images in: /content/xview2_data/santa-rosa-wildfire/masks → 219 files\n",
            "📂 Found images in: /content/xview2_data/santa-rosa-wildfire/images → 452 files\n"
          ]
        }
      ]
    },
    {
      "cell_type": "code",
      "source": [
        "import os\n",
        "import shutil\n",
        "import numpy as np\n",
        "\n",
        "# Source patches dir\n",
        "src_dir = \"/content/patches\"\n",
        "# Destination base dir\n",
        "base_dir = \"/content/xview2_patches\"\n",
        "os.makedirs(base_dir, exist_ok=True)\n",
        "\n",
        "# Split ratios\n",
        "train_split = 0.7\n",
        "val_split = 0.15\n",
        "test_split = 0.15\n",
        "\n",
        "for cls in os.listdir(src_dir):\n",
        "    cls_path = os.path.join(src_dir, cls)\n",
        "    if not os.path.isdir(cls_path):\n",
        "        continue\n",
        "\n",
        "    files = os.listdir(cls_path)\n",
        "    np.random.shuffle(files)\n",
        "\n",
        "    n_total = len(files)\n",
        "    n_train = int(n_total * train_split)\n",
        "    n_val = int(n_total * val_split)\n",
        "\n",
        "    splits = {\n",
        "        \"train\": files[:n_train],\n",
        "        \"val\": files[n_train:n_train+n_val],\n",
        "        \"test\": files[n_train+n_val:]\n",
        "    }\n",
        "\n",
        "    for split, split_files in splits.items():\n",
        "        split_dir = os.path.join(base_dir, split, cls)\n",
        "        os.makedirs(split_dir, exist_ok=True)\n",
        "        for f in split_files:\n",
        "            shutil.copy(os.path.join(cls_path, f), os.path.join(split_dir, f))\n",
        "\n",
        "print(\"✅ Dataset organized at:\", base_dir)\n"
      ],
      "metadata": {
        "colab": {
          "base_uri": "https://localhost:8080/"
        },
        "id": "TvgBrXnoQIbW",
        "outputId": "476a96a2-2250-4640-e4ea-32b20d19e507"
      },
      "execution_count": null,
      "outputs": [
        {
          "output_type": "stream",
          "name": "stdout",
          "text": [
            "✅ Dataset organized at: /content/xview2_patches\n"
          ]
        }
      ]
    },
    {
      "cell_type": "code",
      "source": [
        "import os\n",
        "import torch\n",
        "import torch.nn as nn\n",
        "import torch.optim as optim\n",
        "from torch.utils.data import DataLoader\n",
        "from torchvision import datasets, transforms, models\n",
        "\n",
        "# Paths\n",
        "data_dir = \"/content/xview2_patches\"\n",
        "train_dir = os.path.join(data_dir, \"train\")\n",
        "val_dir = os.path.join(data_dir, \"val\")\n",
        "test_dir = os.path.join(data_dir, \"test\")\n",
        "\n",
        "# Params\n",
        "batch_size = 32\n",
        "num_classes = len(os.listdir(train_dir))\n",
        "device = torch.device(\"cuda\" if torch.cuda.is_available() else \"cpu\")\n",
        "\n",
        "# Transforms\n",
        "train_transform = transforms.Compose([\n",
        "    transforms.Resize((224,224)),\n",
        "    transforms.RandomHorizontalFlip(),\n",
        "    transforms.RandomRotation(15),\n",
        "    transforms.ToTensor(),\n",
        "    transforms.Normalize([0.485, 0.456, 0.406],\n",
        "                         [0.229, 0.224, 0.225])\n",
        "])\n",
        "\n",
        "val_transform = transforms.Compose([\n",
        "    transforms.Resize((224,224)),\n",
        "    transforms.ToTensor(),\n",
        "    transforms.Normalize([0.485, 0.456, 0.406],\n",
        "                         [0.229, 0.224, 0.225])\n",
        "])\n",
        "\n",
        "# Datasets\n",
        "train_dataset = datasets.ImageFolder(train_dir, transform=train_transform)\n",
        "val_dataset = datasets.ImageFolder(val_dir, transform=val_transform)\n",
        "test_dataset = datasets.ImageFolder(test_dir, transform=val_transform)\n",
        "\n",
        "# Loaders\n",
        "train_loader = DataLoader(train_dataset, batch_size=batch_size, shuffle=True)\n",
        "val_loader = DataLoader(val_dataset, batch_size=batch_size, shuffle=False)\n",
        "test_loader = DataLoader(test_dataset, batch_size=batch_size, shuffle=False)\n",
        "\n",
        "# Model (ResNet18)\n",
        "model = models.resnet18(pretrained=True)\n",
        "model.fc = nn.Linear(model.fc.in_features, num_classes)\n",
        "model = model.to(device)\n",
        "\n",
        "# Loss & Optimizer\n",
        "criterion = nn.CrossEntropyLoss()\n",
        "optimizer = optim.Adam(model.parameters(), lr=1e-4)\n",
        "\n",
        "# Training loop\n",
        "epochs = 10\n",
        "for epoch in range(epochs):\n",
        "    model.train()\n",
        "    train_loss, correct, total = 0, 0, 0\n",
        "\n",
        "    for imgs, labels in train_loader:\n",
        "        imgs, labels = imgs.to(device), labels.to(device)\n",
        "\n",
        "        optimizer.zero_grad()\n",
        "        outputs = model(imgs)\n",
        "        loss = criterion(outputs, labels)\n",
        "        loss.backward()\n",
        "        optimizer.step()\n",
        "\n",
        "        train_loss += loss.item()\n",
        "        _, predicted = outputs.max(1)\n",
        "        total += labels.size(0)\n",
        "        correct += predicted.eq(labels).sum().item()\n",
        "\n",
        "    train_acc = 100. * correct / total\n",
        "\n",
        "    # Validation\n",
        "    model.eval()\n",
        "    val_loss, val_correct, val_total = 0, 0, 0\n",
        "    with torch.no_grad():\n",
        "        for imgs, labels in val_loader:\n",
        "            imgs, labels = imgs.to(device), labels.to(device)\n",
        "            outputs = model(imgs)\n",
        "            loss = criterion(outputs, labels)\n",
        "\n",
        "            val_loss += loss.item()\n",
        "            _, predicted = outputs.max(1)\n",
        "            val_total += labels.size(0)\n",
        "            val_correct += predicted.eq(labels).sum().item()\n",
        "\n",
        "    val_acc = 100. * val_correct / val_total\n",
        "\n",
        "    print(f\"Epoch [{epoch+1}/{epochs}] \"\n",
        "          f\"Train Loss: {train_loss/len(train_loader):.4f}, Acc: {train_acc:.2f}% \"\n",
        "          f\"Val Loss: {val_loss/len(val_loader):.4f}, Acc: {val_acc:.2f}%\")\n"
      ],
      "metadata": {
        "colab": {
          "base_uri": "https://localhost:8080/"
        },
        "id": "BRQIRVajRl0v",
        "outputId": "42f7f167-642d-47a5-b724-21a3deb0e861"
      },
      "execution_count": null,
      "outputs": [
        {
          "output_type": "stream",
          "name": "stderr",
          "text": [
            "/usr/local/lib/python3.12/dist-packages/torchvision/models/_utils.py:208: UserWarning: The parameter 'pretrained' is deprecated since 0.13 and may be removed in the future, please use 'weights' instead.\n",
            "  warnings.warn(\n",
            "/usr/local/lib/python3.12/dist-packages/torchvision/models/_utils.py:223: UserWarning: Arguments other than a weight enum or `None` for 'weights' are deprecated since 0.13 and may be removed in the future. The current behavior is equivalent to passing `weights=ResNet18_Weights.IMAGENET1K_V1`. You can also use `weights=ResNet18_Weights.DEFAULT` to get the most up-to-date weights.\n",
            "  warnings.warn(msg)\n"
          ]
        },
        {
          "output_type": "stream",
          "name": "stdout",
          "text": [
            "Downloading: \"https://download.pytorch.org/models/resnet18-f37072fd.pth\" to /root/.cache/torch/hub/checkpoints/resnet18-f37072fd.pth\n"
          ]
        },
        {
          "output_type": "stream",
          "name": "stderr",
          "text": [
            "100%|██████████| 44.7M/44.7M [00:00<00:00, 180MB/s]\n"
          ]
        },
        {
          "output_type": "stream",
          "name": "stdout",
          "text": [
            "Epoch [1/10] Train Loss: 0.3724, Acc: 85.31% Val Loss: 0.3353, Acc: 86.08%\n",
            "Epoch [2/10] Train Loss: 0.3387, Acc: 85.76% Val Loss: 0.3266, Acc: 86.19%\n",
            "Epoch [3/10] Train Loss: 0.3309, Acc: 85.91% Val Loss: 0.3274, Acc: 86.16%\n",
            "Epoch [4/10] Train Loss: 0.3251, Acc: 85.94% Val Loss: 0.3234, Acc: 85.89%\n",
            "Epoch [5/10] Train Loss: 0.3194, Acc: 85.83% Val Loss: 0.3237, Acc: 86.17%\n",
            "Epoch [6/10] Train Loss: 0.3167, Acc: 85.84% Val Loss: 0.3285, Acc: 85.94%\n",
            "Epoch [7/10] Train Loss: 0.3112, Acc: 85.96% Val Loss: 0.3249, Acc: 85.90%\n",
            "Epoch [8/10] Train Loss: 0.3042, Acc: 85.87% Val Loss: 0.3317, Acc: 85.66%\n",
            "Epoch [9/10] Train Loss: 0.2998, Acc: 85.87% Val Loss: 0.3439, Acc: 85.38%\n",
            "Epoch [10/10] Train Loss: 0.2948, Acc: 85.95% Val Loss: 0.3242, Acc: 85.18%\n"
          ]
        }
      ]
    },
    {
      "cell_type": "code",
      "source": [],
      "metadata": {
        "id": "fNHf_UsfW2Ko"
      },
      "execution_count": null,
      "outputs": []
    },
    {
      "cell_type": "code",
      "source": [
        "from sklearn.utils.class_weight import compute_class_weight\n",
        "import numpy as np\n",
        "import torch.nn as nn\n",
        "\n",
        "# Class order used in dataset\n",
        "classes = ['destroyed', 'major-damage', 'minor-damage', 'no-damage']\n",
        "class_to_idx = {cls: idx for idx, cls in enumerate(classes)}\n",
        "\n",
        "# Compute weights\n",
        "all_labels = [y for _, y in train_dataset]  # collect all training labels\n",
        "class_weights = compute_class_weight(class_weight=\"balanced\",\n",
        "                                     classes=np.arange(len(classes)),\n",
        "                                     y=all_labels)\n",
        "\n",
        "# Convert to tensor\n",
        "class_weights = torch.tensor(class_weights, dtype=torch.float).to(device)\n",
        "print(\"Class Weights:\", class_weights)\n",
        "\n",
        "# Use weighted loss\n",
        "criterion = nn.CrossEntropyLoss(weight=class_weights)\n"
      ],
      "metadata": {
        "colab": {
          "base_uri": "https://localhost:8080/"
        },
        "id": "dxfxqlQyW27T",
        "outputId": "467b835b-1df5-41b6-b916-3f1cec43a776"
      },
      "execution_count": null,
      "outputs": [
        {
          "output_type": "stream",
          "name": "stdout",
          "text": [
            "Class Weights: tensor([  1.8499, 105.8079,  79.5986,   0.2909], device='cuda:0')\n"
          ]
        }
      ]
    },
    {
      "cell_type": "code",
      "source": [
        "import torch\n",
        "import torch.nn as nn\n",
        "import torch.optim as optim\n",
        "from torch.utils.data import DataLoader\n",
        "from torchvision import datasets, transforms, models\n",
        "\n",
        "# ===============================\n",
        "# 1. Data Preprocessing\n",
        "# ===============================\n",
        "# Paths\n",
        "data_dir = \"/content/xview2_patches\"\n",
        "train_dir = os.path.join(data_dir, \"train\")\n",
        "val_dir = os.path.join(data_dir, \"val\")\n",
        "test_dir = os.path.join(data_dir, \"test\")\n",
        "\n",
        "\n",
        "transform = transforms.Compose([\n",
        "    transforms.Resize((224, 224)),\n",
        "    transforms.ToTensor(),\n",
        "    transforms.Normalize(mean=[0.485, 0.456, 0.406],\n",
        "                         std=[0.229, 0.224, 0.225])\n",
        "])\n",
        "\n",
        "train_data = datasets.ImageFolder(train_dir, transform=transform)\n",
        "val_data = datasets.ImageFolder(val_dir, transform=transform)\n",
        "test_data = datasets.ImageFolder(test_dir, transform=transform)\n",
        "\n",
        "train_loader = DataLoader(train_data, batch_size=32, shuffle=True)\n",
        "val_loader = DataLoader(val_data, batch_size=32, shuffle=False)\n",
        "test_loader = DataLoader(test_data, batch_size=32, shuffle=False)\n",
        "\n",
        "# ===============================\n",
        "# 2. Model Setup (ResNet18)\n",
        "# ===============================\n",
        "device = torch.device(\"cuda\" if torch.cuda.is_available() else \"cpu\")\n",
        "model = models.resnet18(pretrained=True)\n",
        "model.fc = nn.Linear(model.fc.in_features, len(train_data.classes))\n",
        "model = model.to(device)\n",
        "\n",
        "# ===============================\n",
        "# 3. Class Weights for Imbalance\n",
        "# ===============================\n",
        "class_weights = torch.tensor([2.4004, 105.0833, 63.0500, 0.2811], device=device)\n",
        "criterion = nn.CrossEntropyLoss(weight=class_weights)\n",
        "\n",
        "optimizer = optim.Adam(model.parameters(), lr=1e-4)\n",
        "\n",
        "# ===============================\n",
        "# 4. Training Function\n",
        "# ===============================\n",
        "def train_model(model, train_loader, val_loader, criterion, optimizer, epochs=30):\n",
        "    for epoch in range(epochs):\n",
        "        # Training\n",
        "        model.train()\n",
        "        train_loss, correct, total = 0, 0, 0\n",
        "        for images, labels in train_loader:\n",
        "            images, labels = images.to(device), labels.to(device)\n",
        "            optimizer.zero_grad()\n",
        "            outputs = model(images)\n",
        "            loss = criterion(outputs, labels)\n",
        "            loss.backward()\n",
        "            optimizer.step()\n",
        "\n",
        "            train_loss += loss.item()\n",
        "            _, predicted = torch.max(outputs, 1)\n",
        "            correct += (predicted == labels).sum().item()\n",
        "            total += labels.size(0)\n",
        "\n",
        "        train_acc = 100 * correct / total\n",
        "\n",
        "        # Validation\n",
        "        model.eval()\n",
        "        val_loss, correct, total = 0, 0, 0\n",
        "        with torch.no_grad():\n",
        "            for images, labels in val_loader:\n",
        "                images, labels = images.to(device), labels.to(device)\n",
        "                outputs = model(images)\n",
        "                loss = criterion(outputs, labels)\n",
        "                val_loss += loss.item()\n",
        "                _, predicted = torch.max(outputs, 1)\n",
        "                correct += (predicted == labels).sum().item()\n",
        "                total += labels.size(0)\n",
        "\n",
        "        val_acc = 100 * correct / total\n",
        "\n",
        "        print(f\"Epoch [{epoch+1}/{epochs}] \"\n",
        "              f\"Train Loss: {train_loss/len(train_loader):.4f} | Train Acc: {train_acc:.2f}% \"\n",
        "              f\"Val Loss: {val_loss/len(val_loader):.4f} | Val Acc: {val_acc:.2f}%\")\n",
        "\n",
        "    return model\n",
        "\n",
        "# ===============================\n",
        "# 5. Run Training\n",
        "# ===============================\n",
        "model = train_model(model, train_loader, val_loader, criterion, optimizer, epochs=30)\n",
        "\n",
        "# ===============================\n",
        "# 6. Test Evaluation\n",
        "# ===============================\n",
        "model.eval()\n",
        "correct, total = 0, 0\n",
        "with torch.no_grad():\n",
        "    for images, labels in test_loader:\n",
        "        images, labels = images.to(device), labels.to(device)\n",
        "        outputs = model(images)\n",
        "        _, predicted = torch.max(outputs, 1)\n",
        "        correct += (predicted == labels).sum().item()\n",
        "        total += labels.size(0)\n",
        "\n",
        "print(f\"Test Accuracy: {100 * correct / total:.2f}%\")"
      ],
      "metadata": {
        "colab": {
          "base_uri": "https://localhost:8080/"
        },
        "id": "NGli8GCRW2-w",
        "outputId": "ed17c6c8-3acc-4706-fdbf-a8abdfe9d891"
      },
      "execution_count": null,
      "outputs": [
        {
          "output_type": "stream",
          "name": "stderr",
          "text": [
            "/usr/local/lib/python3.12/dist-packages/torchvision/models/_utils.py:208: UserWarning: The parameter 'pretrained' is deprecated since 0.13 and may be removed in the future, please use 'weights' instead.\n",
            "  warnings.warn(\n",
            "/usr/local/lib/python3.12/dist-packages/torchvision/models/_utils.py:223: UserWarning: Arguments other than a weight enum or `None` for 'weights' are deprecated since 0.13 and may be removed in the future. The current behavior is equivalent to passing `weights=ResNet18_Weights.IMAGENET1K_V1`. You can also use `weights=ResNet18_Weights.DEFAULT` to get the most up-to-date weights.\n",
            "  warnings.warn(msg)\n"
          ]
        },
        {
          "output_type": "stream",
          "name": "stdout",
          "text": [
            "Epoch [1/30] Train Loss: 1.0163 | Train Acc: 71.95% Val Loss: 0.5949 | Val Acc: 82.10%\n",
            "Epoch [2/30] Train Loss: 0.5050 | Train Acc: 86.02% Val Loss: 0.6158 | Val Acc: 84.69%\n",
            "Epoch [3/30] Train Loss: 0.2527 | Train Acc: 90.22% Val Loss: 0.5561 | Val Acc: 85.19%\n",
            "Epoch [4/30] Train Loss: 0.1672 | Train Acc: 93.34% Val Loss: 0.5533 | Val Acc: 86.30%\n",
            "Epoch [5/30] Train Loss: 0.1015 | Train Acc: 95.59% Val Loss: 0.4133 | Val Acc: 88.77%\n",
            "Epoch [6/30] Train Loss: 0.0646 | Train Acc: 97.83% Val Loss: 0.4195 | Val Acc: 88.77%\n",
            "Epoch [7/30] Train Loss: 0.0540 | Train Acc: 98.12% Val Loss: 0.4042 | Val Acc: 88.77%\n",
            "Epoch [8/30] Train Loss: 0.0447 | Train Acc: 98.97% Val Loss: 0.4371 | Val Acc: 90.25%\n",
            "Epoch [9/30] Train Loss: 0.0418 | Train Acc: 98.86% Val Loss: 0.4540 | Val Acc: 89.88%\n",
            "Epoch [10/30] Train Loss: 0.0408 | Train Acc: 98.89% Val Loss: 0.4498 | Val Acc: 90.00%\n",
            "Epoch [11/30] Train Loss: 0.0349 | Train Acc: 98.86% Val Loss: 0.4663 | Val Acc: 90.74%\n",
            "Epoch [12/30] Train Loss: 0.0294 | Train Acc: 99.07% Val Loss: 0.4566 | Val Acc: 89.14%\n",
            "Epoch [13/30] Train Loss: 0.0361 | Train Acc: 98.89% Val Loss: 0.5359 | Val Acc: 87.28%\n",
            "Epoch [14/30] Train Loss: 0.0822 | Train Acc: 96.72% Val Loss: 0.5192 | Val Acc: 89.26%\n",
            "Epoch [15/30] Train Loss: 0.2159 | Train Acc: 92.47% Val Loss: 0.5926 | Val Acc: 87.53%\n",
            "Epoch [16/30] Train Loss: 0.6210 | Train Acc: 85.59% Val Loss: 0.4998 | Val Acc: 86.05%\n",
            "Epoch [17/30] Train Loss: 0.3652 | Train Acc: 88.55% Val Loss: 0.5103 | Val Acc: 84.07%\n",
            "Epoch [18/30] Train Loss: 0.1530 | Train Acc: 93.23% Val Loss: 0.4148 | Val Acc: 89.14%\n",
            "Epoch [19/30] Train Loss: 0.0834 | Train Acc: 96.43% Val Loss: 0.4712 | Val Acc: 89.51%\n",
            "Epoch [20/30] Train Loss: 0.0629 | Train Acc: 97.78% Val Loss: 0.4785 | Val Acc: 88.64%\n",
            "Epoch [21/30] Train Loss: 0.1026 | Train Acc: 95.80% Val Loss: 0.4523 | Val Acc: 89.14%\n",
            "Epoch [22/30] Train Loss: 0.0464 | Train Acc: 98.31% Val Loss: 0.5330 | Val Acc: 88.64%\n",
            "Epoch [23/30] Train Loss: 0.0320 | Train Acc: 98.68% Val Loss: 0.5026 | Val Acc: 89.88%\n",
            "Epoch [24/30] Train Loss: 0.0272 | Train Acc: 99.13% Val Loss: 0.4827 | Val Acc: 90.37%\n",
            "Epoch [25/30] Train Loss: 0.0220 | Train Acc: 99.15% Val Loss: 0.5283 | Val Acc: 89.38%\n",
            "Epoch [26/30] Train Loss: 0.0209 | Train Acc: 99.07% Val Loss: 0.5341 | Val Acc: 90.12%\n",
            "Epoch [27/30] Train Loss: 0.0244 | Train Acc: 99.21% Val Loss: 0.5205 | Val Acc: 89.63%\n",
            "Epoch [28/30] Train Loss: 0.0217 | Train Acc: 99.15% Val Loss: 0.5550 | Val Acc: 89.88%\n",
            "Epoch [29/30] Train Loss: 0.0214 | Train Acc: 99.13% Val Loss: 0.5338 | Val Acc: 89.88%\n",
            "Epoch [30/30] Train Loss: 0.0235 | Train Acc: 98.97% Val Loss: 0.5601 | Val Acc: 89.26%\n",
            "Test Accuracy: 89.08%\n"
          ]
        }
      ]
    },
    {
      "cell_type": "code",
      "metadata": {
        "id": "c17cc135",
        "colab": {
          "base_uri": "https://localhost:8080/"
        },
        "outputId": "d78ec8f5-ef2a-4467-a9d1-240a4af6d3cd"
      },
      "source": [
        "import os\n",
        "import torch\n",
        "import torch.nn as nn\n",
        "import torch.optim as optim\n",
        "from torch.utils.data import DataLoader\n",
        "from torchvision import datasets, transforms, models\n",
        "\n",
        "# ===============================\n",
        "# 1. Data Preprocessing\n",
        "# ===============================\n",
        "data_dir = \"/content/xview2_patches\"\n",
        "train_dir = os.path.join(data_dir, \"train\")\n",
        "val_dir = os.path.join(data_dir, \"val\")\n",
        "test_dir = os.path.join(data_dir, \"test\")\n",
        "\n",
        "transform = transforms.Compose([\n",
        "    transforms.Resize((224, 224)),\n",
        "    transforms.ToTensor(),\n",
        "    transforms.Normalize(mean=[0.485, 0.456, 0.406],\n",
        "                         std=[0.229, 0.224, 0.225])\n",
        "])\n",
        "\n",
        "train_data = datasets.ImageFolder(train_dir, transform=transform)\n",
        "val_data = datasets.ImageFolder(val_dir, transform=transform)\n",
        "test_data = datasets.ImageFolder(test_dir, transform=transform)\n",
        "\n",
        "train_loader = DataLoader(train_data, batch_size=32, shuffle=True)\n",
        "val_loader = DataLoader(val_data, batch_size=32, shuffle=False)\n",
        "test_loader = DataLoader(test_data, batch_size=32, shuffle=False)\n",
        "\n",
        "print(\"Classes:\", train_data.classes)\n",
        "\n",
        "# ===============================\n",
        "# 2. Model Setup (ResNet18)\n",
        "# ===============================\n",
        "device = torch.device(\"cuda\" if torch.cuda.is_available() else \"cpu\")\n",
        "model = models.resnet18(pretrained=True)\n",
        "\n",
        "# Replace final fully connected layer\n",
        "model.fc = nn.Linear(model.fc.in_features, len(train_data.classes))\n",
        "model = model.to(device)\n",
        "\n",
        "# ===============================\n",
        "# 3. Class Weights for Imbalance\n",
        "# ===============================\n",
        "class_weights = torch.tensor([1.8499, 105.8079, 79.5986, 0.2909], device=device)\n",
        "criterion = nn.CrossEntropyLoss(weight=class_weights)\n",
        "optimizer = optim.Adam(model.parameters(), lr=1e-4)\n",
        "\n",
        "# ===============================\n",
        "# 4. Training Function\n",
        "# ===============================\n",
        "def train_model(model, train_loader, val_loader, criterion, optimizer, epochs=50):\n",
        "    best_val_acc = 0.0\n",
        "    best_model_path = \"best_resnet18.pth\"\n",
        "\n",
        "    for epoch in range(epochs):\n",
        "        # Training\n",
        "        model.train()\n",
        "        train_loss, correct, total = 0, 0, 0\n",
        "        for images, labels in train_loader:\n",
        "            images, labels = images.to(device), labels.to(device)\n",
        "\n",
        "            optimizer.zero_grad()\n",
        "            outputs = model(images)\n",
        "            loss = criterion(outputs, labels)\n",
        "            loss.backward()\n",
        "            optimizer.step()\n",
        "\n",
        "            train_loss += loss.item()\n",
        "            _, predicted = torch.max(outputs, 1)\n",
        "            correct += (predicted == labels).sum().item()\n",
        "            total += labels.size(0)\n",
        "\n",
        "        train_acc = 100 * correct / total\n",
        "\n",
        "        # Validation\n",
        "        model.eval()\n",
        "        val_loss, correct, total = 0, 0, 0\n",
        "        with torch.no_grad():\n",
        "            for images, labels in val_loader:\n",
        "                images, labels = images.to(device), labels.to(device)\n",
        "                outputs = model(images)\n",
        "                loss = criterion(outputs, labels)\n",
        "                val_loss += loss.item()\n",
        "                _, predicted = torch.max(outputs, 1)\n",
        "                correct += (predicted == labels).sum().item()\n",
        "                total += labels.size(0)\n",
        "\n",
        "        val_acc = 100 * correct / total\n",
        "\n",
        "        # Save best model\n",
        "        if val_acc > best_val_acc:\n",
        "            best_val_acc = val_acc\n",
        "            torch.save(model.state_dict(), best_model_path)\n",
        "\n",
        "        print(f\"Epoch [{epoch+1}/{epochs}] \"\n",
        "              f\"Train Loss: {train_loss/len(train_loader):.4f} | Train Acc: {train_acc:.2f}% \"\n",
        "              f\"Val Loss: {val_loss/len(val_loader):.4f} | Val Acc: {val_acc:.2f}%\")\n",
        "\n",
        "    print(f\"\\nTraining complete. Best Val Acc: {best_val_acc:.2f}%\")\n",
        "    model.load_state_dict(torch.load(best_model_path))  # load best checkpoint\n",
        "    return model\n",
        "\n",
        "# ===============================\n",
        "# 5. Run Training\n",
        "# ===============================\n",
        "model = train_model(model, train_loader, val_loader, criterion, optimizer, epochs=50)\n",
        "\n",
        "# ===============================\n",
        "# 6. Test Evaluation\n",
        "# ===============================\n",
        "model.eval()\n",
        "correct, total = 0, 0\n",
        "with torch.no_grad():\n",
        "    for images, labels in test_loader:\n",
        "        images, labels = images.to(device), labels.to(device)\n",
        "        outputs = model(images)\n",
        "        _, predicted = torch.max(outputs, 1)\n",
        "        correct += (predicted == labels).sum().item()\n",
        "        total += labels.size(0)\n",
        "\n",
        "print(f\"Test Accuracy: {100 * correct / total:.2f}%\")\n"
      ],
      "execution_count": null,
      "outputs": [
        {
          "metadata": {
            "tags": null
          },
          "name": "stderr",
          "output_type": "stream",
          "text": [
            "/usr/local/lib/python3.12/dist-packages/torchvision/models/_utils.py:208: UserWarning: The parameter 'pretrained' is deprecated since 0.13 and may be removed in the future, please use 'weights' instead.\n",
            "  warnings.warn(\n",
            "/usr/local/lib/python3.12/dist-packages/torchvision/models/_utils.py:223: UserWarning: Arguments other than a weight enum or `None` for 'weights' are deprecated since 0.13 and may be removed in the future. The current behavior is equivalent to passing `weights=ResNet18_Weights.IMAGENET1K_V1`. You can also use `weights=ResNet18_Weights.DEFAULT` to get the most up-to-date weights.\n",
            "  warnings.warn(msg)\n"
          ]
        },
        {
          "metadata": {
            "tags": null
          },
          "name": "stdout",
          "output_type": "stream",
          "text": [
            "Classes: ['destroyed', 'major-damage', 'minor-damage', 'no-damage']\n",
            "Downloading: \"https://download.pytorch.org/models/resnet18-f37072fd.pth\" to /root/.cache/torch/hub/checkpoints/resnet18-f37072fd.pth\n"
          ]
        },
        {
          "metadata": {
            "tags": null
          },
          "name": "stderr",
          "output_type": "stream",
          "text": [
            "100%|██████████| 44.7M/44.7M [00:00<00:00, 203MB/s]\n"
          ]
        },
        {
          "output_type": "stream",
          "name": "stdout",
          "text": [
            "Epoch [1/50] Train Loss: 0.9423 | Train Acc: 70.55% Val Loss: 0.7341 | Val Acc: 67.21%\n",
            "Epoch [2/50] Train Loss: 0.8645 | Train Acc: 72.19% Val Loss: 0.6422 | Val Acc: 75.59%\n",
            "Epoch [3/50] Train Loss: 0.8035 | Train Acc: 72.95% Val Loss: 0.6321 | Val Acc: 71.61%\n",
            "Epoch [4/50] Train Loss: 0.7528 | Train Acc: 72.05% Val Loss: 0.6110 | Val Acc: 72.90%\n",
            "Epoch [5/50] Train Loss: 0.6931 | Train Acc: 72.51% Val Loss: 0.6206 | Val Acc: 74.12%\n",
            "Epoch [6/50] Train Loss: 0.6253 | Train Acc: 73.58% Val Loss: 0.6091 | Val Acc: 71.16%\n",
            "Epoch [7/50] Train Loss: 0.5559 | Train Acc: 73.92% Val Loss: 0.5650 | Val Acc: 76.57%\n",
            "Epoch [8/50] Train Loss: 0.4887 | Train Acc: 75.69% Val Loss: 0.6186 | Val Acc: 72.82%\n",
            "Epoch [9/50] Train Loss: 0.4264 | Train Acc: 76.92% Val Loss: 0.7377 | Val Acc: 63.64%\n",
            "Epoch [10/50] Train Loss: 0.4554 | Train Acc: 76.50% Val Loss: 0.5859 | Val Acc: 73.85%\n",
            "Epoch [11/50] Train Loss: 0.3855 | Train Acc: 78.93% Val Loss: 0.5262 | Val Acc: 77.96%\n",
            "Epoch [12/50] Train Loss: 0.3589 | Train Acc: 79.93% Val Loss: 0.6180 | Val Acc: 73.40%\n",
            "Epoch [13/50] Train Loss: 0.3325 | Train Acc: 81.35% Val Loss: 0.5644 | Val Acc: 76.56%\n",
            "Epoch [14/50] Train Loss: 0.3125 | Train Acc: 82.46% Val Loss: 0.6126 | Val Acc: 75.53%\n",
            "Epoch [15/50] Train Loss: 0.3372 | Train Acc: 81.88% Val Loss: 0.5880 | Val Acc: 76.06%\n",
            "Epoch [16/50] Train Loss: 0.3085 | Train Acc: 83.12% Val Loss: 0.6450 | Val Acc: 75.27%\n",
            "Epoch [17/50] Train Loss: 0.2679 | Train Acc: 84.56% Val Loss: 0.6565 | Val Acc: 74.55%\n",
            "Epoch [18/50] Train Loss: 0.2787 | Train Acc: 84.36% Val Loss: 0.6472 | Val Acc: 76.60%\n",
            "Epoch [19/50] Train Loss: 0.2738 | Train Acc: 84.52% Val Loss: 0.6422 | Val Acc: 77.81%\n",
            "Epoch [20/50] Train Loss: 0.2589 | Train Acc: 85.44% Val Loss: 0.6505 | Val Acc: 76.58%\n",
            "Epoch [21/50] Train Loss: 0.2742 | Train Acc: 85.06% Val Loss: 0.6341 | Val Acc: 77.46%\n",
            "Epoch [22/50] Train Loss: 0.2503 | Train Acc: 86.00% Val Loss: 0.7213 | Val Acc: 77.74%\n",
            "Epoch [23/50] Train Loss: 0.2350 | Train Acc: 86.57% Val Loss: 0.6584 | Val Acc: 76.99%\n",
            "Epoch [24/50] Train Loss: 0.2302 | Train Acc: 86.71% Val Loss: 0.6737 | Val Acc: 75.75%\n",
            "Epoch [25/50] Train Loss: 0.2381 | Train Acc: 86.49% Val Loss: 0.6890 | Val Acc: 72.82%\n",
            "Epoch [26/50] Train Loss: 0.2309 | Train Acc: 86.82% Val Loss: 0.7435 | Val Acc: 78.64%\n",
            "Epoch [27/50] Train Loss: 0.2341 | Train Acc: 86.75% Val Loss: 0.7110 | Val Acc: 77.48%\n",
            "Epoch [28/50] Train Loss: 0.2397 | Train Acc: 86.74% Val Loss: 0.6931 | Val Acc: 77.07%\n",
            "Epoch [29/50] Train Loss: 0.2384 | Train Acc: 87.00% Val Loss: 0.7707 | Val Acc: 77.93%\n",
            "Epoch [30/50] Train Loss: 0.2206 | Train Acc: 87.50% Val Loss: 0.7408 | Val Acc: 77.43%\n",
            "Epoch [31/50] Train Loss: 0.2157 | Train Acc: 87.73% Val Loss: 0.9364 | Val Acc: 78.40%\n",
            "Epoch [32/50] Train Loss: 0.2361 | Train Acc: 86.91% Val Loss: 0.7948 | Val Acc: 78.76%\n",
            "Epoch [33/50] Train Loss: 0.2030 | Train Acc: 88.09% Val Loss: 0.8535 | Val Acc: 78.29%\n",
            "Epoch [34/50] Train Loss: 0.2119 | Train Acc: 87.83% Val Loss: 0.7797 | Val Acc: 78.05%\n",
            "Epoch [35/50] Train Loss: 0.2112 | Train Acc: 88.11% Val Loss: 0.8214 | Val Acc: 77.57%\n",
            "Epoch [36/50] Train Loss: 0.2197 | Train Acc: 87.58% Val Loss: 0.7846 | Val Acc: 76.62%\n",
            "Epoch [37/50] Train Loss: 0.2117 | Train Acc: 88.02% Val Loss: 0.8355 | Val Acc: 77.19%\n",
            "Epoch [38/50] Train Loss: 0.2002 | Train Acc: 88.53% Val Loss: 0.8231 | Val Acc: 76.48%\n",
            "Epoch [39/50] Train Loss: 0.2190 | Train Acc: 87.95% Val Loss: 0.8593 | Val Acc: 76.31%\n",
            "Epoch [40/50] Train Loss: 0.2118 | Train Acc: 88.15% Val Loss: 0.8445 | Val Acc: 77.71%\n",
            "Epoch [41/50] Train Loss: 0.1923 | Train Acc: 88.90% Val Loss: 0.9166 | Val Acc: 76.85%\n",
            "Epoch [42/50] Train Loss: 0.1936 | Train Acc: 88.92% Val Loss: 0.8699 | Val Acc: 76.27%\n",
            "Epoch [43/50] Train Loss: 0.1942 | Train Acc: 88.75% Val Loss: 0.8286 | Val Acc: 74.22%\n",
            "Epoch [44/50] Train Loss: 0.2011 | Train Acc: 88.67% Val Loss: 0.8403 | Val Acc: 75.84%\n",
            "Epoch [45/50] Train Loss: 0.1953 | Train Acc: 88.88% Val Loss: 0.9366 | Val Acc: 76.85%\n",
            "Epoch [46/50] Train Loss: 0.2109 | Train Acc: 88.44% Val Loss: 0.8444 | Val Acc: 74.88%\n",
            "Epoch [47/50] Train Loss: 0.1995 | Train Acc: 88.74% Val Loss: 1.0146 | Val Acc: 75.62%\n",
            "Epoch [48/50] Train Loss: 0.1841 | Train Acc: 89.45% Val Loss: 0.9725 | Val Acc: 76.50%\n",
            "Epoch [49/50] Train Loss: 0.1869 | Train Acc: 89.49% Val Loss: 0.8335 | Val Acc: 76.10%\n",
            "Epoch [50/50] Train Loss: 0.1908 | Train Acc: 89.28% Val Loss: 1.0151 | Val Acc: 76.45%\n",
            "\n",
            "Training complete. Best Val Acc: 78.76%\n",
            "Test Accuracy: 78.60%\n"
          ]
        }
      ]
    },
    {
      "cell_type": "code",
      "source": [
        "import matplotlib.pyplot as plt\n",
        "import random\n",
        "import torch\n",
        "from torchvision import transforms\n",
        "from PIL import Image\n",
        "import os\n",
        "\n",
        "# === Same transforms as training ===\n",
        "transform = transforms.Compose([\n",
        "    transforms.Resize((224, 224)),\n",
        "    transforms.ToTensor(),\n",
        "    transforms.Normalize(mean=[0.485, 0.456, 0.406],\n",
        "                         std=[0.229, 0.224, 0.225])\n",
        "])\n",
        "\n",
        "# Class names (taken from train dataset)\n",
        "class_names = train_data.classes\n",
        "print(\"Class mapping:\", dict(enumerate(class_names)))\n",
        "\n",
        "# Function to predict a single image\n",
        "def predict_image(img_path, model, transform, device):\n",
        "    image = Image.open(img_path).convert(\"RGB\")\n",
        "    input_tensor = transform(image).unsqueeze(0).to(device)\n",
        "    model.eval()\n",
        "    with torch.no_grad():\n",
        "        outputs = model(input_tensor)\n",
        "        _, pred = torch.max(outputs, 1)\n",
        "    return class_names[pred.item()]\n",
        "\n",
        "# === Pick random samples from test set ===\n",
        "test_root = test_dir  # \"/content/xview2_patches/test\"\n",
        "sample_images = []\n",
        "\n",
        "for class_folder in os.listdir(test_root):\n",
        "    folder_path = os.path.join(test_root, class_folder)\n",
        "    if os.path.isdir(folder_path):\n",
        "        files = os.listdir(folder_path)\n",
        "        if files:\n",
        "            # pick 2 random images per class\n",
        "            sample_images += [os.path.join(folder_path, f) for f in random.sample(files, min(2, len(files)))]\n",
        "\n",
        "# === Show predictions ===\n",
        "plt.figure(figsize=(12, 8))\n",
        "for i, img_path in enumerate(sample_images[:8]):  # show max 8 images\n",
        "    true_label = os.path.basename(os.path.dirname(img_path))\n",
        "    pred_label = predict_image(img_path, model, transform, device)\n",
        "\n",
        "    image = Image.open(img_path)\n",
        "\n",
        "    plt.subplot(2, 4, i+1)\n",
        "    plt.imshow(image)\n",
        "    plt.title(f\"T: {true_label}\\nP: {pred_label}\", fontsize=10)\n",
        "    plt.axis(\"off\")\n",
        "\n",
        "plt.tight_layout()\n",
        "plt.show()\n"
      ],
      "metadata": {
        "colab": {
          "base_uri": "https://localhost:8080/",
          "height": 674
        },
        "id": "oY__jZr0h4-8",
        "outputId": "321d8aa1-c925-4326-f09d-5c302fdaf16c"
      },
      "execution_count": null,
      "outputs": [
        {
          "output_type": "stream",
          "name": "stdout",
          "text": [
            "Class mapping: {0: 'destroyed', 1: 'major-damage', 2: 'minor-damage', 3: 'no-damage'}\n"
          ]
        },
        {
          "output_type": "display_data",
          "data": {
            "text/plain": [
              "<Figure size 1200x800 with 8 Axes>"
            ],
            "image/png": "[encoded data removed]"
          },
          "metadata": {}
        }
      ]
    },
    {
      "cell_type": "code",
      "source": [
        "from sklearn.metrics import classification_report, confusion_matrix, accuracy_score\n",
        "\n",
        "# Collect predictions & true labels\n",
        "all_preds, all_labels = [], []\n",
        "model.eval()\n",
        "with torch.no_grad():\n",
        "    for images, labels in test_loader:\n",
        "        images, labels = images.to(device), labels.to(device)\n",
        "        outputs = model(images)\n",
        "        _, preds = torch.max(outputs, 1)\n",
        "        all_preds.extend(preds.cpu().numpy())\n",
        "        all_labels.extend(labels.cpu().numpy())\n",
        "\n",
        "# Overall Accuracy\n",
        "acc = accuracy_score(all_labels, all_preds)\n",
        "print(f\"\\n✅ Test Accuracy: {acc*100:.2f}%\\n\")\n",
        "\n",
        "# Detailed classification report\n",
        "print(\"📊 Classification Report:\")\n",
        "print(classification_report(all_labels, all_preds, target_names=class_names))\n",
        "\n",
        "# Confusion Matrix\n",
        "print(\"📌 Confusion Matrix:\")\n",
        "print(confusion_matrix(all_labels, all_preds))\n"
      ],
      "metadata": {
        "colab": {
          "base_uri": "https://localhost:8080/"
        },
        "id": "_8cYZ5vmnaiw",
        "outputId": "01c62531-73a5-41db-8c80-50e8e6263196"
      },
      "execution_count": null,
      "outputs": [
        {
          "output_type": "stream",
          "name": "stdout",
          "text": [
            "\n",
            "✅ Test Accuracy: 78.60%\n",
            "\n",
            "📊 Classification Report:\n",
            "              precision    recall  f1-score   support\n",
            "\n",
            "   destroyed       0.33      0.49      0.39      1005\n",
            "major-damage       0.04      0.05      0.04        19\n",
            "minor-damage       0.00      0.00      0.00        24\n",
            "   no-damage       0.91      0.84      0.87      6392\n",
            "\n",
            "    accuracy                           0.79      7440\n",
            "   macro avg       0.32      0.34      0.33      7440\n",
            "weighted avg       0.82      0.79      0.80      7440\n",
            "\n",
            "📌 Confusion Matrix:\n",
            "[[ 490    4    1  510]\n",
            " [   2    1    0   16]\n",
            " [   2    0    0   22]\n",
            " [ 993   21   21 5357]]\n"
          ]
        }
      ]
    },
    {
      "cell_type": "code",
      "source": [
        "import os\n",
        "\n",
        "# Dataset base path\n",
        "data_dir = \"/content/xview2_patches\"\n",
        "\n",
        "splits = [\"train\", \"val\", \"test\"]\n",
        "\n",
        "for split in splits:\n",
        "    split_path = os.path.join(data_dir, split)\n",
        "    print(f\"\\n📂 Split: {split}\")\n",
        "\n",
        "    total = 0\n",
        "    if os.path.exists(split_path):\n",
        "        for cls in os.listdir(split_path):\n",
        "            cls_path = os.path.join(split_path, cls)\n",
        "            if os.path.isdir(cls_path):\n",
        "                count = len([f for f in os.listdir(cls_path) if f.endswith((\".png\", \".jpg\", \".jpeg\"))])\n",
        "                print(f\"   {cls}: {count}\")\n",
        "                total += count\n",
        "        print(f\"➡️ Total {split}: {total} images\")\n",
        "    else:\n",
        "        print(\"   (Split folder not found)\")\n"
      ],
      "metadata": {
        "id": "bVzmaxj8natm",
        "colab": {
          "base_uri": "https://localhost:8080/"
        },
        "outputId": "a054740c-3ad3-4b61-9f25-0f5950f976bc"
      },
      "execution_count": null,
      "outputs": [
        {
          "output_type": "stream",
          "name": "stdout",
          "text": [
            "\n",
            "📂 Split: train\n",
            "   major-damage: 82\n",
            "   minor-damage: 109\n",
            "   destroyed: 4690\n",
            "   no-damage: 29824\n",
            "➡️ Total train: 34705 images\n",
            "\n",
            "📂 Split: val\n",
            "   major-damage: 17\n",
            "   minor-damage: 23\n",
            "   destroyed: 1005\n",
            "   no-damage: 6390\n",
            "➡️ Total val: 7435 images\n",
            "\n",
            "📂 Split: test\n",
            "   major-damage: 19\n",
            "   minor-damage: 24\n",
            "   destroyed: 1005\n",
            "   no-damage: 6392\n",
            "➡️ Total test: 7440 images\n"
          ]
        }
      ]
    }
  ]
}